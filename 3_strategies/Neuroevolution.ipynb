{
 "cells": [
  {
   "cell_type": "markdown",
   "metadata": {
    "slideshow": {
     "slide_type": "slide"
    }
   },
   "source": [
    "<img src=\"https://github.com/d9w/evolution/raw/master/imgs/logo.png\" width=\"20%\" align=\"right\" style=\"margin:0px 20px\">\n",
    "\n",
    "\n",
    "# Evolutionary Algorithms\n",
    "\n",
    "## Evolving Neural Networks with ES\n",
    "\n",
    "<a rel=\"license\" href=\"http://creativecommons.org/licenses/by-sa/4.0/\"><img alt=\"Creative Commons License\" align=\"left\" src=\"https://i.creativecommons.org/l/by-sa/4.0/80x15.png\" /></a>&nbsp;| Dennis G. Wilson | <a href=\"https://d9w.github.io/evolution/\">https://d9w.github.io/evolution/</a>"
   ]
  },
  {
   "cell_type": "markdown",
   "metadata": {
    "slideshow": {
     "slide_type": "slide"
    }
   },
   "source": [
    "In order to visualize the environment in this notebook, you will need to install the following:"
   ]
  },
  {
   "cell_type": "code",
   "execution_count": 1,
   "metadata": {
    "slideshow": {
     "slide_type": "fragment"
    }
   },
   "outputs": [],
   "source": [
    "#!apt-get install -y xvfb python-opengl > /dev/null 2>&1"
   ]
  },
  {
   "cell_type": "code",
   "execution_count": 2,
   "metadata": {
    "slideshow": {
     "slide_type": "fragment"
    }
   },
   "outputs": [],
   "source": [
    "#!pip install cma pyvirtualdisplay gym[box2d] pygame"
   ]
  },
  {
   "cell_type": "code",
   "execution_count": 3,
   "metadata": {},
   "outputs": [],
   "source": [
    "# pip install torch"
   ]
  },
  {
   "cell_type": "code",
   "execution_count": 4,
   "metadata": {},
   "outputs": [],
   "source": [
    "# pip install numpy"
   ]
  },
  {
   "cell_type": "code",
   "execution_count": 5,
   "metadata": {},
   "outputs": [],
   "source": [
    "# pip install gym"
   ]
  },
  {
   "cell_type": "code",
   "execution_count": 6,
   "metadata": {},
   "outputs": [],
   "source": [
    "# pip install pyvirtualdisplay"
   ]
  },
  {
   "cell_type": "code",
   "execution_count": 7,
   "metadata": {},
   "outputs": [],
   "source": [
    "# pip install matplotlib"
   ]
  },
  {
   "cell_type": "code",
   "execution_count": 8,
   "metadata": {},
   "outputs": [],
   "source": [
    "# pip install swig"
   ]
  },
  {
   "cell_type": "code",
   "execution_count": 9,
   "metadata": {},
   "outputs": [],
   "source": [
    "# pip install box2d pygame"
   ]
  },
  {
   "cell_type": "code",
   "execution_count": 10,
   "metadata": {},
   "outputs": [],
   "source": [
    "# pip install box2d box2d-kengz"
   ]
  },
  {
   "cell_type": "code",
   "execution_count": 11,
   "metadata": {},
   "outputs": [],
   "source": [
    "# pip install cma"
   ]
  },
  {
   "cell_type": "markdown",
   "metadata": {
    "slideshow": {
     "slide_type": "slide"
    }
   },
   "source": [
    "# <a name=\"neuroevolution\">3.</a> ES for Neuroevolution"
   ]
  },
  {
   "cell_type": "markdown",
   "metadata": {
    "slideshow": {
     "slide_type": "fragment"
    }
   },
   "source": [
    "Evolutionary strategies are intended for continuous optimization and can easily be applied to the optimization of neural network parameters, or *neuroevolution*. "
   ]
  },
  {
   "cell_type": "code",
   "execution_count": 12,
   "metadata": {
    "slideshow": {
     "slide_type": "fragment"
    }
   },
   "outputs": [],
   "source": [
    "import torch\n",
    "import torch.nn as nn\n",
    "import torch.nn.functional as F\n",
    "import torch.multiprocessing as mp\n",
    "import numpy as np\n",
    "import gym"
   ]
  },
  {
   "cell_type": "code",
   "execution_count": 13,
   "metadata": {
    "slideshow": {
     "slide_type": "slide"
    }
   },
   "outputs": [],
   "source": [
    "class NeuralNetwork(nn.Module):\n",
    "\n",
    "    def __init__(self, input_shape, n_actions):\n",
    "        super(NeuralNetwork, self).__init__()\n",
    "        self.l1 = nn.Linear(input_shape, 32)\n",
    "        self.l2 = nn.Linear(32, 32)\n",
    "        self.l3 = nn.Linear(32, 32)\n",
    "        self.l4 = nn.Linear(32, 32)\n",
    "        self.lout = nn.Linear(32, n_actions)\n",
    "        \n",
    "    def forward(self, x):\n",
    "        x = F.relu(self.l1(x.float()))\n",
    "        x = F.relu(self.l2(x))\n",
    "        x = F.relu(self.l3(x))\n",
    "        x = F.relu(self.l4(x))\n",
    "        return self.lout(x)\n",
    "    \n",
    "    def get_params(self):\n",
    "        p = np.empty((0,))\n",
    "        for n in self.parameters():\n",
    "            p = np.append(p, n.flatten().cpu().detach().numpy())\n",
    "        return p\n",
    "    \n",
    "    def set_params(self, x):\n",
    "        start = 0\n",
    "        for p in self.parameters():\n",
    "            e = start + np.prod(p.shape)\n",
    "            p.data = torch.FloatTensor(x[start:e]).reshape(p.shape)\n",
    "            start = e"
   ]
  },
  {
   "cell_type": "markdown",
   "metadata": {
    "slideshow": {
     "slide_type": "slide"
    }
   },
   "source": [
    "We'll add some visualization functionality to have the environment render directly in the notebook."
   ]
  },
  {
   "cell_type": "code",
   "execution_count": 14,
   "metadata": {
    "slideshow": {
     "slide_type": "fragment"
    }
   },
   "outputs": [],
   "source": [
    "from pyvirtualdisplay import Display\n",
    "from IPython import display\n",
    "import matplotlib.pyplot as plt\n",
    "%matplotlib inline\n",
    "pydisplay = Display(visible=0, size=(1400, 900))\n",
    "pydisplay.start()\n",
    "plt.ion();"
   ]
  },
  {
   "cell_type": "markdown",
   "metadata": {
    "slideshow": {
     "slide_type": "slide"
    }
   },
   "source": [
    "Following the framework of evolutionary policy search, we will optimize a neural network representing a policy and maximize the total reward over a single episode using this policy."
   ]
  },
  {
   "cell_type": "code",
   "execution_count": 15,
   "metadata": {
    "slideshow": {
     "slide_type": "fragment"
    }
   },
   "outputs": [],
   "source": [
    "def evaluate(ann, env, visul=True):\n",
    "    obs, info = env.reset(seed=0)\n",
    "    if visul:\n",
    "        img = plt.imshow(env.render())\n",
    "    total_reward = 0\n",
    "    while True:\n",
    "        # Output of the neural net\n",
    "        net_output = ann(torch.tensor(obs))\n",
    "        # the action is the value clipped returned by the nn\n",
    "        action = net_output.data.cpu().numpy().argmax()\n",
    "        obs, reward, done, truncated, info = env.step(action)\n",
    "        total_reward += reward\n",
    "        if visul:\n",
    "            img.set_data(env.render())\n",
    "            plt.axis('off')\n",
    "            display.display(plt.gcf())\n",
    "            display.clear_output(wait=True)\n",
    "        if done:\n",
    "            break\n",
    "    return total_reward"
   ]
  },
  {
   "cell_type": "markdown",
   "metadata": {
    "slideshow": {
     "slide_type": "slide"
    }
   },
   "source": [
    "We've configured this for discrete action spaces. We can see a random neural network on different environments like `CartPole-v0`, `MountainCar-v0`, and `LunarLander-v2`."
   ]
  },
  {
   "cell_type": "code",
   "execution_count": 16,
   "metadata": {},
   "outputs": [],
   "source": [
    "env = gym.make('LunarLander-v2', render_mode=\"rgb_array\")\n",
    "# env = gym.make('CartPole-v0', render_mode=\"rgb_array\")\n",
    "# env = gym.make('MountainCar-v0', render_mode='rgb_array')\n",
    "ann = NeuralNetwork(env.observation_space.shape[0], env.action_space.n)"
   ]
  },
  {
   "cell_type": "code",
   "execution_count": 17,
   "metadata": {},
   "outputs": [
    {
     "data": {
      "text/plain": [
       "-431.44026744441936"
      ]
     },
     "execution_count": 17,
     "metadata": {},
     "output_type": "execute_result"
    },
    {
     "data": {
      "image/png": "[encoded data removed]",
      "text/plain": [
       "<Figure size 640x480 with 1 Axes>"
      ]
     },
     "metadata": {},
     "output_type": "display_data"
    }
   ],
   "source": [
    "evaluate(ann, env, visul=True)"
   ]
  },
  {
   "cell_type": "markdown",
   "metadata": {
    "slideshow": {
     "slide_type": "slide"
    }
   },
   "source": [
    "In order to evolve the parameters of this neural network, we will modify the parameters of the network using `set_params` with the genes of the new individual. In the evolutionary literature, this is referred to as a *direct encoding* as the neural network parameters are directly encoded in the genome."
   ]
  },
  {
   "cell_type": "code",
   "execution_count": 18,
   "metadata": {
    "slideshow": {
     "slide_type": "fragment"
    }
   },
   "outputs": [],
   "source": [
    "def fitness(x, ann, env, visul=False):\n",
    "    ann.set_params(x)\n",
    "    return -evaluate(ann, env, visul=visul)"
   ]
  },
  {
   "cell_type": "code",
   "execution_count": 19,
   "metadata": {
    "slideshow": {
     "slide_type": "fragment"
    }
   },
   "outputs": [
    {
     "data": {
      "text/plain": [
       "(3588,)"
      ]
     },
     "execution_count": 19,
     "metadata": {},
     "output_type": "execute_result"
    }
   ],
   "source": [
    "p = ann.get_params()\n",
    "np.shape(p)"
   ]
  },
  {
   "cell_type": "markdown",
   "metadata": {
    "slideshow": {
     "slide_type": "slide"
    }
   },
   "source": [
    "We can first observe a random individual $x$."
   ]
  },
  {
   "cell_type": "code",
   "execution_count": 20,
   "metadata": {
    "slideshow": {
     "slide_type": "fragment"
    }
   },
   "outputs": [
    {
     "data": {
      "text/plain": [
       "-327.49826784486834"
      ]
     },
     "execution_count": 20,
     "metadata": {},
     "output_type": "execute_result"
    },
    {
     "data": {
      "image/png": "[encoded data removed]",
      "text/plain": [
       "<Figure size 640x480 with 1 Axes>"
      ]
     },
     "metadata": {},
     "output_type": "display_data"
    }
   ],
   "source": [
    "x = np.random.rand(len(p))\n",
    "-fitness(x, ann, env, visul=True)"
   ]
  },
  {
   "cell_type": "markdown",
   "metadata": {},
   "source": [
    "Let's try optimizing the policy using the simple $(\\mu, \\lambda)$ ES we proposed."
   ]
  },
  {
   "cell_type": "code",
   "execution_count": 21,
   "metadata": {
    "slideshow": {
     "slide_type": "slide"
    }
   },
   "outputs": [],
   "source": [
    "def mu_lambda(x, fitness, gens=200, lam=10, alpha=0.2, verbose=False):\n",
    "    x_best = x\n",
    "    f_best = fitness(x)\n",
    "    fits = np.zeros(gens)\n",
    "    for g in range(gens):\n",
    "        N = np.random.normal(size=(lam, len(x)))\n",
    "        F = np.zeros(lam)\n",
    "        for i in range(lam):\n",
    "            ind = x + N[i, :]\n",
    "            F[i] = fitness(ind)\n",
    "            if F[i] < f_best:\n",
    "                f_best = F[i]\n",
    "                x_best = ind\n",
    "                if verbose:\n",
    "                    print(g, \" \", f_best)\n",
    "        fits[g] = f_best\n",
    "        mu_f = np.mean(F)\n",
    "        std_f = np.std(F)\n",
    "        A = F\n",
    "        if std_f != 0:\n",
    "            A = (F - mu_f) / std_f\n",
    "        x = x - alpha * np.dot(A, N) / lam\n",
    "    return fits, x_best"
   ]
  },
  {
   "cell_type": "code",
   "execution_count": 22,
   "metadata": {
    "slideshow": {
     "slide_type": "slide"
    }
   },
   "outputs": [
    {
     "name": "stdout",
     "output_type": "stream",
     "text": [
      "1   104.74222821229299\n",
      "2   101.96701820160216\n",
      "12   94.5576016344232\n",
      "27   91.77882146406205\n",
      "34   90.8352478284078\n",
      "37   12.52383394403357\n"
     ]
    }
   ],
   "source": [
    "# np.random.seed(654)\n",
    "# env = gym.make('CartPole-v0', render_mode='rgb_array')\n",
    "# env = gym.make('MountainCar-v0', render_mode='rgb_array')\n",
    "env = gym.make('LunarLander-v2', render_mode='rgb_array')\n",
    "ann = NeuralNetwork(env.observation_space.shape[0], env.action_space.n)\n",
    "x = np.random.randn(len(ann.get_params()))\n",
    "f = lambda x : fitness(x, ann, env)\n",
    "fits, x = mu_lambda(x, f, gens=200, lam=10, alpha=0.2, verbose=True)"
   ]
  },
  {
   "cell_type": "code",
   "execution_count": 23,
   "metadata": {},
   "outputs": [
    {
     "data": {
      "text/plain": [
       "array([119.05959591, 104.74222821, 101.9670182 , 101.9670182 ,\n",
       "       101.9670182 , 101.9670182 , 101.9670182 , 101.9670182 ,\n",
       "       101.9670182 , 101.9670182 , 101.9670182 , 101.9670182 ,\n",
       "        94.55760163,  94.55760163,  94.55760163,  94.55760163,\n",
       "        94.55760163,  94.55760163,  94.55760163,  94.55760163,\n",
       "        94.55760163,  94.55760163,  94.55760163,  94.55760163,\n",
       "        94.55760163,  94.55760163,  94.55760163,  91.77882146,\n",
       "        91.77882146,  91.77882146,  91.77882146,  91.77882146,\n",
       "        91.77882146,  91.77882146,  90.83524783,  90.83524783,\n",
       "        90.83524783,  12.52383394,  12.52383394,  12.52383394,\n",
       "        12.52383394,  12.52383394,  12.52383394,  12.52383394,\n",
       "        12.52383394,  12.52383394,  12.52383394,  12.52383394,\n",
       "        12.52383394,  12.52383394,  12.52383394,  12.52383394,\n",
       "        12.52383394,  12.52383394,  12.52383394,  12.52383394,\n",
       "        12.52383394,  12.52383394,  12.52383394,  12.52383394,\n",
       "        12.52383394,  12.52383394,  12.52383394,  12.52383394,\n",
       "        12.52383394,  12.52383394,  12.52383394,  12.52383394,\n",
       "        12.52383394,  12.52383394,  12.52383394,  12.52383394,\n",
       "        12.52383394,  12.52383394,  12.52383394,  12.52383394,\n",
       "        12.52383394,  12.52383394,  12.52383394,  12.52383394,\n",
       "        12.52383394,  12.52383394,  12.52383394,  12.52383394,\n",
       "        12.52383394,  12.52383394,  12.52383394,  12.52383394,\n",
       "        12.52383394,  12.52383394,  12.52383394,  12.52383394,\n",
       "        12.52383394,  12.52383394,  12.52383394,  12.52383394,\n",
       "        12.52383394,  12.52383394,  12.52383394,  12.52383394,\n",
       "        12.52383394,  12.52383394,  12.52383394,  12.52383394,\n",
       "        12.52383394,  12.52383394,  12.52383394,  12.52383394,\n",
       "        12.52383394,  12.52383394,  12.52383394,  12.52383394,\n",
       "        12.52383394,  12.52383394,  12.52383394,  12.52383394,\n",
       "        12.52383394,  12.52383394,  12.52383394,  12.52383394,\n",
       "        12.52383394,  12.52383394,  12.52383394,  12.52383394,\n",
       "        12.52383394,  12.52383394,  12.52383394,  12.52383394,\n",
       "        12.52383394,  12.52383394,  12.52383394,  12.52383394,\n",
       "        12.52383394,  12.52383394,  12.52383394,  12.52383394,\n",
       "        12.52383394,  12.52383394,  12.52383394,  12.52383394,\n",
       "        12.52383394,  12.52383394,  12.52383394,  12.52383394,\n",
       "        12.52383394,  12.52383394,  12.52383394,  12.52383394,\n",
       "        12.52383394,  12.52383394,  12.52383394,  12.52383394,\n",
       "        12.52383394,  12.52383394,  12.52383394,  12.52383394,\n",
       "        12.52383394,  12.52383394,  12.52383394,  12.52383394,\n",
       "        12.52383394,  12.52383394,  12.52383394,  12.52383394,\n",
       "        12.52383394,  12.52383394,  12.52383394,  12.52383394,\n",
       "        12.52383394,  12.52383394,  12.52383394,  12.52383394,\n",
       "        12.52383394,  12.52383394,  12.52383394,  12.52383394,\n",
       "        12.52383394,  12.52383394,  12.52383394,  12.52383394,\n",
       "        12.52383394,  12.52383394,  12.52383394,  12.52383394,\n",
       "        12.52383394,  12.52383394,  12.52383394,  12.52383394,\n",
       "        12.52383394,  12.52383394,  12.52383394,  12.52383394,\n",
       "        12.52383394,  12.52383394,  12.52383394,  12.52383394,\n",
       "        12.52383394,  12.52383394,  12.52383394,  12.52383394])"
      ]
     },
     "execution_count": 23,
     "metadata": {},
     "output_type": "execute_result"
    }
   ],
   "source": [
    "fits"
   ]
  },
  {
   "cell_type": "markdown",
   "metadata": {},
   "source": [
    "If all the individuals in a generation perform the same, this proves that there is diversity loss. Diversity loss leads to progress stagnation"
   ]
  },
  {
   "cell_type": "code",
   "execution_count": 24,
   "metadata": {},
   "outputs": [
    {
     "data": {
      "image/png": "[encoded data removed]",
      "text/plain": [
       "<Figure size 640x480 with 1 Axes>"
      ]
     },
     "metadata": {},
     "output_type": "display_data"
    }
   ],
   "source": [
    "plt.plot(fits);"
   ]
  },
  {
   "cell_type": "code",
   "execution_count": 25,
   "metadata": {
    "slideshow": {
     "slide_type": "fragment"
    }
   },
   "outputs": [
    {
     "data": {
      "text/plain": [
       "-12.52383394403357"
      ]
     },
     "execution_count": 25,
     "metadata": {},
     "output_type": "execute_result"
    },
    {
     "data": {
      "image/png": "[encoded data removed]",
      "text/plain": [
       "<Figure size 640x480 with 1 Axes>"
      ]
     },
     "metadata": {},
     "output_type": "display_data"
    }
   ],
   "source": [
    "-fitness(x, ann, env, visul=True)"
   ]
  },
  {
   "cell_type": "markdown",
   "metadata": {
    "slideshow": {
     "slide_type": "slide"
    }
   },
   "source": [
    "# CMA-ES for Neuroevolution"
   ]
  },
  {
   "cell_type": "markdown",
   "metadata": {
    "slideshow": {
     "slide_type": "slide"
    }
   },
   "source": [
    "We will now use CMA-ES for the Lunar Lander problem"
   ]
  },
  {
   "cell_type": "code",
   "execution_count": 26,
   "metadata": {
    "slideshow": {
     "slide_type": "fragment"
    }
   },
   "outputs": [
    {
     "name": "stdout",
     "output_type": "stream",
     "text": [
      "(14_w,28)-aCMA-ES (mu_w=8.1,w_1=21%) in dimension 3588 (seed=947782, Fri Apr 12 00:18:41 2024)\n"
     ]
    }
   ],
   "source": [
    "import cma\n",
    "# np.random.seed(123)\n",
    "env = gym.make('LunarLander-v2', render_mode='rgb_array')\n",
    "ann = NeuralNetwork(env.observation_space.shape[0], env.action_space.n)\n",
    "# es = cma.CMAEvolutionStrategy(len(ann.get_params()) * [0], 0.2, {'seed': 123})\n",
    "es = cma.CMAEvolutionStrategy(len(ann.get_params()) * [0], 0.2)"
   ]
  },
  {
   "cell_type": "code",
   "execution_count": 27,
   "metadata": {
    "slideshow": {
     "slide_type": "slide"
    }
   },
   "outputs": [
    {
     "name": "stderr",
     "output_type": "stream",
     "text": [
      "/home/ugo/ISAE-SUPAERO/EvoAlgo/evolution/.conda/lib/python3.11/site-packages/gym/utils/passive_env_checker.py:233: DeprecationWarning: `np.bool8` is a deprecated alias for `np.bool_`.  (Deprecated NumPy 1.24)\n",
      "  if not isinstance(terminated, (bool, np.bool8)):\n"
     ]
    },
    {
     "name": "stdout",
     "output_type": "stream",
     "text": [
      "Iterat #Fevals   function value  axis ratio  sigma  min&max std  t[m:s]\n",
      "    1     28 1.128772468625147e+02 1.0e+00 1.99e-01  2e-01  2e-01 0:02.0\n",
      "    2     56 1.036279737914555e+02 1.0e+00 1.99e-01  2e-01  2e-01 0:03.2\n",
      "    3     84 5.825963293838544e+01 1.0e+00 1.98e-01  2e-01  2e-01 0:04.3\n",
      "    7    196 -1.129891863029385e+01 1.0e+00 1.97e-01  2e-01  2e-01 0:08.2\n",
      "   13    364 4.087694733425141e+01 1.0e+00 1.94e-01  2e-01  2e-01 0:12.5\n",
      "   20    560 -5.295379563300833e+01 1.0e+00 1.92e-01  2e-01  2e-01 0:17.9\n"
     ]
    }
   ],
   "source": [
    "for i in range(20):\n",
    "    solutions = np.array(es.ask())\n",
    "    fits = [fitness(x, ann, env) for x in solutions]\n",
    "    es.tell(solutions, fits)\n",
    "    es.disp()"
   ]
  },
  {
   "cell_type": "markdown",
   "metadata": {},
   "source": [
    "Fevals is the number of evaluations for the generation, this gives the number of individuals in each generation?"
   ]
  },
  {
   "cell_type": "code",
   "execution_count": 28,
   "metadata": {
    "slideshow": {
     "slide_type": "fragment"
    }
   },
   "outputs": [
    {
     "data": {
      "text/plain": [
       "52.953795633008326"
      ]
     },
     "execution_count": 28,
     "metadata": {},
     "output_type": "execute_result"
    },
    {
     "data": {
      "image/png": "[encoded data removed]",
      "text/plain": [
       "<Figure size 640x480 with 1 Axes>"
      ]
     },
     "metadata": {},
     "output_type": "display_data"
    }
   ],
   "source": [
    "x = es.result[0]\n",
    "-fitness(x, ann, env, visul=True)"
   ]
  },
  {
   "cell_type": "markdown",
   "metadata": {
    "slideshow": {
     "slide_type": "slide"
    }
   },
   "source": [
    "The results on LunarLander clearly show the benefits of CMA-ES; we have found a reasonable policy in a small number of generations. Applying CMA-ES to larger neural networks remains an open challenge, however, due to the vast number of parameters in ANNs. Specifically, CMA-ES calculates the covariance of all parameters, which is $O(n^2)$."
   ]
  },
  {
   "cell_type": "code",
   "execution_count": 29,
   "metadata": {
    "slideshow": {
     "slide_type": "fragment"
    }
   },
   "outputs": [
    {
     "data": {
      "text/plain": [
       "(3588, 3588)"
      ]
     },
     "execution_count": 29,
     "metadata": {},
     "output_type": "execute_result"
    }
   ],
   "source": [
    "np.shape(es.sm.C)"
   ]
  },
  {
   "cell_type": "markdown",
   "metadata": {
    "slideshow": {
     "slide_type": "slide"
    }
   },
   "source": [
    "<div class=\"alert alert-success\">\n",
    "    <h3>Exercise 1</h3>\n",
    "    \n",
    "The network used has 2 layers of 32 neurons each. Try changing this and noticing the impact on the number of total parameters for CMA-ES. How large of a network can CMA-ES optimize?\n",
    "</div>"
   ]
  },
  {
   "cell_type": "markdown",
   "metadata": {},
   "source": [
    "For this small initial network, CMA-ES already has a matrix of 1476\\*1476. By changing all the layer dimension to 64, the matrix becomes 4996\\*4996. This makes the total parameters a lot higher. 2million vs 25million\n",
    "By adding 4 layers of 32 neurons each, the number goes to 3588\\*3588.(about 13million parameters)"
   ]
  },
  {
   "cell_type": "markdown",
   "metadata": {
    "slideshow": {
     "slide_type": "slide"
    }
   },
   "source": [
    "<div class=\"alert alert-success\">\n",
    "    <h3>Exercise 2</h3>\n",
    "    \n",
    "Compare the $(1+\\lambda)$ ES, $(\\mu,\\lambda)$ ES, and CMA-ES algorithms on Lunar Lander. Is one significantly better than the others, consistently across different initializations?\n",
    "</div>"
   ]
  },
  {
   "cell_type": "code",
   "execution_count": 43,
   "metadata": {},
   "outputs": [],
   "source": [
    "def uniform_lambda(x, fitness, gens=200, lam=10, alpha=0.2, verbose=False):\n",
    "    x_best = x\n",
    "    f_best = fitness(x)\n",
    "    fits = np.zeros(gens)\n",
    "    for g in range(gens):\n",
    "        N = np.random.uniform(low=-1.0, size=(lam, len(x)))\n",
    "        F = np.zeros(lam)\n",
    "        for i in range(lam):\n",
    "            ind = x + N[i, :]\n",
    "            F[i] = fitness(ind)\n",
    "            if F[i] < f_best:\n",
    "                f_best = F[i]\n",
    "                x_best = ind\n",
    "                if verbose:\n",
    "                    print(g, \" \", f_best)\n",
    "        fits[g] = f_best\n",
    "        mu_f = np.mean(F)\n",
    "        std_f = np.std(F)\n",
    "        A = F\n",
    "        if std_f != 0:\n",
    "            A = (F - mu_f) / std_f\n",
    "        #x = x - alpha * np.dot(A, N) / lam\n",
    "    return fits, x_best"
   ]
  },
  {
   "cell_type": "code",
   "execution_count": 48,
   "metadata": {},
   "outputs": [
    {
     "name": "stdout",
     "output_type": "stream",
     "text": [
      "(14_w,28)-aCMA-ES (mu_w=8.1,w_1=21%) in dimension 3588 (seed=1038487, Fri Apr 12 00:31:12 2024)\n",
      "0   119.05959591305864\n",
      "8   89.73940210245914\n"
     ]
    }
   ],
   "source": [
    "env = gym.make('LunarLander-v2', render_mode='rgb_array')\n",
    "ann = NeuralNetwork(env.observation_space.shape[0], env.action_space.n)\n",
    "es = cma.CMAEvolutionStrategy(len(ann.get_params()) * [0], 0.2)\n",
    "\n",
    "x = np.random.rand(len(ann.get_params()))\n",
    "f = lambda x : fitness(x, ann, env)\n",
    "fits, x = uniform_lambda(x, f, gens=200, lam=10, alpha=0.2, verbose=True)\n"
   ]
  },
  {
   "cell_type": "markdown",
   "metadata": {},
   "source": [
    "### 1 + \\Lambda"
   ]
  },
  {
   "cell_type": "code",
   "execution_count": 49,
   "metadata": {},
   "outputs": [
    {
     "data": {
      "image/png": "[encoded data removed]",
      "text/plain": [
       "<Figure size 640x480 with 1 Axes>"
      ]
     },
     "metadata": {},
     "output_type": "display_data"
    }
   ],
   "source": [
    "plt.plot(fits);"
   ]
  },
  {
   "cell_type": "code",
   "execution_count": 50,
   "metadata": {},
   "outputs": [
    {
     "data": {
      "text/plain": [
       "-89.73940210245914"
      ]
     },
     "execution_count": 50,
     "metadata": {},
     "output_type": "execute_result"
    },
    {
     "data": {
      "image/png": "[encoded data removed]",
      "text/plain": [
       "<Figure size 640x480 with 1 Axes>"
      ]
     },
     "metadata": {},
     "output_type": "display_data"
    }
   ],
   "source": [
    "-fitness(x, ann, env, visul=True)"
   ]
  },
  {
   "cell_type": "markdown",
   "metadata": {},
   "source": [
    "### \\mu \\lambda"
   ]
  },
  {
   "cell_type": "code",
   "execution_count": 36,
   "metadata": {},
   "outputs": [
    {
     "name": "stdout",
     "output_type": "stream",
     "text": [
      "0   236.946636904863\n",
      "0   68.32169823840997\n",
      "1   37.506268495621725\n",
      "15   -30.14314430438904\n"
     ]
    }
   ],
   "source": [
    "x = np.random.randn(len(ann.get_params()))\n",
    "f = lambda x : fitness(x, ann, env)\n",
    "fits, x = mu_lambda(x, f, gens=200, lam=10, alpha=0.2, verbose=True)"
   ]
  },
  {
   "cell_type": "code",
   "execution_count": 37,
   "metadata": {},
   "outputs": [
    {
     "data": {
      "image/png": "[encoded data removed]",
      "text/plain": [
       "<Figure size 640x480 with 1 Axes>"
      ]
     },
     "metadata": {},
     "output_type": "display_data"
    }
   ],
   "source": [
    "plt.plot(fits);"
   ]
  },
  {
   "cell_type": "code",
   "execution_count": 38,
   "metadata": {},
   "outputs": [
    {
     "data": {
      "text/plain": [
       "30.14314430438904"
      ]
     },
     "execution_count": 38,
     "metadata": {},
     "output_type": "execute_result"
    },
    {
     "data": {
      "image/png": "[encoded data removed]",
      "text/plain": [
       "<Figure size 640x480 with 1 Axes>"
      ]
     },
     "metadata": {},
     "output_type": "display_data"
    }
   ],
   "source": [
    "-fitness(x, ann, env, visul=True)"
   ]
  },
  {
   "cell_type": "markdown",
   "metadata": {},
   "source": [
    "### CMA"
   ]
  },
  {
   "cell_type": "code",
   "execution_count": 39,
   "metadata": {},
   "outputs": [
    {
     "name": "stdout",
     "output_type": "stream",
     "text": [
      "Iterat #Fevals   function value  axis ratio  sigma  min&max std  t[m:s]\n",
      "    1     28 1.190595959130586e+02 1.0e+00 1.99e-01  2e-01  2e-01 0:01.2\n",
      "    2     56 1.190595959130586e+02 1.0e+00 1.99e-01  2e-01  2e-01 0:02.2\n",
      "    3     84 9.120566240917987e+01 1.0e+00 1.98e-01  2e-01  2e-01 0:03.0\n",
      "    7    196 6.410760108285382e+01 1.0e+00 1.97e-01  2e-01  2e-01 0:06.4\n",
      "   12    336 -1.539618724333317e+01 1.0e+00 1.95e-01  2e-01  2e-01 0:11.4\n",
      "   18    504 -1.137877672481733e+01 1.0e+00 1.92e-01  2e-01  2e-01 0:17.2\n",
      "   24    672 -4.093928131156900e+01 1.0e+00 1.90e-01  2e-01  2e-01 0:23.6\n",
      "   26    728 -1.745684265299730e+00 1.0e+00 1.89e-01  2e-01  2e-01 0:32.4\n",
      "   36   1008 2.807555652964042e+01 1.0e+00 1.86e-01  2e-01  2e-01 0:40.6\n",
      "   46   1288 -3.665395302088635e+01 1.0e+00 1.84e-01  2e-01  2e-01 0:50.5\n"
     ]
    }
   ],
   "source": [
    "for i in range(50):\n",
    "    solutions = np.array(es.ask())\n",
    "    fits = [fitness(x, ann, env) for x in solutions]\n",
    "    es.tell(solutions, fits)\n",
    "    es.disp()\n",
    "    \n",
    "# plt.plot(fits);"
   ]
  },
  {
   "cell_type": "code",
   "execution_count": 40,
   "metadata": {},
   "outputs": [
    {
     "data": {
      "text/plain": [
       "306.69706817942784"
      ]
     },
     "execution_count": 40,
     "metadata": {},
     "output_type": "execute_result"
    },
    {
     "data": {
      "image/png": "[encoded data removed]",
      "text/plain": [
       "<Figure size 640x480 with 1 Axes>"
      ]
     },
     "metadata": {},
     "output_type": "display_data"
    }
   ],
   "source": [
    "x = es.result[0]\n",
    "-fitness(x, ann, env, visul=True)"
   ]
  },
  {
   "cell_type": "markdown",
   "metadata": {},
   "source": [
    "It seems that the cma algorithm performs best for similar number of evaluations, and the \\mu \\lambda ES seems to work better than the simple 1+\\lambda. \n",
    "This is maybe because the the adjusted distribution of cma is more efficient with the randomness of the individuals in a generation, therefore increasing the performance vs evaluations. On the other end of the spectrum, in the 1+\\lambda ES the best individual is selected to be parent of the next generation. Whereas in mu+lambda, a weighted average of the individuals is used to define the parent of the next generation. This works similarly to a gradient descent method. The most basic of the three methods is the least efficient in performance vs evaluations, and the most complex one seems to consistently work best across different initializations."
   ]
  },
  {
   "cell_type": "markdown",
   "metadata": {},
   "source": [
    "### Personal Notes\n",
    "Take aways:\n",
    "Diversity loss if all individuals in the generation perform the same (in fitness)\n",
    "    diversity loss leads to progress stagnation\n",
    "    progress stagnation doesn't mean diversity loss necessarily, maybe the problem is too difficult.\n",
    "Convergence can also be checked by visualizing results(does the lander land well, fuel, breaking, location)\n",
    "\n",
    "1+lambda is normal distribution\n",
    "cma has a variable distribution (for the individuals in each generation)\n",
    "\n",
    "Problem with CMA-ES is the cma part, the matrix computationally expensive.\n",
    "O(n²) so bad performance past 1billion parameters"
   ]
  },
  {
   "cell_type": "markdown",
   "metadata": {},
   "source": []
  },
  {
   "cell_type": "markdown",
   "metadata": {},
   "source": []
  }
 ],
 "metadata": {
  "@webio": {
   "lastCommId": null,
   "lastKernelId": null
  },
  "celltoolbar": "Slideshow",
  "kernelspec": {
   "display_name": "Python 3 (ipykernel)",
   "language": "python",
   "name": "python3"
  },
  "language_info": {
   "codemirror_mode": {
    "name": "ipython",
    "version": 3
   },
   "file_extension": ".py",
   "mimetype": "text/x-python",
   "name": "python",
   "nbconvert_exporter": "python",
   "pygments_lexer": "ipython3",
   "version": "3.11.8"
  }
 },
 "nbformat": 4,
 "nbformat_minor": 4
}
