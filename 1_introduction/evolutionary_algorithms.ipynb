{
 "cells": [
  {
   "cell_type": "markdown",
   "metadata": {
    "slideshow": {
     "slide_type": "slide"
    }
   },
   "source": [
    "<img src=\"https://github.com/d9w/evolution/raw/master/imgs/logo.png\" width=\"20%\" align=\"right\" style=\"margin:0px 20px\">\n",
    "\n",
    "\n",
    "# Evolutionary Computation\n",
    "\n",
    "## 1.3 Evolutionary Algorithms\n",
    "\n",
    "<a rel=\"license\" href=\"http://creativecommons.org/licenses/by-sa/4.0/\"><img alt=\"Creative Commons License\" align=\"left\" src=\"https://i.creativecommons.org/l/by-sa/4.0/80x15.png\" /></a>&nbsp;| Dennis G. Wilson | <a href=\"https://d9w.github.io/evolution/\">https://d9w.github.io/evolution/</a>"
   ]
  },
  {
   "cell_type": "markdown",
   "metadata": {
    "slideshow": {
     "slide_type": "slide"
    }
   },
   "source": [
    "## Outline\n",
    "\n",
    "1. [Individuals](#individuals)\n",
    "2. [Objectives](#objectives)\n",
    "3. [(1+1) EA](#one_plus_one)\n",
    "4. [$(1+\\lambda)$ EA](#one_plus_lambda)\n",
    "5. [Algorithm parameters](#parameters)\n",
    "\n",
    "\n",
    "[![Open In Colab](https://colab.research.google.com/assets/colab-badge.svg)](https://colab.research.google.com/github/d9w/evolution/blob/master/1_introduction/evolutionary_algorithms.ipynb)"
   ]
  },
  {
   "cell_type": "code",
   "execution_count": 90,
   "metadata": {
    "slideshow": {
     "slide_type": "slide"
    }
   },
   "outputs": [],
   "source": [
    "%matplotlib inline\n",
    "import matplotlib.pyplot as plt\n",
    "import math\n",
    "import numpy as np\n",
    "from tqdm import tqdm\n",
    "np.random.seed(1234)"
   ]
  },
  {
   "cell_type": "markdown",
   "metadata": {
    "slideshow": {
     "slide_type": "slide"
    }
   },
   "source": [
    "## <a id=\"individuals\"></a>Individuals"
   ]
  },
  {
   "cell_type": "markdown",
   "metadata": {
    "slideshow": {
     "slide_type": "fragment"
    }
   },
   "source": [
    "The base unit of an evolutionary algorithm is the individual. An individual represents a single solution to the problem we want to solve. We'll start simple with binary individuals, where genes are represented by bits. DNA in biological organisms is mostly base 4, being represented by 4 different amino acids. We'll use a base 2 representation of 1s and 0s, but the interpretation of these binary strings could lead to any complex organism. Using binary strings allows us to discuss the theoretical analysis of evolutionary algorithms, which have mostly been studied on binary genomes."
   ]
  },
  {
   "cell_type": "code",
   "execution_count": 91,
   "metadata": {
    "slideshow": {
     "slide_type": "slide"
    }
   },
   "outputs": [],
   "source": [
    "class Individual:\n",
    "    \n",
    "    def __init__(self, n: int):\n",
    "        self.genes = np.random.randint(0, 2, (n,))\n",
    "        self.fitness = -np.inf\n",
    "        \n",
    "    def __str__(self):\n",
    "        return f'(Ind: {self.genes}, {self.fitness})'\n",
    "    \n",
    "    def __repr__(self):\n",
    "        return str(self)"
   ]
  },
  {
   "cell_type": "markdown",
   "metadata": {
    "slideshow": {
     "slide_type": "fragment"
    }
   },
   "source": [
    "Here we've defined a new type, `Individual` which has binary genes and an integer fitness. When we construct a new individual, we use random genes and set the default fitness to 0. For these examples we'll be using objective functions which have positive fitness values."
   ]
  },
  {
   "cell_type": "code",
   "execution_count": 92,
   "metadata": {
    "slideshow": {
     "slide_type": "fragment"
    }
   },
   "outputs": [
    {
     "data": {
      "text/plain": [
       "(Ind: [1 1 0 1 0 0 0 1 1 1], -inf)"
      ]
     },
     "execution_count": 92,
     "metadata": {},
     "output_type": "execute_result"
    }
   ],
   "source": [
    "ind = Individual(10)\n",
    "ind"
   ]
  },
  {
   "cell_type": "markdown",
   "metadata": {
    "slideshow": {
     "slide_type": "slide"
    }
   },
   "source": [
    "## <a id=\"objectives\"></a>Objectives"
   ]
  },
  {
   "cell_type": "markdown",
   "metadata": {
    "slideshow": {
     "slide_type": "fragment"
    }
   },
   "source": [
    "An objective function is a function which gives a value to our individual. A strength of evolutionary algorithms is that this objective function can be anything as long as it evaluates the individual. Unlike other optimization methods, this function does not need to be differentiable or continuous. The first objective function we'll look at is the OneMax function, which simply adds all of the bits of the genotype. The optimal fitness for this function is therefore when the entire genotype is 1. This simple function has been well-studied and generalizes well to the search of any specific bit string."
   ]
  },
  {
   "cell_type": "code",
   "execution_count": 93,
   "metadata": {},
   "outputs": [],
   "source": [
    "def onemax(i: Individual):\n",
    "    return np.sum(i.genes)"
   ]
  },
  {
   "cell_type": "code",
   "execution_count": 94,
   "metadata": {},
   "outputs": [
    {
     "data": {
      "text/plain": [
       "(Ind: [1 1 0 1 0 0 0 1 1 1], 6)"
      ]
     },
     "execution_count": 94,
     "metadata": {},
     "output_type": "execute_result"
    }
   ],
   "source": [
    "ind.fitness = onemax(ind)\n",
    "ind"
   ]
  },
  {
   "cell_type": "markdown",
   "metadata": {
    "slideshow": {
     "slide_type": "fragment"
    }
   },
   "source": [
    "As we can see, the fitness of our individual is the number of 1s in the function."
   ]
  },
  {
   "cell_type": "markdown",
   "metadata": {
    "slideshow": {
     "slide_type": "slide"
    }
   },
   "source": [
    "In order to be more general later, we'll write an `evaluate` function which can take any `objective` function. The `!` exclamation point in `evaluate!` indicates that this function modifies the object which is passed. "
   ]
  },
  {
   "cell_type": "code",
   "execution_count": 95,
   "metadata": {
    "slideshow": {
     "slide_type": "fragment"
    }
   },
   "outputs": [
    {
     "data": {
      "text/plain": [
       "(Ind: [1 1 0 1 0 0 0 1 1 1], 6)"
      ]
     },
     "execution_count": 95,
     "metadata": {},
     "output_type": "execute_result"
    }
   ],
   "source": [
    "def evaluate(ind: Individual, objective):\n",
    "    ind.fitness = objective(ind)\n",
    "\n",
    "evaluate(ind, onemax)\n",
    "ind"
   ]
  },
  {
   "cell_type": "markdown",
   "metadata": {
    "slideshow": {
     "slide_type": "fragment"
    }
   },
   "source": [
    "Now that we have our individuals defined and we have an objective function, we're ready to write our first evolutionary algorithm."
   ]
  },
  {
   "cell_type": "markdown",
   "metadata": {
    "slideshow": {
     "slide_type": "slide"
    }
   },
   "source": [
    "## <a id=\"one_plus_one\"></a>(1+1) Evolutionary Algorithm"
   ]
  },
  {
   "cell_type": "markdown",
   "metadata": {
    "slideshow": {
     "slide_type": "fragment"
    }
   },
   "source": [
    "The first algorithm we'll implement is the simplest evolutionary algorithm, the (1+1) Evolutionary Algorithm:\n",
    "\n",
    "1. Choose randomly an initial bit string $x∈ \\{0;1\\} $\n",
    "2. Repeat the following mutation step:\n",
    "    1. Compute $x′$ by flipping independently each bit $x_i$ with probability $p$\n",
    "    2. Replace $x$ by $x′$ if $f(x′) \\geq f(x)$."
   ]
  },
  {
   "cell_type": "markdown",
   "metadata": {
    "slideshow": {
     "slide_type": "slide"
    }
   },
   "source": [
    "We'll start by defining the number of dimensions for our problem, then define the first individual, the starting point of search."
   ]
  },
  {
   "cell_type": "code",
   "execution_count": 96,
   "metadata": {},
   "outputs": [],
   "source": [
    "n = 20"
   ]
  },
  {
   "cell_type": "code",
   "execution_count": 97,
   "metadata": {
    "slideshow": {
     "slide_type": "fragment"
    }
   },
   "outputs": [],
   "source": [
    "parent = Individual(n)\n",
    "evaluate(parent, onemax)"
   ]
  },
  {
   "cell_type": "markdown",
   "metadata": {
    "slideshow": {
     "slide_type": "slide"
    }
   },
   "source": [
    "Let's define the mutation step as a function. This will make our code more organized and has the advantage in Julia that compilation will optimize this part of the code. We'll use the probability of $p=\\frac{1}{n}$, where $n$ is the number of bits. We'll discuss that choice soon."
   ]
  },
  {
   "cell_type": "code",
   "execution_count": 98,
   "metadata": {
    "slideshow": {
     "slide_type": "fragment"
    }
   },
   "outputs": [],
   "source": [
    "def mutate(ind: Individual, mutation_rate=1.0/len(ind.genes)):\n",
    "    new_genes = np.copy(ind.genes)\n",
    "    for i in range(len(new_genes)):\n",
    "        if np.random.rand() < mutation_rate:\n",
    "            new_genes[i] = not ind.genes[i]\n",
    "    child = Individual(len(ind.genes))\n",
    "    child.genes = new_genes\n",
    "    return child"
   ]
  },
  {
   "cell_type": "code",
   "execution_count": 99,
   "metadata": {
    "slideshow": {
     "slide_type": "slide"
    }
   },
   "outputs": [
    {
     "name": "stdout",
     "output_type": "stream",
     "text": [
      "Parent : (Ind: [1 1 0 0 1 0 0 0 0 0 0 0 0 0 1 0 1 1 0 0], 6)\n",
      "Child : (Ind: [1 1 1 0 1 0 0 1 0 0 0 0 0 0 1 0 1 1 0 0], -inf)\n",
      "Genes : [ True  True False  True  True  True  True False  True  True  True  True\n",
      "  True  True  True  True  True  True  True  True]\n"
     ]
    }
   ],
   "source": [
    "child = mutate(parent)\n",
    "print(\"Parent :\", parent)\n",
    "print(\"Child :\", child)\n",
    "print(\"Genes :\", parent.genes == child.genes)"
   ]
  },
  {
   "cell_type": "markdown",
   "metadata": {
    "slideshow": {
     "slide_type": "fragment"
    }
   },
   "source": [
    "Try running this a few times and you'll see that most of the time, only one gene changes. That makes sense due to the $p=\\frac{1}{n}$ mutation rate we set. This means that evolution will move rather slowly towards the optimal bitstring, on average only 1 change at a time."
   ]
  },
  {
   "cell_type": "markdown",
   "metadata": {
    "slideshow": {
     "slide_type": "slide"
    }
   },
   "source": [
    "Now that we have the new individual, we can do the last part of our algorithm: Replace $x$ by $x′$ if $f(x′) \\geq f(x)$. To do this, we must first evaluate the new individual."
   ]
  },
  {
   "cell_type": "code",
   "execution_count": 100,
   "metadata": {
    "slideshow": {
     "slide_type": "fragment"
    }
   },
   "outputs": [
    {
     "name": "stdout",
     "output_type": "stream",
     "text": [
      "6\n",
      "8\n"
     ]
    },
    {
     "data": {
      "text/plain": [
       "8"
      ]
     },
     "execution_count": 100,
     "metadata": {},
     "output_type": "execute_result"
    }
   ],
   "source": [
    "evaluate(child, onemax)\n",
    "print(parent.fitness)\n",
    "print(child.fitness)\n",
    "if child.fitness >= parent.fitness:\n",
    "    parent = child\n",
    "parent.fitness"
   ]
  },
  {
   "cell_type": "markdown",
   "metadata": {
    "slideshow": {
     "slide_type": "slide"
    }
   },
   "source": [
    "That's all there is to the (1+1) EA. We simply run this mutation step over and over until we reach the solution we want or stop the computation. Let's look at just a few iterations:"
   ]
  },
  {
   "cell_type": "code",
   "execution_count": 101,
   "metadata": {
    "slideshow": {
     "slide_type": "fragment"
    }
   },
   "outputs": [
    {
     "name": "stdout",
     "output_type": "stream",
     "text": [
      "15  /  20\n"
     ]
    }
   ],
   "source": [
    "parent = Individual(n)\n",
    "for i in range(20):\n",
    "    child = mutate(parent)\n",
    "    evaluate(child, onemax)\n",
    "    if child.fitness >= parent.fitness:\n",
    "        parent = child\n",
    "    # print(i, \" \", parent.fitness)\n",
    "\n",
    "print(parent.fitness, \" / \", n)"
   ]
  },
  {
   "cell_type": "markdown",
   "metadata": {
    "slideshow": {
     "slide_type": "slide"
    }
   },
   "source": [
    "So in a few generations, we can see improvement. To study how long it will take for this to reach the OneMax solution, let's first define everything we've done until now as a function."
   ]
  },
  {
   "cell_type": "code",
   "execution_count": 102,
   "metadata": {
    "slideshow": {
     "slide_type": "fragment"
    }
   },
   "outputs": [],
   "source": [
    "def one_plus_one(ind_length: int, num_generations: int, objective, mutation_rate=1/len(ind.genes)):\n",
    "    fits = np.zeros(num_generations)\n",
    "    parent = Individual(ind_length)\n",
    "    evaluate(parent, objective)\n",
    "    \n",
    "    for i in tqdm(range(len(fits))):\n",
    "        child = mutate(parent, mutation_rate)\n",
    "        evaluate(child, objective)\n",
    "\n",
    "        if child.fitness >= parent.fitness:\n",
    "            parent = child\n",
    "            \n",
    "        fits[i] = parent.fitness\n",
    "    return fits"
   ]
  },
  {
   "cell_type": "markdown",
   "metadata": {
    "slideshow": {
     "slide_type": "slide"
    }
   },
   "source": [
    "Since evolutionary algorithms are stochastic, it's hard to guarantee their exact computational complexity. You can prove the worst case, but a more useful metric is the expected number of generations to reach the optimal solution. For linear objective functions such as the OneMax problem, the expected runtime for the (1+1) EA has been [proven](https://core.ac.uk/download/pdf/82100186.pdf) to to be $0(n \\log n)$, where $n$ is the number of independent binary variables (ie, the length of the genome). This proof is beyond the scope of this class, but I recommend looking at the linked publications in this notebook. Note that this is only for the case of a mutation rate of $\\frac{1}{n}$, which is why we used it as our default value before. "
   ]
  },
  {
   "cell_type": "markdown",
   "metadata": {
    "slideshow": {
     "slide_type": "slide"
    }
   },
   "source": [
    "Let's run our (1+1) EA with $n \\log n$ as our number of generations."
   ]
  },
  {
   "cell_type": "code",
   "execution_count": 103,
   "metadata": {
    "slideshow": {
     "slide_type": "fragment"
    }
   },
   "outputs": [
    {
     "name": "stderr",
     "output_type": "stream",
     "text": [
      "100%|██████████| 13816/13816 [00:07<00:00, 1942.13it/s]"
     ]
    },
    {
     "name": "stdout",
     "output_type": "stream",
     "text": [
      "663.0\n"
     ]
    },
    {
     "name": "stderr",
     "output_type": "stream",
     "text": [
      "\n"
     ]
    }
   ],
   "source": [
    "n = 1000\n",
    "fits = one_plus_one(n, int(np.round(n * np.log(n)))*2, onemax)\n",
    "print(fits[-1])"
   ]
  },
  {
   "cell_type": "code",
   "execution_count": 104,
   "metadata": {
    "slideshow": {
     "slide_type": "slide"
    }
   },
   "outputs": [
    {
     "data": {
      "image/png": "[encoded data removed]",
      "text/plain": [
       "<Figure size 640x480 with 1 Axes>"
      ]
     },
     "metadata": {},
     "output_type": "display_data"
    }
   ],
   "source": [
    "plt.plot(fits, 'b')\n",
    "plt.xlabel(\"Generations\")\n",
    "plt.ylabel(\"Fitness\")\n",
    "plt.title(f\"One-Max on {n} Dimensions\");"
   ]
  },
  {
   "cell_type": "markdown",
   "metadata": {
    "slideshow": {
     "slide_type": "slide"
    }
   },
   "source": [
    "This isn't yet $n$ but its very close, which is what the expected time guarantees: $n \\log n$ is the average value of when the (1+1) EA converges. The worst case for a binary (1+1) EA on any function is to converge in $O(n^n)$, but we don't need to run it for that long to see convergence."
   ]
  },
  {
   "cell_type": "markdown",
   "metadata": {
    "slideshow": {
     "slide_type": "slide"
    }
   },
   "source": [
    "The Leading Ones problem is another well-studied binary problem which counts the number of leading ones from left to right, stopping when the first zero-bit is found. In other words, the fitness of this function is:\n",
    "\n",
    "$f(x) := \\sum_{i=1}^n \\prod_{j=1}^i x_j$\n",
    "\n",
    "In our implementation, we'll just count the indices and stop when we reach a 0."
   ]
  },
  {
   "cell_type": "code",
   "execution_count": 105,
   "metadata": {
    "slideshow": {
     "slide_type": "slide"
    }
   },
   "outputs": [
    {
     "name": "stdout",
     "output_type": "stream",
     "text": [
      "(Ind: [1 1 0 1 0 0 0 1 1 1], 6)\n"
     ]
    },
    {
     "data": {
      "text/plain": [
       "2"
      ]
     },
     "execution_count": 105,
     "metadata": {},
     "output_type": "execute_result"
    }
   ],
   "source": [
    "def leading_ones(ind: Individual):\n",
    "    f = 0\n",
    "    for i in range(len(ind.genes)):\n",
    "        if not ind.genes[i]:\n",
    "            f = i\n",
    "            break\n",
    "    return f\n",
    "print(ind)\n",
    "leading_ones(ind)"
   ]
  },
  {
   "cell_type": "markdown",
   "metadata": {
    "slideshow": {
     "slide_type": "fragment"
    }
   },
   "source": [
    "<div class=\"alert alert-success\">\n",
    "    <b>Exercise</b>\n",
    "    <br/>\n",
    "    Run the (1+1) EA on the Leading Ones problem. Does it converge near $0(n \\log n)$, or $O(n^2)$?\n",
    "    <br/>\n",
    "</div>"
   ]
  },
  {
   "cell_type": "markdown",
   "metadata": {
    "slideshow": {
     "slide_type": "slide"
    }
   },
   "source": [
    "## <a id=\"one_plus_lambda\"></a>$(1+\\lambda)$ Evolutionary Algorithm"
   ]
  },
  {
   "cell_type": "markdown",
   "metadata": {
    "slideshow": {
     "slide_type": "fragment"
    }
   },
   "source": [
    "The next algorithm that we'll see is a small change on the (1+1) EA. Instead of generating one individual each iteration (generation) we'll make $\\lambda$. This can be considered our population. This small change means the $(1+\\lambda)$ algorithm is still very simple, but this simple algorithm is used in state-of-the-art Genetic Programming methods to do perform complex tasks."
   ]
  },
  {
   "cell_type": "markdown",
   "metadata": {
    "slideshow": {
     "slide_type": "slide"
    }
   },
   "source": [
    "The $(1+\\lambda) EA$ introduces a new parameter: population size. What should we choose for this parameter? [Recent theoretical work](https://www.sciencedirect.com/science/article/pii/S0304397514002060) has demonstrated that the expected running time of the $(1+\\lambda)$ EA on any linear function is $O(\\frac{1}{λ} n \\log n + n)$ under the condition that $\\lambda = O(\\log n \\log \\log n / \\log \\log \\log n)$. We could try that."
   ]
  },
  {
   "cell_type": "code",
   "execution_count": 106,
   "metadata": {
    "slideshow": {
     "slide_type": "fragment"
    }
   },
   "outputs": [
    {
     "name": "stdout",
     "output_type": "stream",
     "text": [
      "20\n"
     ]
    }
   ],
   "source": [
    "n = 1000\n",
    "𝜆 = int(round(np.log(n)*np.log(np.log(n))/np.log(np.log(np.log(n)))))\n",
    "print(𝜆)"
   ]
  },
  {
   "cell_type": "markdown",
   "metadata": {
    "slideshow": {
     "slide_type": "slide"
    }
   },
   "source": [
    "We'll rewrite our `one_plus_one` function, this time using a population of individuals. We'll keep track of the best new individual in order to compare it with the expert for replacement in the next generation."
   ]
  },
  {
   "cell_type": "code",
   "execution_count": 107,
   "metadata": {},
   "outputs": [
    {
     "name": "stdout",
     "output_type": "stream",
     "text": [
      "[0, 1]\n"
     ]
    }
   ],
   "source": [
    "m = 1\n",
    "a = [0]\n",
    "for i in range(1, m+1):\n",
    "    a.append(i)\n",
    "print(a)"
   ]
  },
  {
   "cell_type": "code",
   "execution_count": 108,
   "metadata": {
    "slideshow": {
     "slide_type": "slide"
    }
   },
   "outputs": [],
   "source": [
    "def one_plus_lambda(ind_length: int, num_generations: int, objective, 𝜆: int, mutation_rate=1/len(ind.genes)):\n",
    "    fits = np.zeros(num_generations)\n",
    "    expert = Individual(ind_length)\n",
    "    evaluate(expert, objective)\n",
    "    \n",
    "    for i in tqdm(range(len(fits))):\n",
    "        population = [expert,]\n",
    "        best = 0\n",
    "        for j in range(1, 𝜆):\n",
    "            population.append(mutate(expert, mutation_rate))\n",
    "            evaluate(population[j], objective) \n",
    "            if population[j].fitness > population[best].fitness:\n",
    "                best = j\n",
    "        if population[best].fitness >= expert.fitness:\n",
    "            expert = population[best]\n",
    "        fits[i] = expert.fitness\n",
    "    return fits"
   ]
  },
  {
   "cell_type": "markdown",
   "metadata": {
    "slideshow": {
     "slide_type": "slide"
    }
   },
   "source": [
    "Let's see how these two methods compare on the OneMax problem."
   ]
  },
  {
   "cell_type": "code",
   "execution_count": 109,
   "metadata": {
    "slideshow": {
     "slide_type": "fragment"
    }
   },
   "outputs": [
    {
     "name": "stderr",
     "output_type": "stream",
     "text": [
      "100%|██████████| 1000/1000 [00:00<00:00, 21493.71it/s]\n",
      "100%|██████████| 1000/1000 [00:00<00:00, 1303.23it/s]\n"
     ]
    },
    {
     "data": {
      "text/plain": [
       "(87.0, 93.0)"
      ]
     },
     "execution_count": 109,
     "metadata": {},
     "output_type": "execute_result"
    }
   ],
   "source": [
    "n = 100\n",
    "n_gens = 1000\n",
    "fits_1 = one_plus_one(n, n_gens, onemax)\n",
    "fits_𝜆 = one_plus_lambda(n, n_gens, onemax, 𝜆)\n",
    "fits_1[-1], fits_𝜆[-1]"
   ]
  },
  {
   "cell_type": "code",
   "execution_count": 110,
   "metadata": {
    "slideshow": {
     "slide_type": "fragment"
    }
   },
   "outputs": [
    {
     "data": {
      "image/png": "[encoded data removed]",
      "text/plain": [
       "<Figure size 640x480 with 1 Axes>"
      ]
     },
     "metadata": {},
     "output_type": "display_data"
    }
   ],
   "source": [
    "plt.plot(fits_1, label=\"1+1\", color='b')\n",
    "plt.plot(fits_𝜆, label=\"1+lambda\", color='g')\n",
    "plt.xlabel(\"Generations\")\n",
    "plt.ylabel(\"Fitness\")\n",
    "plt.title(f\"One-Max on {n} Dimensions\")\n",
    "plt.legend();"
   ]
  },
  {
   "cell_type": "markdown",
   "metadata": {
    "slideshow": {
     "slide_type": "slide"
    }
   },
   "source": [
    "At first glance, it appears that the $(1+\\lambda)$ EA performs much better than the (1+1) EA. However, this is an unfair comparison. The $(1+\\lambda)$ EA runs the evaluation function $\\lambda$ times per generation, meaning there are many more evaluations. We can see this by plotting based on evaluation."
   ]
  },
  {
   "cell_type": "code",
   "execution_count": 111,
   "metadata": {
    "slideshow": {
     "slide_type": "fragment"
    }
   },
   "outputs": [
    {
     "data": {
      "image/png": "[encoded data removed]",
      "text/plain": [
       "<Figure size 640x480 with 1 Axes>"
      ]
     },
     "metadata": {},
     "output_type": "display_data"
    }
   ],
   "source": [
    "plt.plot(fits_1, label=\"1+1\", color='b')\n",
    "plt.plot(np.arange(1,n_gens*𝜆,𝜆), fits_𝜆, label=\"1+lambda\", color='g')\n",
    "plt.xlabel(\"Evaluations\")\n",
    "plt.ylabel(\"Fitness\")\n",
    "plt.title(f\"One-Max on {n} Dimensions\")\n",
    "plt.legend();"
   ]
  },
  {
   "cell_type": "markdown",
   "metadata": {
    "slideshow": {
     "slide_type": "slide"
    }
   },
   "source": [
    "A more fair comparison would be to give each algorithm the same number of function evaluations, like this:"
   ]
  },
  {
   "cell_type": "code",
   "execution_count": 112,
   "metadata": {
    "slideshow": {
     "slide_type": "fragment"
    }
   },
   "outputs": [
    {
     "name": "stderr",
     "output_type": "stream",
     "text": [
      "100%|██████████| 10000/10000 [00:03<00:00, 3231.54it/s]\n",
      "100%|██████████| 500/500 [00:02<00:00, 170.35it/s]\n"
     ]
    }
   ],
   "source": [
    "n = 1000\n",
    "n_gens = 10000\n",
    "fits_1 = one_plus_one(n, n_gens, onemax)\n",
    "fits_𝜆 = one_plus_lambda(n, int(n_gens/𝜆), onemax, 𝜆)"
   ]
  },
  {
   "cell_type": "code",
   "execution_count": 113,
   "metadata": {
    "slideshow": {
     "slide_type": "slide"
    }
   },
   "outputs": [
    {
     "data": {
      "image/png": "[encoded data removed]",
      "text/plain": [
       "<Figure size 640x480 with 1 Axes>"
      ]
     },
     "metadata": {},
     "output_type": "display_data"
    }
   ],
   "source": [
    "plt.plot(fits_1, label=\"1+1\", color='b')\n",
    "plt.plot(np.arange(1,n_gens,𝜆), fits_𝜆, label=\"1+lambda\", color='g')\n",
    "plt.xlabel(\"Evaluations\")\n",
    "plt.ylabel(\"Fitness\")\n",
    "plt.title(f\"One-Max on {n} Dimensions\")\n",
    "plt.legend();"
   ]
  },
  {
   "cell_type": "markdown",
   "metadata": {
    "slideshow": {
     "slide_type": "slide"
    }
   },
   "source": [
    "Because evolutionary algorithms are entirely based on randomness, it is a good practice to run them multiple times to have an idea about their performance. We'll run this 10 times, but more is often a good idea, depending on the distribution of final results."
   ]
  },
  {
   "cell_type": "code",
   "execution_count": 114,
   "metadata": {
    "slideshow": {
     "slide_type": "fragment"
    }
   },
   "outputs": [
    {
     "name": "stderr",
     "output_type": "stream",
     "text": [
      "100%|██████████| 1000/1000 [00:00<00:00, 23373.24it/s]\n",
      "100%|██████████| 50/50 [00:00<00:00, 1330.11it/s]\n",
      "100%|██████████| 1000/1000 [00:00<00:00, 24129.32it/s]\n",
      "100%|██████████| 50/50 [00:00<00:00, 1315.00it/s]\n",
      "100%|██████████| 1000/1000 [00:00<00:00, 24082.77it/s]\n",
      "100%|██████████| 50/50 [00:00<00:00, 1319.50it/s]\n",
      "100%|██████████| 1000/1000 [00:00<00:00, 22477.51it/s]\n",
      "100%|██████████| 50/50 [00:00<00:00, 1099.58it/s]\n",
      "100%|██████████| 1000/1000 [00:00<00:00, 20818.30it/s]\n",
      "100%|██████████| 50/50 [00:00<00:00, 1281.17it/s]\n",
      "100%|██████████| 1000/1000 [00:00<00:00, 23235.60it/s]\n",
      "100%|██████████| 50/50 [00:00<00:00, 1298.49it/s]\n",
      "100%|██████████| 1000/1000 [00:00<00:00, 23933.81it/s]\n",
      "100%|██████████| 50/50 [00:00<00:00, 1309.51it/s]\n",
      "100%|██████████| 1000/1000 [00:00<00:00, 23822.07it/s]\n",
      "100%|██████████| 50/50 [00:00<00:00, 1295.23it/s]\n",
      "100%|██████████| 1000/1000 [00:00<00:00, 23239.07it/s]\n",
      "100%|██████████| 50/50 [00:00<00:00, 1224.05it/s]\n",
      "100%|██████████| 1000/1000 [00:00<00:00, 23265.63it/s]\n",
      "100%|██████████| 50/50 [00:00<00:00, 1319.05it/s]\n",
      "100%|██████████| 1000/1000 [00:00<00:00, 23869.93it/s]\n",
      "100%|██████████| 50/50 [00:00<00:00, 1320.18it/s]\n",
      "100%|██████████| 1000/1000 [00:00<00:00, 23665.88it/s]\n",
      "100%|██████████| 50/50 [00:00<00:00, 1312.58it/s]\n",
      "100%|██████████| 1000/1000 [00:00<00:00, 23772.25it/s]\n",
      "100%|██████████| 50/50 [00:00<00:00, 1289.28it/s]\n",
      "100%|██████████| 1000/1000 [00:00<00:00, 23686.33it/s]\n",
      "100%|██████████| 50/50 [00:00<00:00, 1313.63it/s]\n",
      "100%|██████████| 1000/1000 [00:00<00:00, 23764.57it/s]\n",
      "100%|██████████| 50/50 [00:00<00:00, 1267.33it/s]\n",
      "100%|██████████| 1000/1000 [00:00<00:00, 23627.35it/s]\n",
      "100%|██████████| 50/50 [00:00<00:00, 1304.31it/s]\n",
      "100%|██████████| 1000/1000 [00:00<00:00, 23925.34it/s]\n",
      "100%|██████████| 50/50 [00:00<00:00, 1298.26it/s]\n",
      "100%|██████████| 1000/1000 [00:00<00:00, 22806.41it/s]\n",
      "100%|██████████| 50/50 [00:00<00:00, 1267.31it/s]\n",
      "100%|██████████| 1000/1000 [00:00<00:00, 23497.76it/s]\n",
      "100%|██████████| 50/50 [00:00<00:00, 1342.25it/s]\n",
      "100%|██████████| 1000/1000 [00:00<00:00, 17784.98it/s]\n",
      "100%|██████████| 50/50 [00:00<00:00, 1336.66it/s]\n",
      "100%|██████████| 1000/1000 [00:00<00:00, 24150.16it/s]\n",
      "100%|██████████| 50/50 [00:00<00:00, 1308.36it/s]\n",
      "100%|██████████| 1000/1000 [00:00<00:00, 23700.38it/s]\n",
      "100%|██████████| 50/50 [00:00<00:00, 1318.71it/s]\n",
      "100%|██████████| 1000/1000 [00:00<00:00, 24122.52it/s]\n",
      "100%|██████████| 50/50 [00:00<00:00, 1285.46it/s]\n",
      "100%|██████████| 1000/1000 [00:00<00:00, 23246.29it/s]\n",
      "100%|██████████| 50/50 [00:00<00:00, 1278.66it/s]\n",
      "100%|██████████| 1000/1000 [00:00<00:00, 23614.72it/s]\n",
      "100%|██████████| 50/50 [00:00<00:00, 1276.39it/s]\n",
      "100%|██████████| 1000/1000 [00:00<00:00, 23247.57it/s]\n",
      "100%|██████████| 50/50 [00:00<00:00, 1264.65it/s]\n",
      "100%|██████████| 1000/1000 [00:00<00:00, 23612.59it/s]\n",
      "100%|██████████| 50/50 [00:00<00:00, 1322.80it/s]\n",
      "100%|██████████| 1000/1000 [00:00<00:00, 23806.25it/s]\n",
      "100%|██████████| 50/50 [00:00<00:00, 1314.82it/s]\n",
      "100%|██████████| 1000/1000 [00:00<00:00, 23956.77it/s]\n",
      "100%|██████████| 50/50 [00:00<00:00, 1322.82it/s]\n",
      "100%|██████████| 1000/1000 [00:00<00:00, 23857.84it/s]\n",
      "100%|██████████| 50/50 [00:00<00:00, 1329.09it/s]\n",
      "100%|██████████| 1000/1000 [00:00<00:00, 23605.68it/s]\n",
      "100%|██████████| 50/50 [00:00<00:00, 1299.48it/s]\n",
      "100%|██████████| 1000/1000 [00:00<00:00, 23614.45it/s]\n",
      "100%|██████████| 50/50 [00:00<00:00, 1242.59it/s]\n",
      "100%|██████████| 1000/1000 [00:00<00:00, 21548.04it/s]\n",
      "100%|██████████| 50/50 [00:00<00:00, 1106.11it/s]\n",
      "100%|██████████| 1000/1000 [00:00<00:00, 24075.72it/s]\n",
      "100%|██████████| 50/50 [00:00<00:00, 1311.02it/s]\n",
      "100%|██████████| 1000/1000 [00:00<00:00, 23941.73it/s]\n",
      "100%|██████████| 50/50 [00:00<00:00, 1297.75it/s]\n",
      "100%|██████████| 1000/1000 [00:00<00:00, 23241.00it/s]\n",
      "100%|██████████| 50/50 [00:00<00:00, 1290.36it/s]\n",
      "100%|██████████| 1000/1000 [00:00<00:00, 24112.82it/s]\n",
      "100%|██████████| 50/50 [00:00<00:00, 1318.89it/s]\n",
      "100%|██████████| 1000/1000 [00:00<00:00, 22826.14it/s]\n",
      "100%|██████████| 50/50 [00:00<00:00, 1308.00it/s]\n",
      "100%|██████████| 1000/1000 [00:00<00:00, 24343.17it/s]\n",
      "100%|██████████| 50/50 [00:00<00:00, 1294.72it/s]\n",
      "100%|██████████| 1000/1000 [00:00<00:00, 23218.62it/s]\n",
      "100%|██████████| 50/50 [00:00<00:00, 1269.24it/s]\n",
      "100%|██████████| 1000/1000 [00:00<00:00, 23642.67it/s]\n",
      "100%|██████████| 50/50 [00:00<00:00, 1261.22it/s]\n",
      "100%|██████████| 1000/1000 [00:00<00:00, 24013.69it/s]\n",
      "100%|██████████| 50/50 [00:00<00:00, 1317.07it/s]\n",
      "100%|██████████| 1000/1000 [00:00<00:00, 23901.48it/s]\n",
      "100%|██████████| 50/50 [00:00<00:00, 1257.10it/s]\n",
      "100%|██████████| 1000/1000 [00:00<00:00, 23444.57it/s]\n",
      "100%|██████████| 50/50 [00:00<00:00, 1317.34it/s]\n",
      "100%|██████████| 1000/1000 [00:00<00:00, 23958.69it/s]\n",
      "100%|██████████| 50/50 [00:00<00:00, 1291.83it/s]\n",
      "100%|██████████| 1000/1000 [00:00<00:00, 24088.72it/s]\n",
      "100%|██████████| 50/50 [00:00<00:00, 1320.62it/s]\n",
      "100%|██████████| 1000/1000 [00:00<00:00, 24145.02it/s]\n",
      "100%|██████████| 50/50 [00:00<00:00, 1317.79it/s]\n",
      "100%|██████████| 1000/1000 [00:00<00:00, 23892.36it/s]\n",
      "100%|██████████| 50/50 [00:00<00:00, 1299.21it/s]\n",
      "100%|██████████| 1000/1000 [00:00<00:00, 23659.74it/s]\n",
      "100%|██████████| 50/50 [00:00<00:00, 1316.12it/s]\n",
      "100%|██████████| 1000/1000 [00:00<00:00, 24152.39it/s]\n",
      "100%|██████████| 50/50 [00:00<00:00, 1317.65it/s]\n",
      "100%|██████████| 1000/1000 [00:00<00:00, 23309.07it/s]\n",
      "100%|██████████| 50/50 [00:00<00:00, 1307.69it/s]\n",
      "100%|██████████| 1000/1000 [00:00<00:00, 24024.56it/s]\n",
      "100%|██████████| 50/50 [00:00<00:00, 1258.75it/s]\n",
      "100%|██████████| 1000/1000 [00:00<00:00, 23268.85it/s]\n",
      "100%|██████████| 50/50 [00:00<00:00, 1297.90it/s]\n",
      "100%|██████████| 1000/1000 [00:00<00:00, 23683.12it/s]\n",
      "100%|██████████| 50/50 [00:00<00:00, 1293.72it/s]\n",
      "100%|██████████| 1000/1000 [00:00<00:00, 23201.66it/s]\n",
      "100%|██████████| 50/50 [00:00<00:00, 1263.30it/s]\n",
      "100%|██████████| 1000/1000 [00:00<00:00, 23225.43it/s]\n",
      "100%|██████████| 50/50 [00:00<00:00, 1326.40it/s]\n",
      "100%|██████████| 1000/1000 [00:00<00:00, 23692.35it/s]\n",
      "100%|██████████| 50/50 [00:00<00:00, 1316.50it/s]\n",
      "100%|██████████| 1000/1000 [00:00<00:00, 23546.71it/s]\n",
      "100%|██████████| 50/50 [00:00<00:00, 1288.27it/s]\n",
      "100%|██████████| 1000/1000 [00:00<00:00, 24126.27it/s]\n",
      "100%|██████████| 50/50 [00:00<00:00, 1330.93it/s]\n",
      "100%|██████████| 1000/1000 [00:00<00:00, 24356.60it/s]\n",
      "100%|██████████| 50/50 [00:00<00:00, 1331.59it/s]\n",
      "100%|██████████| 1000/1000 [00:00<00:00, 23667.08it/s]\n",
      "100%|██████████| 50/50 [00:00<00:00, 1291.87it/s]\n",
      "100%|██████████| 1000/1000 [00:00<00:00, 24150.44it/s]\n",
      "100%|██████████| 50/50 [00:00<00:00, 1269.63it/s]\n",
      "100%|██████████| 1000/1000 [00:00<00:00, 24262.20it/s]\n",
      "100%|██████████| 50/50 [00:00<00:00, 1308.12it/s]\n",
      "100%|██████████| 1000/1000 [00:00<00:00, 23011.87it/s]\n",
      "100%|██████████| 50/50 [00:00<00:00, 1325.39it/s]\n",
      "100%|██████████| 1000/1000 [00:00<00:00, 23881.07it/s]\n",
      "100%|██████████| 50/50 [00:00<00:00, 1294.23it/s]\n",
      "100%|██████████| 1000/1000 [00:00<00:00, 23756.76it/s]\n",
      "100%|██████████| 50/50 [00:00<00:00, 1311.18it/s]\n",
      "100%|██████████| 1000/1000 [00:00<00:00, 23533.10it/s]\n",
      "100%|██████████| 50/50 [00:00<00:00, 1301.92it/s]\n",
      "100%|██████████| 1000/1000 [00:00<00:00, 24093.43it/s]\n",
      "100%|██████████| 50/50 [00:00<00:00, 1306.69it/s]\n",
      "100%|██████████| 1000/1000 [00:00<00:00, 23841.57it/s]\n",
      "100%|██████████| 50/50 [00:00<00:00, 1243.04it/s]\n",
      "100%|██████████| 1000/1000 [00:00<00:00, 24072.82it/s]\n",
      "100%|██████████| 50/50 [00:00<00:00, 1279.20it/s]\n",
      "100%|██████████| 1000/1000 [00:00<00:00, 23425.06it/s]\n",
      "100%|██████████| 50/50 [00:00<00:00, 1254.92it/s]\n",
      "100%|██████████| 1000/1000 [00:00<00:00, 24399.53it/s]\n",
      "100%|██████████| 50/50 [00:00<00:00, 1338.38it/s]\n",
      "100%|██████████| 1000/1000 [00:00<00:00, 24235.57it/s]\n",
      "100%|██████████| 50/50 [00:00<00:00, 1302.46it/s]\n",
      "100%|██████████| 1000/1000 [00:00<00:00, 23303.89it/s]\n",
      "100%|██████████| 50/50 [00:00<00:00, 1297.87it/s]\n",
      "100%|██████████| 1000/1000 [00:00<00:00, 23590.41it/s]\n",
      "100%|██████████| 50/50 [00:00<00:00, 1293.36it/s]\n",
      "100%|██████████| 1000/1000 [00:00<00:00, 23733.91it/s]\n",
      "100%|██████████| 50/50 [00:00<00:00, 1287.47it/s]\n",
      "100%|██████████| 1000/1000 [00:00<00:00, 23774.54it/s]\n",
      "100%|██████████| 50/50 [00:00<00:00, 1332.12it/s]\n",
      "100%|██████████| 1000/1000 [00:00<00:00, 23681.11it/s]\n",
      "100%|██████████| 50/50 [00:00<00:00, 1268.68it/s]\n",
      "100%|██████████| 1000/1000 [00:00<00:00, 22858.61it/s]\n",
      "100%|██████████| 50/50 [00:00<00:00, 1325.27it/s]\n",
      "100%|██████████| 1000/1000 [00:00<00:00, 23939.82it/s]\n",
      "100%|██████████| 50/50 [00:00<00:00, 1336.58it/s]\n",
      "100%|██████████| 1000/1000 [00:00<00:00, 23417.87it/s]\n",
      "100%|██████████| 50/50 [00:00<00:00, 1314.11it/s]\n",
      "100%|██████████| 1000/1000 [00:00<00:00, 23651.73it/s]\n",
      "100%|██████████| 50/50 [00:00<00:00, 1293.22it/s]\n",
      "100%|██████████| 1000/1000 [00:00<00:00, 23170.52it/s]\n",
      "100%|██████████| 50/50 [00:00<00:00, 1292.64it/s]\n",
      "100%|██████████| 1000/1000 [00:00<00:00, 22998.74it/s]\n",
      "100%|██████████| 50/50 [00:00<00:00, 1299.08it/s]\n",
      "100%|██████████| 1000/1000 [00:00<00:00, 23490.13it/s]\n",
      "100%|██████████| 50/50 [00:00<00:00, 1288.30it/s]\n",
      "100%|██████████| 1000/1000 [00:00<00:00, 23629.75it/s]\n",
      "100%|██████████| 50/50 [00:00<00:00, 1205.11it/s]\n",
      "100%|██████████| 1000/1000 [00:00<00:00, 23936.40it/s]\n",
      "100%|██████████| 50/50 [00:00<00:00, 1313.66it/s]\n",
      "100%|██████████| 1000/1000 [00:00<00:00, 24012.32it/s]\n",
      "100%|██████████| 50/50 [00:00<00:00, 1278.94it/s]\n",
      "100%|██████████| 1000/1000 [00:00<00:00, 23855.81it/s]\n",
      "100%|██████████| 50/50 [00:00<00:00, 1317.28it/s]\n",
      "100%|██████████| 1000/1000 [00:00<00:00, 23471.20it/s]\n",
      "100%|██████████| 50/50 [00:00<00:00, 1290.71it/s]\n",
      "100%|██████████| 1000/1000 [00:00<00:00, 23258.53it/s]\n",
      "100%|██████████| 50/50 [00:00<00:00, 1301.04it/s]\n",
      "100%|██████████| 1000/1000 [00:00<00:00, 23587.49it/s]\n",
      "100%|██████████| 50/50 [00:00<00:00, 1308.53it/s]\n",
      "100%|██████████| 1000/1000 [00:00<00:00, 23650.53it/s]\n",
      "100%|██████████| 50/50 [00:00<00:00, 1301.80it/s]\n",
      "100%|██████████| 1000/1000 [00:00<00:00, 23386.92it/s]\n",
      "100%|██████████| 50/50 [00:00<00:00, 1284.73it/s]\n",
      "100%|██████████| 1000/1000 [00:00<00:00, 23876.18it/s]\n",
      "100%|██████████| 50/50 [00:00<00:00, 1232.86it/s]\n",
      "100%|██████████| 1000/1000 [00:00<00:00, 23537.06it/s]\n",
      "100%|██████████| 50/50 [00:00<00:00, 1292.57it/s]\n",
      "100%|██████████| 1000/1000 [00:00<00:00, 24044.67it/s]\n",
      "100%|██████████| 50/50 [00:00<00:00, 1321.52it/s]\n",
      "100%|██████████| 1000/1000 [00:00<00:00, 23968.41it/s]\n",
      "100%|██████████| 50/50 [00:00<00:00, 1306.00it/s]\n",
      "100%|██████████| 1000/1000 [00:00<00:00, 23761.34it/s]\n",
      "100%|██████████| 50/50 [00:00<00:00, 1256.70it/s]\n",
      "100%|██████████| 1000/1000 [00:00<00:00, 23539.44it/s]\n",
      "100%|██████████| 50/50 [00:00<00:00, 1284.44it/s]\n"
     ]
    }
   ],
   "source": [
    "n_trials = 100\n",
    "n = 100\n",
    "n_gens = 1000\n",
    "\n",
    "fits_1 = np.zeros((n_gens, n_trials))\n",
    "fits_𝜆 = np.zeros((int(n_gens/𝜆), n_trials))\n",
    "\n",
    "for i in range(n_trials):\n",
    "    fits_1[:, i] = one_plus_one(n, n_gens, onemax)\n",
    "    fits_𝜆[:, i] = one_plus_lambda(n, int(n_gens/𝜆), onemax, 𝜆)"
   ]
  },
  {
   "cell_type": "code",
   "execution_count": 115,
   "metadata": {
    "slideshow": {
     "slide_type": "slide"
    }
   },
   "outputs": [
    {
     "name": "stdout",
     "output_type": "stream",
     "text": [
      "(1000,) (1000,)\n",
      "(50,) (50,)\n"
     ]
    }
   ],
   "source": [
    "μ_1 = np.mean(fits_1, axis=1)\n",
    "σ_1 = np.std(fits_1, axis=1)\n",
    "μ_𝜆 = np.mean(fits_𝜆, axis=1)\n",
    "σ_𝜆 = np.std(fits_𝜆, axis=1)\n",
    "print(np.shape(μ_1), np.shape(σ_1))\n",
    "print(np.shape(μ_𝜆), np.shape(σ_𝜆))"
   ]
  },
  {
   "cell_type": "code",
   "execution_count": 116,
   "metadata": {
    "slideshow": {
     "slide_type": "slide"
    }
   },
   "outputs": [
    {
     "data": {
      "image/png": "[encoded data removed]",
      "text/plain": [
       "<Figure size 640x480 with 1 Axes>"
      ]
     },
     "metadata": {},
     "output_type": "display_data"
    }
   ],
   "source": [
    "plt.plot(μ_1, label=\"1+1\", color='b')\n",
    "plt.fill_between(np.arange(0, n_gens), μ_1+σ_1, μ_1-σ_1, facecolor='b', alpha=0.1)\n",
    "plt.plot(np.arange(1,n_gens,𝜆), μ_𝜆, label=\"1+lambda\", color='g')\n",
    "plt.fill_between(np.arange(0, n_gens, 𝜆), μ_𝜆+σ_𝜆, μ_𝜆-σ_𝜆, facecolor='b', alpha=0.1)\n",
    "plt.xlabel(\"Evaluations\")\n",
    "plt.ylabel(\"Fitness\")\n",
    "plt.title(f\"One-Max on {n} Dimensions\")\n",
    "plt.legend();"
   ]
  },
  {
   "cell_type": "markdown",
   "metadata": {
    "slideshow": {
     "slide_type": "slide"
    }
   },
   "source": [
    "<div class=\"alert alert-success\">\n",
    "    <b>Exercise</b>\n",
    "    <br/>\n",
    "    Compare the (1+1) EA and $(1+\\lambda)$ EA on the Leading Ones problem\n",
    "    <br/>\n",
    "</div>"
   ]
  },
  {
   "cell_type": "code",
   "execution_count": 124,
   "metadata": {},
   "outputs": [
    {
     "name": "stderr",
     "output_type": "stream",
     "text": [
      "100%|██████████| 1000/1000 [00:00<00:00, 11337.80it/s]\n",
      "100%|██████████| 50/50 [00:00<00:00, 850.06it/s]\n",
      "100%|██████████| 1000/1000 [00:00<00:00, 14819.61it/s]\n",
      "100%|██████████| 50/50 [00:00<00:00, 677.95it/s]\n",
      "100%|██████████| 1000/1000 [00:00<00:00, 15276.85it/s]\n",
      "100%|██████████| 50/50 [00:00<00:00, 736.54it/s]\n",
      "100%|██████████| 1000/1000 [00:00<00:00, 13771.59it/s]\n",
      "100%|██████████| 50/50 [00:00<00:00, 799.87it/s]\n",
      "100%|██████████| 1000/1000 [00:00<00:00, 14563.86it/s]\n",
      "100%|██████████| 50/50 [00:00<00:00, 777.27it/s]\n",
      "100%|██████████| 1000/1000 [00:00<00:00, 14560.22it/s]\n",
      "100%|██████████| 50/50 [00:00<00:00, 833.39it/s]\n",
      "100%|██████████| 1000/1000 [00:00<00:00, 14171.19it/s]\n",
      "100%|██████████| 50/50 [00:00<00:00, 740.85it/s]\n",
      "100%|██████████| 1000/1000 [00:00<00:00, 12521.32it/s]\n",
      "100%|██████████| 50/50 [00:00<00:00, 633.57it/s]\n",
      "100%|██████████| 1000/1000 [00:00<00:00, 14950.34it/s]\n",
      "100%|██████████| 50/50 [00:00<00:00, 827.68it/s]\n",
      "100%|██████████| 1000/1000 [00:00<00:00, 15465.10it/s]\n",
      "100%|██████████| 50/50 [00:00<00:00, 849.59it/s]\n",
      "100%|██████████| 1000/1000 [00:00<00:00, 15711.24it/s]\n",
      "100%|██████████| 50/50 [00:00<00:00, 843.79it/s]\n",
      "100%|██████████| 1000/1000 [00:00<00:00, 15390.47it/s]\n",
      "100%|██████████| 50/50 [00:00<00:00, 810.84it/s]\n",
      "100%|██████████| 1000/1000 [00:00<00:00, 15655.76it/s]\n",
      "100%|██████████| 50/50 [00:00<00:00, 846.90it/s]\n",
      "100%|██████████| 1000/1000 [00:00<00:00, 15367.35it/s]\n",
      "100%|██████████| 50/50 [00:00<00:00, 830.78it/s]\n",
      "100%|██████████| 1000/1000 [00:00<00:00, 15423.58it/s]\n",
      "100%|██████████| 50/50 [00:00<00:00, 797.48it/s]\n",
      "100%|██████████| 1000/1000 [00:00<00:00, 14919.13it/s]\n",
      "100%|██████████| 50/50 [00:00<00:00, 855.36it/s]\n",
      "100%|██████████| 1000/1000 [00:00<00:00, 15768.65it/s]\n",
      "100%|██████████| 50/50 [00:00<00:00, 857.37it/s]\n",
      "100%|██████████| 1000/1000 [00:00<00:00, 15645.31it/s]\n",
      "100%|██████████| 50/50 [00:00<00:00, 841.64it/s]\n",
      "100%|██████████| 1000/1000 [00:00<00:00, 15654.42it/s]\n",
      "100%|██████████| 50/50 [00:00<00:00, 847.34it/s]\n",
      "100%|██████████| 1000/1000 [00:00<00:00, 15824.99it/s]\n",
      "100%|██████████| 50/50 [00:00<00:00, 848.78it/s]\n",
      "100%|██████████| 1000/1000 [00:00<00:00, 15491.94it/s]\n",
      "100%|██████████| 50/50 [00:00<00:00, 842.17it/s]\n",
      "100%|██████████| 1000/1000 [00:00<00:00, 15599.40it/s]\n",
      "100%|██████████| 50/50 [00:00<00:00, 837.93it/s]\n",
      "100%|██████████| 1000/1000 [00:00<00:00, 15476.34it/s]\n",
      "100%|██████████| 50/50 [00:00<00:00, 813.25it/s]\n",
      "100%|██████████| 1000/1000 [00:00<00:00, 15358.18it/s]\n",
      "100%|██████████| 50/50 [00:00<00:00, 843.76it/s]\n",
      "100%|██████████| 1000/1000 [00:00<00:00, 15855.62it/s]\n",
      "100%|██████████| 50/50 [00:00<00:00, 846.50it/s]\n",
      "100%|██████████| 1000/1000 [00:00<00:00, 15462.64it/s]\n",
      "100%|██████████| 50/50 [00:00<00:00, 830.56it/s]\n",
      "100%|██████████| 1000/1000 [00:00<00:00, 15407.83it/s]\n",
      "100%|██████████| 50/50 [00:00<00:00, 835.29it/s]\n",
      "100%|██████████| 1000/1000 [00:00<00:00, 15400.31it/s]\n",
      "100%|██████████| 50/50 [00:00<00:00, 846.45it/s]\n",
      "100%|██████████| 1000/1000 [00:00<00:00, 15613.39it/s]\n",
      "100%|██████████| 50/50 [00:00<00:00, 831.33it/s]\n",
      "100%|██████████| 1000/1000 [00:00<00:00, 15627.01it/s]\n",
      "100%|██████████| 50/50 [00:00<00:00, 816.90it/s]\n",
      "100%|██████████| 1000/1000 [00:00<00:00, 15391.72it/s]\n",
      "100%|██████████| 50/50 [00:00<00:00, 852.61it/s]\n",
      "100%|██████████| 1000/1000 [00:00<00:00, 15761.19it/s]\n",
      "100%|██████████| 50/50 [00:00<00:00, 833.32it/s]\n",
      "100%|██████████| 1000/1000 [00:00<00:00, 15595.63it/s]\n",
      "100%|██████████| 50/50 [00:00<00:00, 833.53it/s]\n",
      "100%|██████████| 1000/1000 [00:00<00:00, 14777.68it/s]\n",
      "100%|██████████| 50/50 [00:00<00:00, 820.43it/s]\n",
      "100%|██████████| 1000/1000 [00:00<00:00, 15301.65it/s]\n",
      "100%|██████████| 50/50 [00:00<00:00, 829.80it/s]\n",
      "100%|██████████| 1000/1000 [00:00<00:00, 15622.00it/s]\n",
      "100%|██████████| 50/50 [00:00<00:00, 827.07it/s]\n",
      "100%|██████████| 1000/1000 [00:00<00:00, 15817.00it/s]\n",
      "100%|██████████| 50/50 [00:00<00:00, 839.86it/s]\n",
      "100%|██████████| 1000/1000 [00:00<00:00, 15422.05it/s]\n",
      "100%|██████████| 50/50 [00:00<00:00, 835.80it/s]\n",
      "100%|██████████| 1000/1000 [00:00<00:00, 15858.26it/s]\n",
      "100%|██████████| 50/50 [00:00<00:00, 856.56it/s]\n",
      "100%|██████████| 1000/1000 [00:00<00:00, 15553.47it/s]\n",
      "100%|██████████| 50/50 [00:00<00:00, 825.89it/s]\n",
      "100%|██████████| 1000/1000 [00:00<00:00, 15108.84it/s]\n",
      "100%|██████████| 50/50 [00:00<00:00, 829.41it/s]\n",
      "100%|██████████| 1000/1000 [00:00<00:00, 15248.47it/s]\n",
      "100%|██████████| 50/50 [00:00<00:00, 850.66it/s]\n",
      "100%|██████████| 1000/1000 [00:00<00:00, 15576.92it/s]\n",
      "100%|██████████| 50/50 [00:00<00:00, 837.01it/s]\n",
      "100%|██████████| 1000/1000 [00:00<00:00, 15574.09it/s]\n",
      "100%|██████████| 50/50 [00:00<00:00, 838.45it/s]\n",
      "100%|██████████| 1000/1000 [00:00<00:00, 15511.65it/s]\n",
      "100%|██████████| 50/50 [00:00<00:00, 815.06it/s]\n",
      "100%|██████████| 1000/1000 [00:00<00:00, 15694.37it/s]\n",
      "100%|██████████| 50/50 [00:00<00:00, 782.50it/s]\n",
      "100%|██████████| 1000/1000 [00:00<00:00, 14622.76it/s]\n",
      "100%|██████████| 50/50 [00:00<00:00, 836.21it/s]\n",
      "100%|██████████| 1000/1000 [00:00<00:00, 15716.71it/s]\n",
      "100%|██████████| 50/50 [00:00<00:00, 838.27it/s]\n",
      "100%|██████████| 1000/1000 [00:00<00:00, 15247.91it/s]\n",
      "100%|██████████| 50/50 [00:00<00:00, 839.40it/s]\n",
      "100%|██████████| 1000/1000 [00:00<00:00, 15596.09it/s]\n",
      "100%|██████████| 50/50 [00:00<00:00, 835.79it/s]\n",
      "100%|██████████| 1000/1000 [00:00<00:00, 15346.44it/s]\n",
      "100%|██████████| 50/50 [00:00<00:00, 833.73it/s]\n",
      "100%|██████████| 1000/1000 [00:00<00:00, 15781.82it/s]\n",
      "100%|██████████| 50/50 [00:00<00:00, 855.09it/s]\n",
      "100%|██████████| 1000/1000 [00:00<00:00, 15803.35it/s]\n",
      "100%|██████████| 50/50 [00:00<00:00, 833.13it/s]\n",
      "100%|██████████| 1000/1000 [00:00<00:00, 15694.90it/s]\n",
      "100%|██████████| 50/50 [00:00<00:00, 835.34it/s]\n",
      "100%|██████████| 1000/1000 [00:00<00:00, 15658.51it/s]\n",
      "100%|██████████| 50/50 [00:00<00:00, 861.25it/s]\n",
      "100%|██████████| 1000/1000 [00:00<00:00, 15453.36it/s]\n",
      "100%|██████████| 50/50 [00:00<00:00, 849.69it/s]\n",
      "100%|██████████| 1000/1000 [00:00<00:00, 15560.34it/s]\n",
      "100%|██████████| 50/50 [00:00<00:00, 828.91it/s]\n",
      "100%|██████████| 1000/1000 [00:00<00:00, 15693.37it/s]\n",
      "100%|██████████| 50/50 [00:00<00:00, 820.11it/s]\n",
      "100%|██████████| 1000/1000 [00:00<00:00, 14803.81it/s]\n",
      "100%|██████████| 50/50 [00:00<00:00, 735.29it/s]\n",
      "100%|██████████| 1000/1000 [00:00<00:00, 15386.80it/s]\n",
      "100%|██████████| 50/50 [00:00<00:00, 827.24it/s]\n",
      "100%|██████████| 1000/1000 [00:00<00:00, 15695.48it/s]\n",
      "100%|██████████| 50/50 [00:00<00:00, 827.78it/s]\n",
      "100%|██████████| 1000/1000 [00:00<00:00, 15331.46it/s]\n",
      "100%|██████████| 50/50 [00:00<00:00, 795.36it/s]\n",
      "100%|██████████| 1000/1000 [00:00<00:00, 14973.24it/s]\n",
      "100%|██████████| 50/50 [00:00<00:00, 832.43it/s]\n",
      "100%|██████████| 1000/1000 [00:00<00:00, 15383.64it/s]\n",
      "100%|██████████| 50/50 [00:00<00:00, 785.41it/s]\n",
      "100%|██████████| 1000/1000 [00:00<00:00, 15462.70it/s]\n",
      "100%|██████████| 50/50 [00:00<00:00, 749.44it/s]\n",
      "100%|██████████| 1000/1000 [00:00<00:00, 14587.77it/s]\n",
      "100%|██████████| 50/50 [00:00<00:00, 718.88it/s]\n",
      "100%|██████████| 1000/1000 [00:00<00:00, 14569.37it/s]\n",
      "100%|██████████| 50/50 [00:00<00:00, 788.19it/s]\n",
      "100%|██████████| 1000/1000 [00:00<00:00, 15493.14it/s]\n",
      "100%|██████████| 50/50 [00:00<00:00, 862.63it/s]\n",
      "100%|██████████| 1000/1000 [00:00<00:00, 16441.61it/s]\n",
      "100%|██████████| 50/50 [00:00<00:00, 926.53it/s]\n",
      "100%|██████████| 1000/1000 [00:00<00:00, 17561.88it/s]\n",
      "100%|██████████| 50/50 [00:00<00:00, 964.90it/s]\n",
      "100%|██████████| 1000/1000 [00:00<00:00, 18302.15it/s]\n",
      "100%|██████████| 50/50 [00:00<00:00, 999.00it/s]\n",
      "100%|██████████| 1000/1000 [00:00<00:00, 19080.63it/s]\n",
      "100%|██████████| 50/50 [00:00<00:00, 1084.49it/s]\n",
      "100%|██████████| 1000/1000 [00:00<00:00, 20217.41it/s]\n",
      "100%|██████████| 50/50 [00:00<00:00, 1154.74it/s]\n",
      "100%|██████████| 1000/1000 [00:00<00:00, 21411.42it/s]\n",
      "100%|██████████| 50/50 [00:00<00:00, 1210.33it/s]\n",
      "100%|██████████| 1000/1000 [00:00<00:00, 21496.90it/s]\n",
      "100%|██████████| 50/50 [00:00<00:00, 1190.43it/s]\n",
      "100%|██████████| 1000/1000 [00:00<00:00, 22888.18it/s]\n",
      "100%|██████████| 50/50 [00:00<00:00, 1251.59it/s]\n",
      "100%|██████████| 1000/1000 [00:00<00:00, 24078.49it/s]\n",
      "100%|██████████| 50/50 [00:00<00:00, 1347.35it/s]\n",
      "100%|██████████| 1000/1000 [00:00<00:00, 24112.12it/s]\n",
      "100%|██████████| 50/50 [00:00<00:00, 1252.85it/s]\n",
      "100%|██████████| 1000/1000 [00:00<00:00, 22248.47it/s]\n",
      "100%|██████████| 50/50 [00:00<00:00, 1381.14it/s]\n",
      "100%|██████████| 1000/1000 [00:00<00:00, 24958.37it/s]\n",
      "100%|██████████| 50/50 [00:00<00:00, 1393.00it/s]\n",
      "100%|██████████| 1000/1000 [00:00<00:00, 25012.99it/s]\n",
      "100%|██████████| 50/50 [00:00<00:00, 1366.06it/s]\n",
      "100%|██████████| 1000/1000 [00:00<00:00, 24314.66it/s]\n",
      "100%|██████████| 50/50 [00:00<00:00, 1299.20it/s]\n",
      "100%|██████████| 1000/1000 [00:00<00:00, 24461.86it/s]\n",
      "100%|██████████| 50/50 [00:00<00:00, 1365.08it/s]\n",
      "100%|██████████| 1000/1000 [00:00<00:00, 23782.90it/s]\n",
      "100%|██████████| 50/50 [00:00<00:00, 1297.60it/s]\n",
      "100%|██████████| 1000/1000 [00:00<00:00, 24258.27it/s]\n",
      "100%|██████████| 50/50 [00:00<00:00, 1373.93it/s]\n",
      "100%|██████████| 1000/1000 [00:00<00:00, 24525.80it/s]\n",
      "100%|██████████| 50/50 [00:00<00:00, 1354.11it/s]\n",
      "100%|██████████| 1000/1000 [00:00<00:00, 23576.22it/s]\n",
      "100%|██████████| 50/50 [00:00<00:00, 1278.98it/s]\n",
      "100%|██████████| 1000/1000 [00:00<00:00, 23617.64it/s]\n",
      "100%|██████████| 50/50 [00:00<00:00, 1318.02it/s]\n",
      "100%|██████████| 1000/1000 [00:00<00:00, 25331.90it/s]\n",
      "100%|██████████| 50/50 [00:00<00:00, 1409.56it/s]\n",
      "100%|██████████| 1000/1000 [00:00<00:00, 24622.41it/s]\n",
      "100%|██████████| 50/50 [00:00<00:00, 1397.08it/s]\n",
      "100%|██████████| 1000/1000 [00:00<00:00, 25232.54it/s]\n",
      "100%|██████████| 50/50 [00:00<00:00, 1367.24it/s]\n",
      "100%|██████████| 1000/1000 [00:00<00:00, 25265.37it/s]\n",
      "100%|██████████| 50/50 [00:00<00:00, 1376.33it/s]\n",
      "100%|██████████| 1000/1000 [00:00<00:00, 25725.46it/s]\n",
      "100%|██████████| 50/50 [00:00<00:00, 1409.05it/s]\n",
      "100%|██████████| 1000/1000 [00:00<00:00, 25329.91it/s]\n",
      "100%|██████████| 50/50 [00:00<00:00, 1370.24it/s]\n",
      "100%|██████████| 1000/1000 [00:00<00:00, 24745.01it/s]\n",
      "100%|██████████| 50/50 [00:00<00:00, 1389.55it/s]\n",
      "100%|██████████| 1000/1000 [00:00<00:00, 24815.87it/s]\n",
      "100%|██████████| 50/50 [00:00<00:00, 1382.12it/s]\n",
      "100%|██████████| 1000/1000 [00:00<00:00, 24820.72it/s]\n",
      "100%|██████████| 50/50 [00:00<00:00, 1380.68it/s]\n",
      "100%|██████████| 1000/1000 [00:00<00:00, 25423.26it/s]\n",
      "100%|██████████| 50/50 [00:00<00:00, 1376.86it/s]\n",
      "100%|██████████| 1000/1000 [00:00<00:00, 24423.12it/s]\n",
      "100%|██████████| 50/50 [00:00<00:00, 1357.02it/s]\n",
      "100%|██████████| 1000/1000 [00:00<00:00, 24763.56it/s]\n",
      "100%|██████████| 50/50 [00:00<00:00, 1363.49it/s]\n"
     ]
    }
   ],
   "source": [
    "n_trials = 100\n",
    "n = 100\n",
    "n_gens = 1000\n",
    "𝜆 = 20\n",
    "\n",
    "fits_1 = np.zeros((n_gens, n_trials))\n",
    "fits_𝜆 = np.zeros((int(n_gens/𝜆), n_trials))\n",
    "\n",
    "for i in range(n_trials):\n",
    "    fits_1[:, i] = one_plus_one(n, n_gens, leading_ones)\n",
    "    fits_𝜆[:, i] = one_plus_lambda(n, int(n_gens/𝜆), leading_ones, 𝜆)"
   ]
  },
  {
   "cell_type": "code",
   "execution_count": 125,
   "metadata": {},
   "outputs": [
    {
     "name": "stdout",
     "output_type": "stream",
     "text": [
      "(1000,) (1000,)\n",
      "(50,) (50,)\n"
     ]
    }
   ],
   "source": [
    "μ_1 = np.mean(fits_1, axis=1)\n",
    "σ_1 = np.std(fits_1, axis=1)\n",
    "μ_𝜆 = np.mean(fits_𝜆, axis=1)\n",
    "σ_𝜆 = np.std(fits_𝜆, axis=1)\n",
    "print(np.shape(μ_1), np.shape(σ_1))\n",
    "print(np.shape(μ_𝜆), np.shape(σ_𝜆))"
   ]
  },
  {
   "cell_type": "code",
   "execution_count": 126,
   "metadata": {},
   "outputs": [
    {
     "data": {
      "image/png": "[encoded data removed]",
      "text/plain": [
       "<Figure size 640x480 with 1 Axes>"
      ]
     },
     "metadata": {},
     "output_type": "display_data"
    }
   ],
   "source": [
    "plt.plot(μ_1, label=\"1+1\", color='b')\n",
    "plt.fill_between(np.arange(0, n_gens), μ_1+σ_1, μ_1-σ_1, facecolor='b', alpha=0.1)\n",
    "plt.plot(np.arange(1,n_gens,𝜆), μ_𝜆, label=\"1+lambda\", color='g')\n",
    "plt.fill_between(np.arange(0, n_gens, 𝜆), μ_𝜆+σ_𝜆, μ_𝜆-σ_𝜆, facecolor='b', alpha=0.1)\n",
    "plt.xlabel(\"Evaluations\")\n",
    "plt.ylabel(\"Fitness\")\n",
    "plt.title(f\"Leading ones on {n} Dimensions\")\n",
    "plt.legend();"
   ]
  },
  {
   "cell_type": "markdown",
   "metadata": {},
   "source": [
    "It seems that the 1+lambda is less performing than the 1+1 EA for the leading ones problem too."
   ]
  },
  {
   "cell_type": "markdown",
   "metadata": {
    "slideshow": {
     "slide_type": "slide"
    }
   },
   "source": [
    "## <a id=\"parameters\"></a>Algorithm parameters\n",
    "\n",
    "In this tutorial, we used fixed parameter values based on theoretical results. However, in practice, the choice of mutation rate and population size can greatly impact experimental results. Recent work has also demonstrated the value in [self-adjusting parameters](https://arxiv.org/pdf/1704.02191.pdf), which is similar to what a different stochastic optimization method, simulated annealing, uses. The policy of parameter adjustment is still an active field of research."
   ]
  },
  {
   "cell_type": "markdown",
   "metadata": {
    "slideshow": {
     "slide_type": "fragment"
    }
   },
   "source": [
    "<div class=\"alert alert-info\">\n",
    "    <b>Bonus Exercise</b>\n",
    "    <br/>\n",
    "    Study the effect of population size $\\lambda$ and mutation rate on $(1+1)$ EA and $(1+\\lambda)$ EA. Do they change the results a lot? Try implementing a dynamic mutation rate, such as one that decreases over time.\n",
    "    <br/>\n",
    "</div>"
   ]
  },
  {
   "cell_type": "code",
   "execution_count": 134,
   "metadata": {},
   "outputs": [
    {
     "name": "stderr",
     "output_type": "stream",
     "text": [
      "100%|██████████| 1000/1000 [00:00<00:00, 14381.79it/s]\n",
      "100%|██████████| 200/200 [00:00<00:00, 3749.85it/s]\n",
      "100%|██████████| 1000/1000 [00:00<00:00, 13968.77it/s]\n",
      "100%|██████████| 100/100 [00:00<00:00, 1660.13it/s]\n",
      "  0%|          | 0/1000 [00:00<?, ?it/s]"
     ]
    },
    {
     "name": "stderr",
     "output_type": "stream",
     "text": [
      "100%|██████████| 1000/1000 [00:00<00:00, 14473.60it/s]\n",
      "100%|██████████| 50/50 [00:00<00:00, 801.51it/s]\n",
      "100%|██████████| 1000/1000 [00:00<00:00, 14678.90it/s]\n",
      "100%|██████████| 20/20 [00:00<00:00, 312.44it/s]\n",
      "100%|██████████| 1000/1000 [00:00<00:00, 14692.32it/s]\n",
      "100%|██████████| 10/10 [00:00<00:00, 151.12it/s]\n"
     ]
    }
   ],
   "source": [
    "# Define the range of lambda values to test\n",
    "lambda_values = [5, 10, 20, 50, 100]\n",
    "\n",
    "# Define the number of generations\n",
    "num_generations = 1000\n",
    "\n",
    "# Define the length of the individual\n",
    "ind_length = 100\n",
    "\n",
    "# Run the (1+1) and (1+lambda) EA for each lambda value\n",
    "fits_1 = []\n",
    "fits_𝜆 = []\n",
    "\n",
    "for 𝜆 in lambda_values:\n",
    "    fits_1.append(one_plus_one(ind_length, num_generations, onemax))\n",
    "    fits_𝜆.append(one_plus_lambda(ind_length, int(num_generations/𝜆), onemax, 𝜆))"
   ]
  },
  {
   "cell_type": "code",
   "execution_count": 135,
   "metadata": {},
   "outputs": [
    {
     "data": {
      "image/png": "[encoded data removed]",
      "text/plain": [
       "<Figure size 1000x600 with 1 Axes>"
      ]
     },
     "metadata": {},
     "output_type": "display_data"
    }
   ],
   "source": [
    "# Plot the fitness improvement over generations for each lambda value\n",
    "plt.figure(figsize=(10, 6))\n",
    "for i, 𝜆 in enumerate(lambda_values):\n",
    "    plt.plot(fits_1[i], label=f\"1+1 (λ={𝜆})\", linestyle='--')\n",
    "    plt.plot(np.arange(1,num_generations,𝜆),fits_𝜆[i], label=f\"1+λ (λ={𝜆})\")\n",
    "\n",
    "plt.xlabel(\"Evaluations\")\n",
    "plt.ylabel(\"Fitness\")\n",
    "plt.title(\"Effect of Population Size (λ) on (1+1) and (1+λ) EA\")\n",
    "plt.legend()\n",
    "plt.show()"
   ]
  },
  {
   "cell_type": "markdown",
   "metadata": {},
   "source": []
  },
  {
   "cell_type": "code",
   "execution_count": null,
   "metadata": {},
   "outputs": [],
   "source": []
  },
  {
   "cell_type": "code",
   "execution_count": 122,
   "metadata": {},
   "outputs": [
    {
     "name": "stderr",
     "output_type": "stream",
     "text": [
      "100%|██████████| 1000/1000 [00:00<00:00, 24032.96it/s]\n",
      "100%|██████████| 10/10 [00:00<00:00, 260.76it/s]\n",
      "100%|██████████| 1000/1000 [00:00<00:00, 24907.53it/s]\n",
      "100%|██████████| 10/10 [00:00<00:00, 262.02it/s]\n",
      "100%|██████████| 1000/1000 [00:00<00:00, 24964.01it/s]\n",
      "100%|██████████| 10/10 [00:00<00:00, 261.89it/s]\n",
      "100%|██████████| 1000/1000 [00:00<00:00, 25395.09it/s]\n",
      "100%|██████████| 10/10 [00:00<00:00, 268.83it/s]\n",
      "100%|██████████| 1000/1000 [00:00<00:00, 24836.44it/s]\n",
      "100%|██████████| 10/10 [00:00<00:00, 269.55it/s]\n",
      "100%|██████████| 1000/1000 [00:00<00:00, 25570.97it/s]\n",
      "100%|██████████| 10/10 [00:00<00:00, 259.62it/s]\n",
      "100%|██████████| 1000/1000 [00:00<00:00, 24414.73it/s]\n",
      "100%|██████████| 10/10 [00:00<00:00, 264.30it/s]\n",
      "100%|██████████| 1000/1000 [00:00<00:00, 24790.64it/s]\n",
      "100%|██████████| 10/10 [00:00<00:00, 262.02it/s]\n",
      "100%|██████████| 1000/1000 [00:00<00:00, 25192.23it/s]\n",
      "100%|██████████| 10/10 [00:00<00:00, 271.86it/s]\n",
      "100%|██████████| 1000/1000 [00:00<00:00, 25418.18it/s]\n",
      "100%|██████████| 10/10 [00:00<00:00, 262.86it/s]\n",
      "100%|██████████| 1000/1000 [00:00<00:00, 25243.78it/s]\n",
      "100%|██████████| 10/10 [00:00<00:00, 262.01it/s]\n",
      "100%|██████████| 1000/1000 [00:00<00:00, 24785.66it/s]\n",
      "100%|██████████| 10/10 [00:00<00:00, 260.76it/s]\n",
      "100%|██████████| 1000/1000 [00:00<00:00, 25072.35it/s]\n",
      "100%|██████████| 10/10 [00:00<00:00, 263.65it/s]\n",
      "100%|██████████| 1000/1000 [00:00<00:00, 25353.95it/s]\n",
      "100%|██████████| 10/10 [00:00<00:00, 254.79it/s]\n",
      "100%|██████████| 1000/1000 [00:00<00:00, 25362.54it/s]\n",
      "100%|██████████| 10/10 [00:00<00:00, 265.43it/s]\n",
      "100%|██████████| 1000/1000 [00:00<00:00, 25023.89it/s]\n",
      "100%|██████████| 10/10 [00:00<00:00, 266.88it/s]\n",
      "100%|██████████| 1000/1000 [00:00<00:00, 25031.21it/s]\n",
      "100%|██████████| 10/10 [00:00<00:00, 260.90it/s]\n",
      "100%|██████████| 1000/1000 [00:00<00:00, 25055.73it/s]\n",
      "100%|██████████| 10/10 [00:00<00:00, 261.27it/s]\n",
      "100%|██████████| 1000/1000 [00:00<00:00, 24894.23it/s]\n",
      "100%|██████████| 10/10 [00:00<00:00, 264.69it/s]\n",
      "100%|██████████| 1000/1000 [00:00<00:00, 24497.87it/s]\n",
      "100%|██████████| 10/10 [00:00<00:00, 254.14it/s]\n",
      "100%|██████████| 1000/1000 [00:00<00:00, 24341.90it/s]\n",
      "100%|██████████| 10/10 [00:00<00:00, 248.45it/s]\n",
      "100%|██████████| 1000/1000 [00:00<00:00, 25113.34it/s]\n",
      "100%|██████████| 10/10 [00:00<00:00, 260.89it/s]\n",
      "100%|██████████| 1000/1000 [00:00<00:00, 24621.97it/s]\n",
      "100%|██████████| 10/10 [00:00<00:00, 262.31it/s]\n",
      "100%|██████████| 1000/1000 [00:00<00:00, 24903.69it/s]\n",
      "100%|██████████| 10/10 [00:00<00:00, 261.42it/s]\n",
      "100%|██████████| 1000/1000 [00:00<00:00, 25144.05it/s]\n",
      "100%|██████████| 10/10 [00:00<00:00, 260.55it/s]\n",
      "100%|██████████| 1000/1000 [00:00<00:00, 25190.11it/s]\n",
      "100%|██████████| 10/10 [00:00<00:00, 266.43it/s]\n",
      "100%|██████████| 1000/1000 [00:00<00:00, 24255.61it/s]\n",
      "100%|██████████| 10/10 [00:00<00:00, 258.42it/s]\n",
      "100%|██████████| 1000/1000 [00:00<00:00, 24365.66it/s]\n",
      "100%|██████████| 10/10 [00:00<00:00, 261.60it/s]\n",
      "100%|██████████| 1000/1000 [00:00<00:00, 24831.30it/s]\n",
      "100%|██████████| 10/10 [00:00<00:00, 254.41it/s]\n",
      "100%|██████████| 1000/1000 [00:00<00:00, 24916.85it/s]\n",
      "100%|██████████| 10/10 [00:00<00:00, 259.73it/s]\n",
      "100%|██████████| 1000/1000 [00:00<00:00, 24839.24it/s]\n",
      "100%|██████████| 10/10 [00:00<00:00, 261.59it/s]\n",
      "100%|██████████| 1000/1000 [00:00<00:00, 24126.97it/s]\n",
      "100%|██████████| 10/10 [00:00<00:00, 256.73it/s]\n",
      "100%|██████████| 1000/1000 [00:00<00:00, 24792.99it/s]\n",
      "100%|██████████| 10/10 [00:00<00:00, 257.20it/s]\n",
      "100%|██████████| 1000/1000 [00:00<00:00, 25042.71it/s]\n",
      "100%|██████████| 10/10 [00:00<00:00, 256.84it/s]\n",
      "100%|██████████| 1000/1000 [00:00<00:00, 24924.41it/s]\n",
      "100%|██████████| 10/10 [00:00<00:00, 262.81it/s]\n",
      "100%|██████████| 1000/1000 [00:00<00:00, 24702.60it/s]\n",
      "100%|██████████| 10/10 [00:00<00:00, 260.30it/s]\n",
      "100%|██████████| 1000/1000 [00:00<00:00, 24836.30it/s]\n",
      "100%|██████████| 10/10 [00:00<00:00, 266.11it/s]\n",
      "100%|██████████| 1000/1000 [00:00<00:00, 23787.89it/s]\n",
      "100%|██████████| 10/10 [00:00<00:00, 261.55it/s]\n",
      "100%|██████████| 1000/1000 [00:00<00:00, 24614.75it/s]\n",
      "100%|██████████| 10/10 [00:00<00:00, 249.29it/s]\n",
      "100%|██████████| 1000/1000 [00:00<00:00, 25104.17it/s]\n",
      "100%|██████████| 10/10 [00:00<00:00, 266.35it/s]\n",
      "100%|██████████| 1000/1000 [00:00<00:00, 25096.51it/s]\n",
      "100%|██████████| 10/10 [00:00<00:00, 261.49it/s]\n",
      "100%|██████████| 1000/1000 [00:00<00:00, 23324.50it/s]\n",
      "100%|██████████| 10/10 [00:00<00:00, 258.54it/s]\n",
      "100%|██████████| 1000/1000 [00:00<00:00, 24817.19it/s]\n",
      "100%|██████████| 10/10 [00:00<00:00, 265.02it/s]\n",
      "100%|██████████| 1000/1000 [00:00<00:00, 24569.04it/s]\n",
      "100%|██████████| 10/10 [00:00<00:00, 263.31it/s]\n",
      "100%|██████████| 1000/1000 [00:00<00:00, 24307.48it/s]\n",
      "100%|██████████| 10/10 [00:00<00:00, 258.91it/s]\n",
      "100%|██████████| 1000/1000 [00:00<00:00, 24434.36it/s]\n",
      "100%|██████████| 10/10 [00:00<00:00, 262.11it/s]\n",
      "100%|██████████| 1000/1000 [00:00<00:00, 24986.47it/s]\n",
      "100%|██████████| 10/10 [00:00<00:00, 267.54it/s]\n",
      "100%|██████████| 1000/1000 [00:00<00:00, 24917.74it/s]\n",
      "100%|██████████| 10/10 [00:00<00:00, 259.05it/s]\n",
      "100%|██████████| 1000/1000 [00:00<00:00, 25445.01it/s]\n",
      "100%|██████████| 10/10 [00:00<00:00, 264.42it/s]\n",
      "100%|██████████| 1000/1000 [00:00<00:00, 25198.28it/s]\n",
      "100%|██████████| 10/10 [00:00<00:00, 262.57it/s]\n",
      "100%|██████████| 1000/1000 [00:00<00:00, 24699.40it/s]\n",
      "100%|██████████| 10/10 [00:00<00:00, 261.38it/s]\n",
      "100%|██████████| 1000/1000 [00:00<00:00, 24789.76it/s]\n",
      "100%|██████████| 10/10 [00:00<00:00, 255.52it/s]\n",
      "100%|██████████| 1000/1000 [00:00<00:00, 25028.22it/s]\n",
      "100%|██████████| 10/10 [00:00<00:00, 251.84it/s]\n",
      "100%|██████████| 1000/1000 [00:00<00:00, 24870.17it/s]\n",
      "100%|██████████| 10/10 [00:00<00:00, 259.28it/s]\n",
      "100%|██████████| 1000/1000 [00:00<00:00, 25541.38it/s]\n",
      "100%|██████████| 10/10 [00:00<00:00, 261.30it/s]\n",
      "100%|██████████| 1000/1000 [00:00<00:00, 24602.19it/s]\n",
      "100%|██████████| 10/10 [00:00<00:00, 258.77it/s]\n",
      "100%|██████████| 1000/1000 [00:00<00:00, 24750.85it/s]\n",
      "100%|██████████| 10/10 [00:00<00:00, 251.90it/s]\n",
      "100%|██████████| 1000/1000 [00:00<00:00, 23981.15it/s]\n",
      "100%|██████████| 10/10 [00:00<00:00, 256.61it/s]\n",
      "100%|██████████| 1000/1000 [00:00<00:00, 25012.40it/s]\n",
      "100%|██████████| 10/10 [00:00<00:00, 259.40it/s]\n",
      "100%|██████████| 1000/1000 [00:00<00:00, 24644.11it/s]\n",
      "100%|██████████| 10/10 [00:00<00:00, 184.61it/s]\n",
      "100%|██████████| 1000/1000 [00:00<00:00, 25230.11it/s]\n",
      "100%|██████████| 10/10 [00:00<00:00, 266.19it/s]\n",
      "100%|██████████| 1000/1000 [00:00<00:00, 25167.89it/s]\n",
      "100%|██████████| 10/10 [00:00<00:00, 262.56it/s]\n",
      "100%|██████████| 1000/1000 [00:00<00:00, 24651.06it/s]\n",
      "100%|██████████| 10/10 [00:00<00:00, 261.69it/s]\n",
      "100%|██████████| 1000/1000 [00:00<00:00, 24089.83it/s]\n",
      "100%|██████████| 10/10 [00:00<00:00, 266.04it/s]\n",
      "100%|██████████| 1000/1000 [00:00<00:00, 25099.36it/s]\n",
      "100%|██████████| 10/10 [00:00<00:00, 262.92it/s]\n",
      "100%|██████████| 1000/1000 [00:00<00:00, 23991.85it/s]\n",
      "100%|██████████| 10/10 [00:00<00:00, 261.05it/s]\n",
      "100%|██████████| 1000/1000 [00:00<00:00, 24568.03it/s]\n",
      "100%|██████████| 10/10 [00:00<00:00, 260.65it/s]\n",
      "100%|██████████| 1000/1000 [00:00<00:00, 24066.61it/s]\n",
      "100%|██████████| 10/10 [00:00<00:00, 267.13it/s]\n",
      "100%|██████████| 1000/1000 [00:00<00:00, 24882.56it/s]\n",
      "100%|██████████| 10/10 [00:00<00:00, 263.55it/s]\n",
      "100%|██████████| 1000/1000 [00:00<00:00, 25274.35it/s]\n",
      "100%|██████████| 10/10 [00:00<00:00, 259.19it/s]\n",
      "100%|██████████| 1000/1000 [00:00<00:00, 25402.17it/s]\n",
      "100%|██████████| 10/10 [00:00<00:00, 263.94it/s]\n",
      "100%|██████████| 1000/1000 [00:00<00:00, 25235.58it/s]\n",
      "100%|██████████| 10/10 [00:00<00:00, 267.65it/s]\n",
      "100%|██████████| 1000/1000 [00:00<00:00, 25242.11it/s]\n",
      "100%|██████████| 10/10 [00:00<00:00, 263.58it/s]\n",
      "100%|██████████| 1000/1000 [00:00<00:00, 25016.28it/s]\n",
      "100%|██████████| 10/10 [00:00<00:00, 268.68it/s]\n",
      "100%|██████████| 1000/1000 [00:00<00:00, 23739.01it/s]\n",
      "100%|██████████| 10/10 [00:00<00:00, 267.25it/s]\n",
      "100%|██████████| 1000/1000 [00:00<00:00, 24962.53it/s]\n",
      "100%|██████████| 10/10 [00:00<00:00, 262.78it/s]\n",
      "100%|██████████| 1000/1000 [00:00<00:00, 24694.17it/s]\n",
      "100%|██████████| 10/10 [00:00<00:00, 248.44it/s]\n",
      "100%|██████████| 1000/1000 [00:00<00:00, 24128.21it/s]\n",
      "100%|██████████| 10/10 [00:00<00:00, 269.18it/s]\n",
      "100%|██████████| 1000/1000 [00:00<00:00, 24870.90it/s]\n",
      "100%|██████████| 10/10 [00:00<00:00, 256.22it/s]\n",
      "100%|██████████| 1000/1000 [00:00<00:00, 22218.06it/s]\n",
      "100%|██████████| 10/10 [00:00<00:00, 254.66it/s]\n",
      "100%|██████████| 1000/1000 [00:00<00:00, 24921.00it/s]\n",
      "100%|██████████| 10/10 [00:00<00:00, 266.19it/s]\n",
      "100%|██████████| 1000/1000 [00:00<00:00, 24715.41it/s]\n",
      "100%|██████████| 10/10 [00:00<00:00, 266.85it/s]\n",
      "100%|██████████| 1000/1000 [00:00<00:00, 24948.57it/s]\n",
      "100%|██████████| 10/10 [00:00<00:00, 270.09it/s]\n",
      "100%|██████████| 1000/1000 [00:00<00:00, 25468.96it/s]\n",
      "100%|██████████| 10/10 [00:00<00:00, 266.41it/s]\n",
      "100%|██████████| 1000/1000 [00:00<00:00, 24364.95it/s]\n",
      "100%|██████████| 10/10 [00:00<00:00, 256.80it/s]\n",
      "100%|██████████| 1000/1000 [00:00<00:00, 24817.34it/s]\n",
      "100%|██████████| 10/10 [00:00<00:00, 264.12it/s]\n",
      "100%|██████████| 1000/1000 [00:00<00:00, 25098.16it/s]\n",
      "100%|██████████| 10/10 [00:00<00:00, 264.11it/s]\n",
      "100%|██████████| 1000/1000 [00:00<00:00, 24614.60it/s]\n",
      "100%|██████████| 10/10 [00:00<00:00, 260.89it/s]\n",
      "100%|██████████| 1000/1000 [00:00<00:00, 25448.87it/s]\n",
      "100%|██████████| 10/10 [00:00<00:00, 150.78it/s]\n",
      "100%|██████████| 1000/1000 [00:00<00:00, 23251.18it/s]\n",
      "100%|██████████| 10/10 [00:00<00:00, 255.13it/s]\n",
      "100%|██████████| 1000/1000 [00:00<00:00, 24894.23it/s]\n",
      "100%|██████████| 10/10 [00:00<00:00, 264.05it/s]\n",
      "100%|██████████| 1000/1000 [00:00<00:00, 25055.88it/s]\n",
      "100%|██████████| 10/10 [00:00<00:00, 262.71it/s]\n",
      "100%|██████████| 1000/1000 [00:00<00:00, 25369.75it/s]\n",
      "100%|██████████| 10/10 [00:00<00:00, 264.99it/s]\n",
      "100%|██████████| 1000/1000 [00:00<00:00, 25316.92it/s]\n",
      "100%|██████████| 10/10 [00:00<00:00, 268.79it/s]\n",
      "100%|██████████| 1000/1000 [00:00<00:00, 25473.29it/s]\n",
      "100%|██████████| 10/10 [00:00<00:00, 267.38it/s]\n",
      "100%|██████████| 1000/1000 [00:00<00:00, 24984.98it/s]\n",
      "100%|██████████| 10/10 [00:00<00:00, 265.64it/s]\n",
      "100%|██████████| 1000/1000 [00:00<00:00, 24646.86it/s]\n",
      "100%|██████████| 10/10 [00:00<00:00, 259.67it/s]\n",
      "100%|██████████| 1000/1000 [00:00<00:00, 20770.67it/s]\n",
      "100%|██████████| 10/10 [00:00<00:00, 265.47it/s]\n",
      "100%|██████████| 1000/1000 [00:00<00:00, 25432.97it/s]\n",
      "100%|██████████| 10/10 [00:00<00:00, 268.88it/s]\n",
      "100%|██████████| 1000/1000 [00:00<00:00, 24464.00it/s]\n",
      "100%|██████████| 10/10 [00:00<00:00, 264.87it/s]\n",
      "100%|██████████| 1000/1000 [00:00<00:00, 24532.11it/s]\n",
      "100%|██████████| 10/10 [00:00<00:00, 253.43it/s]\n",
      "100%|██████████| 1000/1000 [00:00<00:00, 25196.01it/s]\n",
      "100%|██████████| 10/10 [00:00<00:00, 251.82it/s]\n",
      "100%|██████████| 1000/1000 [00:00<00:00, 24494.57it/s]\n",
      "100%|██████████| 10/10 [00:00<00:00, 258.27it/s]\n",
      "100%|██████████| 1000/1000 [00:00<00:00, 24582.43it/s]\n",
      "100%|██████████| 10/10 [00:00<00:00, 251.05it/s]\n",
      "100%|██████████| 1000/1000 [00:00<00:00, 24991.24it/s]\n",
      "100%|██████████| 10/10 [00:00<00:00, 259.38it/s]\n",
      "100%|██████████| 1000/1000 [00:00<00:00, 25022.84it/s]\n",
      "100%|██████████| 10/10 [00:00<00:00, 263.97it/s]\n",
      "100%|██████████| 1000/1000 [00:00<00:00, 25356.56it/s]\n",
      "100%|██████████| 10/10 [00:00<00:00, 266.94it/s]\n",
      "100%|██████████| 1000/1000 [00:00<00:00, 24972.78it/s]\n",
      "100%|██████████| 10/10 [00:00<00:00, 259.07it/s]\n",
      "100%|██████████| 1000/1000 [00:00<00:00, 24633.69it/s]\n",
      "100%|██████████| 10/10 [00:00<00:00, 264.71it/s]\n",
      "100%|██████████| 1000/1000 [00:00<00:00, 23804.09it/s]\n",
      "100%|██████████| 10/10 [00:00<00:00, 259.79it/s]\n",
      "100%|██████████| 1000/1000 [00:00<00:00, 24615.04it/s]\n",
      "100%|██████████| 10/10 [00:00<00:00, 265.66it/s]\n",
      "100%|██████████| 1000/1000 [00:00<00:00, 22520.36it/s]\n",
      "100%|██████████| 10/10 [00:00<00:00, 258.66it/s]\n",
      "100%|██████████| 1000/1000 [00:00<00:00, 24042.33it/s]\n",
      "100%|██████████| 10/10 [00:00<00:00, 253.94it/s]\n",
      "100%|██████████| 1000/1000 [00:00<00:00, 25108.68it/s]\n",
      "100%|██████████| 10/10 [00:00<00:00, 159.97it/s]\n",
      "100%|██████████| 1000/1000 [00:00<00:00, 22869.33it/s]\n",
      "100%|██████████| 10/10 [00:00<00:00, 260.87it/s]\n",
      "100%|██████████| 1000/1000 [00:00<00:00, 25049.15it/s]\n",
      "100%|██████████| 10/10 [00:00<00:00, 268.22it/s]\n",
      "100%|██████████| 1000/1000 [00:00<00:00, 24756.84it/s]\n",
      "100%|██████████| 10/10 [00:00<00:00, 259.74it/s]\n",
      "100%|██████████| 1000/1000 [00:00<00:00, 25190.86it/s]\n",
      "100%|██████████| 10/10 [00:00<00:00, 259.26it/s]\n",
      "100%|██████████| 1000/1000 [00:00<00:00, 24267.82it/s]\n",
      "100%|██████████| 10/10 [00:00<00:00, 261.93it/s]\n",
      "100%|██████████| 1000/1000 [00:00<00:00, 24307.90it/s]\n",
      "100%|██████████| 10/10 [00:00<00:00, 258.81it/s]\n",
      "100%|██████████| 1000/1000 [00:00<00:00, 23792.47it/s]\n",
      "100%|██████████| 10/10 [00:00<00:00, 254.05it/s]\n",
      "100%|██████████| 1000/1000 [00:00<00:00, 20048.01it/s]\n",
      "100%|██████████| 10/10 [00:00<00:00, 236.64it/s]\n",
      "100%|██████████| 1000/1000 [00:00<00:00, 24443.61it/s]\n",
      "100%|██████████| 10/10 [00:00<00:00, 249.04it/s]\n",
      "100%|██████████| 1000/1000 [00:00<00:00, 24084.02it/s]\n",
      "100%|██████████| 10/10 [00:00<00:00, 250.13it/s]\n",
      "100%|██████████| 1000/1000 [00:00<00:00, 24939.08it/s]\n",
      "100%|██████████| 10/10 [00:00<00:00, 261.85it/s]\n",
      "100%|██████████| 1000/1000 [00:00<00:00, 23943.37it/s]\n",
      "100%|██████████| 10/10 [00:00<00:00, 245.97it/s]\n",
      "100%|██████████| 1000/1000 [00:00<00:00, 23265.89it/s]\n",
      "100%|██████████| 10/10 [00:00<00:00, 254.00it/s]\n",
      "100%|██████████| 1000/1000 [00:00<00:00, 24927.81it/s]\n",
      "100%|██████████| 10/10 [00:00<00:00, 263.22it/s]\n",
      "100%|██████████| 1000/1000 [00:00<00:00, 24018.23it/s]\n",
      "100%|██████████| 10/10 [00:00<00:00, 253.73it/s]\n",
      "100%|██████████| 1000/1000 [00:00<00:00, 24470.28it/s]\n",
      "100%|██████████| 10/10 [00:00<00:00, 255.72it/s]\n",
      "100%|██████████| 1000/1000 [00:00<00:00, 24577.39it/s]\n",
      "100%|██████████| 10/10 [00:00<00:00, 262.65it/s]\n",
      "100%|██████████| 1000/1000 [00:00<00:00, 24410.47it/s]\n",
      "100%|██████████| 10/10 [00:00<00:00, 259.13it/s]\n",
      "100%|██████████| 1000/1000 [00:00<00:00, 24301.14it/s]\n",
      "100%|██████████| 10/10 [00:00<00:00, 262.40it/s]\n",
      "100%|██████████| 1000/1000 [00:00<00:00, 24867.96it/s]\n",
      "100%|██████████| 10/10 [00:00<00:00, 263.31it/s]\n",
      "100%|██████████| 1000/1000 [00:00<00:00, 24262.48it/s]\n",
      "100%|██████████| 10/10 [00:00<00:00, 263.01it/s]\n",
      "100%|██████████| 1000/1000 [00:00<00:00, 24256.03it/s]\n",
      "100%|██████████| 10/10 [00:00<00:00, 248.37it/s]\n",
      "100%|██████████| 1000/1000 [00:00<00:00, 23981.70it/s]\n",
      "100%|██████████| 10/10 [00:00<00:00, 243.92it/s]\n",
      "100%|██████████| 1000/1000 [00:00<00:00, 23857.16it/s]\n",
      "100%|██████████| 10/10 [00:00<00:00, 250.71it/s]\n",
      "100%|██████████| 1000/1000 [00:00<00:00, 24155.73it/s]\n",
      "100%|██████████| 10/10 [00:00<00:00, 250.69it/s]\n",
      "100%|██████████| 1000/1000 [00:00<00:00, 24761.96it/s]\n",
      "100%|██████████| 10/10 [00:00<00:00, 265.55it/s]\n",
      "100%|██████████| 1000/1000 [00:00<00:00, 24850.86it/s]\n",
      "100%|██████████| 10/10 [00:00<00:00, 262.20it/s]\n",
      "100%|██████████| 1000/1000 [00:00<00:00, 24335.54it/s]\n",
      "100%|██████████| 10/10 [00:00<00:00, 256.00it/s]\n",
      "100%|██████████| 1000/1000 [00:00<00:00, 23956.09it/s]\n",
      "100%|██████████| 10/10 [00:00<00:00, 262.91it/s]\n",
      "100%|██████████| 1000/1000 [00:00<00:00, 24360.28it/s]\n",
      "100%|██████████| 10/10 [00:00<00:00, 258.02it/s]\n",
      "100%|██████████| 1000/1000 [00:00<00:00, 24780.10it/s]\n",
      "100%|██████████| 10/10 [00:00<00:00, 262.18it/s]\n",
      "100%|██████████| 1000/1000 [00:00<00:00, 24754.50it/s]\n",
      "100%|██████████| 10/10 [00:00<00:00, 261.17it/s]\n",
      "100%|██████████| 1000/1000 [00:00<00:00, 24486.85it/s]\n",
      "100%|██████████| 10/10 [00:00<00:00, 259.51it/s]\n",
      "100%|██████████| 1000/1000 [00:00<00:00, 24660.05it/s]\n",
      "100%|██████████| 10/10 [00:00<00:00, 253.67it/s]\n",
      "100%|██████████| 1000/1000 [00:00<00:00, 24670.34it/s]\n",
      "100%|██████████| 10/10 [00:00<00:00, 258.23it/s]\n",
      "100%|██████████| 1000/1000 [00:00<00:00, 24693.87it/s]\n",
      "100%|██████████| 10/10 [00:00<00:00, 257.66it/s]\n",
      "100%|██████████| 1000/1000 [00:00<00:00, 24949.17it/s]\n",
      "100%|██████████| 10/10 [00:00<00:00, 261.78it/s]\n",
      "100%|██████████| 1000/1000 [00:00<00:00, 25215.70it/s]\n",
      "100%|██████████| 10/10 [00:00<00:00, 253.49it/s]\n",
      "100%|██████████| 1000/1000 [00:00<00:00, 25389.10it/s]\n",
      "100%|██████████| 10/10 [00:00<00:00, 258.29it/s]\n",
      "100%|██████████| 1000/1000 [00:00<00:00, 24553.22it/s]\n",
      "100%|██████████| 10/10 [00:00<00:00, 252.29it/s]\n",
      "100%|██████████| 1000/1000 [00:00<00:00, 24835.85it/s]\n",
      "100%|██████████| 10/10 [00:00<00:00, 239.97it/s]\n",
      "100%|██████████| 1000/1000 [00:00<00:00, 25426.96it/s]\n",
      "100%|██████████| 10/10 [00:00<00:00, 265.09it/s]\n",
      "100%|██████████| 1000/1000 [00:00<00:00, 25362.54it/s]\n",
      "100%|██████████| 10/10 [00:00<00:00, 267.01it/s]\n",
      "100%|██████████| 1000/1000 [00:00<00:00, 25309.28it/s]\n",
      "100%|██████████| 10/10 [00:00<00:00, 266.95it/s]\n",
      "100%|██████████| 1000/1000 [00:00<00:00, 25098.61it/s]\n",
      "100%|██████████| 10/10 [00:00<00:00, 256.27it/s]\n",
      "100%|██████████| 1000/1000 [00:00<00:00, 24921.30it/s]\n",
      "100%|██████████| 10/10 [00:00<00:00, 267.15it/s]\n",
      "100%|██████████| 1000/1000 [00:00<00:00, 23840.35it/s]\n",
      "100%|██████████| 10/10 [00:00<00:00, 256.93it/s]\n",
      "100%|██████████| 1000/1000 [00:00<00:00, 23930.80it/s]\n",
      "100%|██████████| 10/10 [00:00<00:00, 254.77it/s]\n",
      "100%|██████████| 1000/1000 [00:00<00:00, 24924.55it/s]\n",
      "100%|██████████| 10/10 [00:00<00:00, 267.78it/s]\n",
      "100%|██████████| 1000/1000 [00:00<00:00, 24179.54it/s]\n",
      "100%|██████████| 10/10 [00:00<00:00, 263.78it/s]\n",
      "100%|██████████| 1000/1000 [00:00<00:00, 24625.15it/s]\n",
      "100%|██████████| 10/10 [00:00<00:00, 260.49it/s]\n",
      "100%|██████████| 1000/1000 [00:00<00:00, 24653.38it/s]\n",
      "100%|██████████| 10/10 [00:00<00:00, 258.52it/s]\n",
      "100%|██████████| 1000/1000 [00:00<00:00, 24554.66it/s]\n",
      "100%|██████████| 10/10 [00:00<00:00, 267.04it/s]\n",
      "100%|██████████| 1000/1000 [00:00<00:00, 25259.28it/s]\n",
      "100%|██████████| 10/10 [00:00<00:00, 267.30it/s]\n",
      "100%|██████████| 1000/1000 [00:00<00:00, 24759.47it/s]\n",
      "100%|██████████| 10/10 [00:00<00:00, 269.73it/s]\n",
      "100%|██████████| 1000/1000 [00:00<00:00, 25550.72it/s]\n",
      "100%|██████████| 10/10 [00:00<00:00, 259.46it/s]\n",
      "100%|██████████| 1000/1000 [00:00<00:00, 24239.63it/s]\n",
      "100%|██████████| 10/10 [00:00<00:00, 259.18it/s]\n",
      "100%|██████████| 1000/1000 [00:00<00:00, 23201.41it/s]\n",
      "100%|██████████| 10/10 [00:00<00:00, 230.70it/s]\n",
      "100%|██████████| 1000/1000 [00:00<00:00, 23682.05it/s]\n",
      "100%|██████████| 10/10 [00:00<00:00, 254.88it/s]\n",
      "100%|██████████| 1000/1000 [00:00<00:00, 24149.47it/s]\n",
      "100%|██████████| 10/10 [00:00<00:00, 188.51it/s]\n",
      "100%|██████████| 1000/1000 [00:00<00:00, 24866.19it/s]\n",
      "100%|██████████| 10/10 [00:00<00:00, 255.41it/s]\n",
      "100%|██████████| 1000/1000 [00:00<00:00, 24625.30it/s]\n",
      "100%|██████████| 10/10 [00:00<00:00, 255.55it/s]\n",
      "100%|██████████| 1000/1000 [00:00<00:00, 25175.89it/s]\n",
      "100%|██████████| 10/10 [00:00<00:00, 256.52it/s]\n",
      "100%|██████████| 1000/1000 [00:00<00:00, 24315.23it/s]\n",
      "100%|██████████| 10/10 [00:00<00:00, 250.06it/s]\n",
      "100%|██████████| 1000/1000 [00:00<00:00, 24177.59it/s]\n",
      "100%|██████████| 10/10 [00:00<00:00, 249.41it/s]\n",
      "100%|██████████| 1000/1000 [00:00<00:00, 24218.21it/s]\n",
      "100%|██████████| 10/10 [00:00<00:00, 247.87it/s]\n",
      "100%|██████████| 1000/1000 [00:00<00:00, 23573.44it/s]\n",
      "100%|██████████| 10/10 [00:00<00:00, 257.82it/s]\n",
      "100%|██████████| 1000/1000 [00:00<00:00, 24437.49it/s]\n",
      "100%|██████████| 10/10 [00:00<00:00, 241.77it/s]\n",
      "100%|██████████| 1000/1000 [00:00<00:00, 23770.77it/s]\n",
      "100%|██████████| 10/10 [00:00<00:00, 257.16it/s]\n",
      "100%|██████████| 1000/1000 [00:00<00:00, 24120.58it/s]\n",
      "100%|██████████| 10/10 [00:00<00:00, 257.58it/s]\n",
      "100%|██████████| 1000/1000 [00:00<00:00, 24317.20it/s]\n",
      "100%|██████████| 10/10 [00:00<00:00, 259.84it/s]\n",
      "100%|██████████| 1000/1000 [00:00<00:00, 23961.97it/s]\n",
      "100%|██████████| 10/10 [00:00<00:00, 254.54it/s]\n",
      "100%|██████████| 1000/1000 [00:00<00:00, 24820.28it/s]\n",
      "100%|██████████| 10/10 [00:00<00:00, 260.30it/s]\n",
      "100%|██████████| 1000/1000 [00:00<00:00, 24939.23it/s]\n",
      "100%|██████████| 10/10 [00:00<00:00, 259.27it/s]\n",
      "100%|██████████| 1000/1000 [00:00<00:00, 24500.15it/s]\n",
      "100%|██████████| 10/10 [00:00<00:00, 255.58it/s]\n",
      "100%|██████████| 1000/1000 [00:00<00:00, 24718.47it/s]\n",
      "100%|██████████| 10/10 [00:00<00:00, 256.31it/s]\n",
      "100%|██████████| 1000/1000 [00:00<00:00, 23624.03it/s]\n",
      "100%|██████████| 10/10 [00:00<00:00, 251.06it/s]\n",
      "100%|██████████| 1000/1000 [00:00<00:00, 24392.01it/s]\n",
      "100%|██████████| 10/10 [00:00<00:00, 250.92it/s]\n",
      "100%|██████████| 1000/1000 [00:00<00:00, 23451.39it/s]\n",
      "100%|██████████| 10/10 [00:00<00:00, 250.59it/s]\n",
      "100%|██████████| 1000/1000 [00:00<00:00, 24066.88it/s]\n",
      "100%|██████████| 10/10 [00:00<00:00, 251.82it/s]\n",
      "100%|██████████| 1000/1000 [00:00<00:00, 25157.77it/s]\n",
      "100%|██████████| 10/10 [00:00<00:00, 267.63it/s]\n",
      "100%|██████████| 1000/1000 [00:00<00:00, 25584.38it/s]\n",
      "100%|██████████| 10/10 [00:00<00:00, 264.49it/s]\n",
      "100%|██████████| 1000/1000 [00:00<00:00, 24500.44it/s]\n",
      "100%|██████████| 10/10 [00:00<00:00, 259.23it/s]\n",
      "100%|██████████| 1000/1000 [00:00<00:00, 24789.91it/s]\n",
      "100%|██████████| 10/10 [00:00<00:00, 263.31it/s]\n",
      "100%|██████████| 1000/1000 [00:00<00:00, 24723.42it/s]\n",
      "100%|██████████| 10/10 [00:00<00:00, 193.23it/s]\n",
      "100%|██████████| 1000/1000 [00:00<00:00, 20747.96it/s]\n",
      "100%|██████████| 10/10 [00:00<00:00, 204.15it/s]\n",
      "100%|██████████| 1000/1000 [00:00<00:00, 23264.08it/s]\n",
      "100%|██████████| 10/10 [00:00<00:00, 252.23it/s]\n",
      "100%|██████████| 1000/1000 [00:00<00:00, 24084.57it/s]\n",
      "100%|██████████| 10/10 [00:00<00:00, 252.46it/s]\n",
      "100%|██████████| 1000/1000 [00:00<00:00, 24369.62it/s]\n",
      "100%|██████████| 10/10 [00:00<00:00, 254.10it/s]\n",
      "100%|██████████| 1000/1000 [00:00<00:00, 22934.36it/s]\n",
      "100%|██████████| 10/10 [00:00<00:00, 245.03it/s]\n",
      "100%|██████████| 1000/1000 [00:00<00:00, 24100.49it/s]\n",
      "100%|██████████| 10/10 [00:00<00:00, 257.90it/s]\n",
      "100%|██████████| 1000/1000 [00:00<00:00, 24396.69it/s]\n",
      "100%|██████████| 10/10 [00:00<00:00, 255.38it/s]\n",
      "100%|██████████| 1000/1000 [00:00<00:00, 24510.46it/s]\n",
      "100%|██████████| 10/10 [00:00<00:00, 254.90it/s]\n",
      "100%|██████████| 1000/1000 [00:00<00:00, 23949.66it/s]\n",
      "100%|██████████| 10/10 [00:00<00:00, 257.96it/s]\n",
      "100%|██████████| 1000/1000 [00:00<00:00, 23801.39it/s]\n",
      "100%|██████████| 10/10 [00:00<00:00, 257.44it/s]\n",
      "100%|██████████| 1000/1000 [00:00<00:00, 24238.37it/s]\n",
      "100%|██████████| 10/10 [00:00<00:00, 246.40it/s]\n",
      "100%|██████████| 1000/1000 [00:00<00:00, 24011.91it/s]\n",
      "100%|██████████| 10/10 [00:00<00:00, 252.58it/s]\n",
      "100%|██████████| 1000/1000 [00:00<00:00, 24257.57it/s]\n",
      "100%|██████████| 10/10 [00:00<00:00, 249.90it/s]\n",
      "100%|██████████| 1000/1000 [00:00<00:00, 24352.64it/s]\n",
      "100%|██████████| 10/10 [00:00<00:00, 254.01it/s]\n",
      "100%|██████████| 1000/1000 [00:00<00:00, 24513.33it/s]\n",
      "100%|██████████| 10/10 [00:00<00:00, 256.01it/s]\n",
      "100%|██████████| 1000/1000 [00:00<00:00, 24572.06it/s]\n",
      "100%|██████████| 10/10 [00:00<00:00, 262.34it/s]\n",
      "100%|██████████| 1000/1000 [00:00<00:00, 24640.34it/s]\n",
      "100%|██████████| 10/10 [00:00<00:00, 254.24it/s]\n",
      "100%|██████████| 1000/1000 [00:00<00:00, 24768.54it/s]\n",
      "100%|██████████| 10/10 [00:00<00:00, 254.48it/s]\n",
      "100%|██████████| 1000/1000 [00:00<00:00, 24453.30it/s]\n",
      "100%|██████████| 10/10 [00:00<00:00, 255.40it/s]\n",
      "100%|██████████| 1000/1000 [00:00<00:00, 24563.00it/s]\n",
      "100%|██████████| 10/10 [00:00<00:00, 260.24it/s]\n",
      "100%|██████████| 1000/1000 [00:00<00:00, 23522.14it/s]\n",
      "100%|██████████| 10/10 [00:00<00:00, 254.73it/s]\n",
      "100%|██████████| 1000/1000 [00:00<00:00, 23722.37it/s]\n",
      "100%|██████████| 10/10 [00:00<00:00, 252.33it/s]\n",
      "100%|██████████| 1000/1000 [00:00<00:00, 24006.96it/s]\n",
      "100%|██████████| 10/10 [00:00<00:00, 227.51it/s]\n",
      "100%|██████████| 1000/1000 [00:00<00:00, 23581.79it/s]\n",
      "100%|██████████| 10/10 [00:00<00:00, 253.82it/s]\n",
      "100%|██████████| 1000/1000 [00:00<00:00, 24274.98it/s]\n",
      "100%|██████████| 10/10 [00:00<00:00, 252.09it/s]\n",
      "100%|██████████| 1000/1000 [00:00<00:00, 24186.93it/s]\n",
      "100%|██████████| 10/10 [00:00<00:00, 255.87it/s]\n",
      "100%|██████████| 1000/1000 [00:00<00:00, 24321.15it/s]\n",
      "100%|██████████| 10/10 [00:00<00:00, 253.76it/s]\n",
      "100%|██████████| 1000/1000 [00:00<00:00, 24285.66it/s]\n",
      "100%|██████████| 10/10 [00:00<00:00, 256.00it/s]\n",
      "100%|██████████| 1000/1000 [00:00<00:00, 24229.69it/s]\n",
      "100%|██████████| 10/10 [00:00<00:00, 258.59it/s]\n",
      "100%|██████████| 1000/1000 [00:00<00:00, 24245.79it/s]\n",
      "100%|██████████| 10/10 [00:00<00:00, 257.35it/s]\n",
      "100%|██████████| 1000/1000 [00:00<00:00, 24534.69it/s]\n",
      "100%|██████████| 10/10 [00:00<00:00, 255.42it/s]\n",
      "100%|██████████| 1000/1000 [00:00<00:00, 24326.65it/s]\n",
      "100%|██████████| 10/10 [00:00<00:00, 255.27it/s]\n",
      "100%|██████████| 1000/1000 [00:00<00:00, 21172.23it/s]\n",
      "100%|██████████| 10/10 [00:00<00:00, 242.76it/s]\n",
      "100%|██████████| 1000/1000 [00:00<00:00, 24468.00it/s]\n",
      "100%|██████████| 10/10 [00:00<00:00, 250.16it/s]\n",
      "100%|██████████| 1000/1000 [00:00<00:00, 22301.47it/s]\n",
      "100%|██████████| 10/10 [00:00<00:00, 255.01it/s]\n",
      "100%|██████████| 1000/1000 [00:00<00:00, 24100.07it/s]\n",
      "100%|██████████| 10/10 [00:00<00:00, 256.14it/s]\n",
      "100%|██████████| 1000/1000 [00:00<00:00, 24765.03it/s]\n",
      "100%|██████████| 10/10 [00:00<00:00, 256.43it/s]\n",
      "100%|██████████| 1000/1000 [00:00<00:00, 24355.33it/s]\n",
      "100%|██████████| 10/10 [00:00<00:00, 255.27it/s]\n",
      "100%|██████████| 1000/1000 [00:00<00:00, 24508.74it/s]\n",
      "100%|██████████| 10/10 [00:00<00:00, 256.40it/s]\n",
      "100%|██████████| 1000/1000 [00:00<00:00, 24187.91it/s]\n",
      "100%|██████████| 10/10 [00:00<00:00, 255.69it/s]\n",
      "100%|██████████| 1000/1000 [00:00<00:00, 24329.33it/s]\n",
      "100%|██████████| 10/10 [00:00<00:00, 245.83it/s]\n",
      "100%|██████████| 1000/1000 [00:00<00:00, 23916.20it/s]\n",
      "100%|██████████| 10/10 [00:00<00:00, 246.23it/s]\n",
      "100%|██████████| 1000/1000 [00:00<00:00, 24584.02it/s]\n",
      "100%|██████████| 10/10 [00:00<00:00, 247.47it/s]\n",
      "100%|██████████| 1000/1000 [00:00<00:00, 23043.60it/s]\n",
      "100%|██████████| 10/10 [00:00<00:00, 255.81it/s]\n",
      "100%|██████████| 1000/1000 [00:00<00:00, 24691.26it/s]\n",
      "100%|██████████| 10/10 [00:00<00:00, 247.87it/s]\n",
      "100%|██████████| 1000/1000 [00:00<00:00, 24228.29it/s]\n",
      "100%|██████████| 10/10 [00:00<00:00, 252.19it/s]\n",
      "100%|██████████| 1000/1000 [00:00<00:00, 24485.85it/s]\n",
      "100%|██████████| 10/10 [00:00<00:00, 257.53it/s]\n",
      "100%|██████████| 1000/1000 [00:00<00:00, 24656.57it/s]\n",
      "100%|██████████| 10/10 [00:00<00:00, 261.43it/s]\n",
      "100%|██████████| 1000/1000 [00:00<00:00, 24698.82it/s]\n",
      "100%|██████████| 10/10 [00:00<00:00, 253.07it/s]\n",
      "100%|██████████| 1000/1000 [00:00<00:00, 24055.56it/s]\n",
      "100%|██████████| 10/10 [00:00<00:00, 255.12it/s]\n",
      "100%|██████████| 1000/1000 [00:00<00:00, 23964.71it/s]\n",
      "100%|██████████| 10/10 [00:00<00:00, 255.63it/s]\n",
      "100%|██████████| 1000/1000 [00:00<00:00, 24463.86it/s]\n",
      "100%|██████████| 10/10 [00:00<00:00, 260.16it/s]\n",
      "100%|██████████| 1000/1000 [00:00<00:00, 24675.28it/s]\n",
      "100%|██████████| 10/10 [00:00<00:00, 251.45it/s]\n",
      "100%|██████████| 1000/1000 [00:00<00:00, 22832.11it/s]\n",
      "100%|██████████| 10/10 [00:00<00:00, 258.44it/s]\n",
      "100%|██████████| 1000/1000 [00:00<00:00, 24700.86it/s]\n",
      "100%|██████████| 10/10 [00:00<00:00, 260.37it/s]\n",
      "100%|██████████| 1000/1000 [00:00<00:00, 24080.98it/s]\n",
      "100%|██████████| 10/10 [00:00<00:00, 257.47it/s]\n",
      "100%|██████████| 1000/1000 [00:00<00:00, 24617.49it/s]\n",
      "100%|██████████| 10/10 [00:00<00:00, 259.05it/s]\n",
      "100%|██████████| 1000/1000 [00:00<00:00, 24766.93it/s]\n",
      "100%|██████████| 10/10 [00:00<00:00, 259.31it/s]\n",
      "100%|██████████| 1000/1000 [00:00<00:00, 24516.48it/s]\n",
      "100%|██████████| 10/10 [00:00<00:00, 256.77it/s]\n",
      "100%|██████████| 1000/1000 [00:00<00:00, 24172.85it/s]\n",
      "100%|██████████| 10/10 [00:00<00:00, 253.89it/s]\n",
      "100%|██████████| 1000/1000 [00:00<00:00, 24270.49it/s]\n",
      "100%|██████████| 10/10 [00:00<00:00, 253.49it/s]\n",
      "100%|██████████| 1000/1000 [00:00<00:00, 23621.50it/s]\n",
      "100%|██████████| 10/10 [00:00<00:00, 260.24it/s]\n",
      "100%|██████████| 1000/1000 [00:00<00:00, 23138.31it/s]\n",
      "100%|██████████| 10/10 [00:00<00:00, 259.93it/s]\n",
      "100%|██████████| 1000/1000 [00:00<00:00, 24021.26it/s]\n",
      "100%|██████████| 10/10 [00:00<00:00, 256.67it/s]\n",
      "100%|██████████| 1000/1000 [00:00<00:00, 23991.03it/s]\n",
      "100%|██████████| 10/10 [00:00<00:00, 241.43it/s]\n",
      "100%|██████████| 1000/1000 [00:00<00:00, 24433.08it/s]\n",
      "100%|██████████| 10/10 [00:00<00:00, 257.34it/s]\n",
      "100%|██████████| 1000/1000 [00:00<00:00, 24625.30it/s]\n",
      "100%|██████████| 10/10 [00:00<00:00, 257.65it/s]\n",
      "100%|██████████| 1000/1000 [00:00<00:00, 24308.89it/s]\n",
      "100%|██████████| 10/10 [00:00<00:00, 258.33it/s]\n",
      "100%|██████████| 1000/1000 [00:00<00:00, 24455.01it/s]\n",
      "100%|██████████| 10/10 [00:00<00:00, 258.11it/s]\n",
      "100%|██████████| 1000/1000 [00:00<00:00, 24277.23it/s]\n",
      "100%|██████████| 10/10 [00:00<00:00, 258.59it/s]\n",
      "100%|██████████| 1000/1000 [00:00<00:00, 24039.98it/s]\n",
      "100%|██████████| 10/10 [00:00<00:00, 255.46it/s]\n",
      "100%|██████████| 1000/1000 [00:00<00:00, 24245.65it/s]\n",
      "100%|██████████| 10/10 [00:00<00:00, 251.34it/s]\n",
      "100%|██████████| 1000/1000 [00:00<00:00, 20209.62it/s]\n",
      "100%|██████████| 10/10 [00:00<00:00, 256.72it/s]\n",
      "100%|██████████| 1000/1000 [00:00<00:00, 24517.05it/s]\n",
      "100%|██████████| 10/10 [00:00<00:00, 250.71it/s]\n",
      "100%|██████████| 1000/1000 [00:00<00:00, 24571.63it/s]\n",
      "100%|██████████| 10/10 [00:00<00:00, 253.86it/s]\n",
      "100%|██████████| 1000/1000 [00:00<00:00, 24760.79it/s]\n",
      "100%|██████████| 10/10 [00:00<00:00, 254.79it/s]\n",
      "100%|██████████| 1000/1000 [00:00<00:00, 24272.45it/s]\n",
      "100%|██████████| 10/10 [00:00<00:00, 250.24it/s]\n",
      "100%|██████████| 1000/1000 [00:00<00:00, 24669.91it/s]\n",
      "100%|██████████| 10/10 [00:00<00:00, 255.97it/s]\n",
      "100%|██████████| 1000/1000 [00:00<00:00, 24627.32it/s]\n",
      "100%|██████████| 10/10 [00:00<00:00, 258.92it/s]\n",
      "100%|██████████| 1000/1000 [00:00<00:00, 24122.52it/s]\n",
      "100%|██████████| 10/10 [00:00<00:00, 226.51it/s]\n",
      "100%|██████████| 1000/1000 [00:00<00:00, 21151.41it/s]\n",
      "100%|██████████| 10/10 [00:00<00:00, 245.18it/s]\n",
      "100%|██████████| 1000/1000 [00:00<00:00, 23613.78it/s]\n",
      "100%|██████████| 10/10 [00:00<00:00, 240.39it/s]\n",
      "100%|██████████| 1000/1000 [00:00<00:00, 24332.72it/s]\n",
      "100%|██████████| 10/10 [00:00<00:00, 254.56it/s]\n",
      "100%|██████████| 1000/1000 [00:00<00:00, 24798.56it/s]\n",
      "100%|██████████| 10/10 [00:00<00:00, 260.50it/s]\n",
      "100%|██████████| 1000/1000 [00:00<00:00, 24570.77it/s]\n",
      "100%|██████████| 10/10 [00:00<00:00, 255.64it/s]\n",
      "100%|██████████| 1000/1000 [00:00<00:00, 24679.34it/s]\n",
      "100%|██████████| 10/10 [00:00<00:00, 245.99it/s]\n",
      "100%|██████████| 1000/1000 [00:00<00:00, 24279.90it/s]\n",
      "100%|██████████| 10/10 [00:00<00:00, 259.87it/s]\n",
      "100%|██████████| 1000/1000 [00:00<00:00, 24606.23it/s]\n",
      "100%|██████████| 10/10 [00:00<00:00, 253.89it/s]\n",
      "100%|██████████| 1000/1000 [00:00<00:00, 23830.32it/s]\n",
      "100%|██████████| 10/10 [00:00<00:00, 245.27it/s]\n",
      "100%|██████████| 1000/1000 [00:00<00:00, 21791.76it/s]\n",
      "100%|██████████| 10/10 [00:00<00:00, 245.89it/s]\n",
      "100%|██████████| 1000/1000 [00:00<00:00, 23335.27it/s]\n",
      "100%|██████████| 10/10 [00:00<00:00, 252.08it/s]\n",
      "100%|██████████| 1000/1000 [00:00<00:00, 24273.44it/s]\n",
      "100%|██████████| 10/10 [00:00<00:00, 250.25it/s]\n",
      "100%|██████████| 1000/1000 [00:00<00:00, 23907.48it/s]\n",
      "100%|██████████| 10/10 [00:00<00:00, 248.26it/s]\n",
      "100%|██████████| 1000/1000 [00:00<00:00, 24234.31it/s]\n",
      "100%|██████████| 10/10 [00:00<00:00, 257.30it/s]\n",
      "100%|██████████| 1000/1000 [00:00<00:00, 24470.99it/s]\n",
      "100%|██████████| 10/10 [00:00<00:00, 256.81it/s]\n",
      "100%|██████████| 1000/1000 [00:00<00:00, 23952.40it/s]\n",
      "100%|██████████| 10/10 [00:00<00:00, 261.16it/s]\n",
      "100%|██████████| 1000/1000 [00:00<00:00, 24390.74it/s]\n",
      "100%|██████████| 10/10 [00:00<00:00, 258.05it/s]\n",
      "100%|██████████| 1000/1000 [00:00<00:00, 24170.90it/s]\n",
      "100%|██████████| 10/10 [00:00<00:00, 248.88it/s]\n",
      "100%|██████████| 1000/1000 [00:00<00:00, 23207.31it/s]\n",
      "100%|██████████| 10/10 [00:00<00:00, 250.13it/s]\n",
      "100%|██████████| 1000/1000 [00:00<00:00, 23594.39it/s]\n",
      "100%|██████████| 10/10 [00:00<00:00, 238.63it/s]\n",
      "100%|██████████| 1000/1000 [00:00<00:00, 23638.40it/s]\n",
      "100%|██████████| 10/10 [00:00<00:00, 252.75it/s]\n",
      "100%|██████████| 1000/1000 [00:00<00:00, 23142.14it/s]\n",
      "100%|██████████| 10/10 [00:00<00:00, 248.16it/s]\n",
      "100%|██████████| 1000/1000 [00:00<00:00, 23310.88it/s]\n",
      "100%|██████████| 10/10 [00:00<00:00, 245.74it/s]\n",
      "100%|██████████| 1000/1000 [00:00<00:00, 23729.34it/s]\n",
      "100%|██████████| 10/10 [00:00<00:00, 245.59it/s]\n",
      "100%|██████████| 1000/1000 [00:00<00:00, 24091.07it/s]\n",
      "100%|██████████| 10/10 [00:00<00:00, 243.57it/s]\n",
      "100%|██████████| 1000/1000 [00:00<00:00, 23907.89it/s]\n",
      "100%|██████████| 10/10 [00:00<00:00, 251.49it/s]\n",
      "100%|██████████| 1000/1000 [00:00<00:00, 22508.15it/s]\n",
      "100%|██████████| 10/10 [00:00<00:00, 229.27it/s]\n",
      "100%|██████████| 1000/1000 [00:00<00:00, 21856.03it/s]\n",
      "100%|██████████| 10/10 [00:00<00:00, 250.42it/s]\n",
      "100%|██████████| 1000/1000 [00:00<00:00, 23325.01it/s]\n",
      "100%|██████████| 10/10 [00:00<00:00, 244.41it/s]\n",
      "100%|██████████| 1000/1000 [00:00<00:00, 23832.36it/s]\n",
      "100%|██████████| 10/10 [00:00<00:00, 246.99it/s]\n",
      "100%|██████████| 1000/1000 [00:00<00:00, 22391.48it/s]\n",
      "100%|██████████| 10/10 [00:00<00:00, 246.22it/s]\n",
      "100%|██████████| 1000/1000 [00:00<00:00, 22301.47it/s]\n",
      "100%|██████████| 10/10 [00:00<00:00, 240.75it/s]\n",
      "100%|██████████| 1000/1000 [00:00<00:00, 23387.44it/s]\n",
      "100%|██████████| 10/10 [00:00<00:00, 245.75it/s]\n",
      "100%|██████████| 1000/1000 [00:00<00:00, 22694.36it/s]\n",
      "100%|██████████| 10/10 [00:00<00:00, 243.11it/s]\n",
      "100%|██████████| 1000/1000 [00:00<00:00, 22868.46it/s]\n",
      "100%|██████████| 10/10 [00:00<00:00, 251.95it/s]\n",
      "100%|██████████| 1000/1000 [00:00<00:00, 23914.57it/s]\n",
      "100%|██████████| 10/10 [00:00<00:00, 250.98it/s]\n",
      "100%|██████████| 1000/1000 [00:00<00:00, 24364.52it/s]\n",
      "100%|██████████| 10/10 [00:00<00:00, 210.26it/s]\n",
      "100%|██████████| 1000/1000 [00:00<00:00, 23590.81it/s]\n",
      "100%|██████████| 10/10 [00:00<00:00, 236.97it/s]\n",
      "100%|██████████| 1000/1000 [00:00<00:00, 24089.27it/s]\n",
      "100%|██████████| 10/10 [00:00<00:00, 251.41it/s]\n",
      "100%|██████████| 1000/1000 [00:00<00:00, 24440.62it/s]\n",
      "100%|██████████| 10/10 [00:00<00:00, 247.57it/s]\n",
      "100%|██████████| 1000/1000 [00:00<00:00, 24041.36it/s]\n",
      "100%|██████████| 10/10 [00:00<00:00, 252.56it/s]\n",
      "100%|██████████| 1000/1000 [00:00<00:00, 23717.00it/s]\n",
      "100%|██████████| 10/10 [00:00<00:00, 249.08it/s]\n",
      "100%|██████████| 1000/1000 [00:00<00:00, 23133.58it/s]\n",
      "100%|██████████| 10/10 [00:00<00:00, 247.72it/s]\n",
      "100%|██████████| 1000/1000 [00:00<00:00, 23439.07it/s]\n",
      "100%|██████████| 10/10 [00:00<00:00, 246.47it/s]\n",
      "100%|██████████| 1000/1000 [00:00<00:00, 23423.10it/s]\n",
      "100%|██████████| 10/10 [00:00<00:00, 242.36it/s]\n",
      "100%|██████████| 1000/1000 [00:00<00:00, 22229.13it/s]\n",
      "100%|██████████| 10/10 [00:00<00:00, 247.39it/s]\n",
      "100%|██████████| 1000/1000 [00:00<00:00, 23508.17it/s]\n",
      "100%|██████████| 10/10 [00:00<00:00, 249.45it/s]\n",
      "100%|██████████| 1000/1000 [00:00<00:00, 23834.52it/s]\n",
      "100%|██████████| 10/10 [00:00<00:00, 250.39it/s]\n",
      "100%|██████████| 1000/1000 [00:00<00:00, 23688.20it/s]\n",
      "100%|██████████| 10/10 [00:00<00:00, 252.30it/s]\n",
      "100%|██████████| 1000/1000 [00:00<00:00, 22813.98it/s]\n",
      "100%|██████████| 10/10 [00:00<00:00, 250.32it/s]\n",
      "100%|██████████| 1000/1000 [00:00<00:00, 23721.29it/s]\n",
      "100%|██████████| 10/10 [00:00<00:00, 242.48it/s]\n",
      "100%|██████████| 1000/1000 [00:00<00:00, 23737.54it/s]\n",
      "100%|██████████| 10/10 [00:00<00:00, 242.94it/s]\n",
      "100%|██████████| 1000/1000 [00:00<00:00, 23434.88it/s]\n",
      "100%|██████████| 10/10 [00:00<00:00, 244.98it/s]\n",
      "100%|██████████| 1000/1000 [00:00<00:00, 23220.80it/s]\n",
      "100%|██████████| 10/10 [00:00<00:00, 182.68it/s]\n",
      "100%|██████████| 1000/1000 [00:00<00:00, 22949.54it/s]\n",
      "100%|██████████| 10/10 [00:00<00:00, 245.58it/s]\n",
      "100%|██████████| 1000/1000 [00:00<00:00, 22907.55it/s]\n",
      "100%|██████████| 10/10 [00:00<00:00, 248.43it/s]\n",
      "100%|██████████| 1000/1000 [00:00<00:00, 23077.71it/s]\n",
      "100%|██████████| 10/10 [00:00<00:00, 252.26it/s]\n",
      "100%|██████████| 1000/1000 [00:00<00:00, 23379.62it/s]\n",
      "100%|██████████| 10/10 [00:00<00:00, 251.01it/s]\n",
      "100%|██████████| 1000/1000 [00:00<00:00, 23879.30it/s]\n",
      "100%|██████████| 10/10 [00:00<00:00, 253.12it/s]\n",
      "100%|██████████| 1000/1000 [00:00<00:00, 23890.73it/s]\n",
      "100%|██████████| 10/10 [00:00<00:00, 247.58it/s]\n",
      "100%|██████████| 1000/1000 [00:00<00:00, 23390.83it/s]\n",
      "100%|██████████| 10/10 [00:00<00:00, 244.33it/s]\n",
      "100%|██████████| 1000/1000 [00:00<00:00, 23634.41it/s]\n",
      "100%|██████████| 10/10 [00:00<00:00, 253.71it/s]\n",
      "100%|██████████| 1000/1000 [00:00<00:00, 23587.09it/s]\n",
      "100%|██████████| 10/10 [00:00<00:00, 246.45it/s]\n",
      "100%|██████████| 1000/1000 [00:00<00:00, 23356.58it/s]\n",
      "100%|██████████| 10/10 [00:00<00:00, 250.17it/s]\n",
      "100%|██████████| 1000/1000 [00:00<00:00, 23727.06it/s]\n",
      "100%|██████████| 10/10 [00:00<00:00, 250.34it/s]\n",
      "100%|██████████| 1000/1000 [00:00<00:00, 23644.53it/s]\n",
      "100%|██████████| 10/10 [00:00<00:00, 251.08it/s]\n",
      "100%|██████████| 1000/1000 [00:00<00:00, 23203.72it/s]\n",
      "100%|██████████| 10/10 [00:00<00:00, 251.35it/s]\n",
      "100%|██████████| 1000/1000 [00:00<00:00, 23940.50it/s]\n",
      "100%|██████████| 10/10 [00:00<00:00, 247.25it/s]\n",
      "100%|██████████| 1000/1000 [00:00<00:00, 24074.34it/s]\n",
      "100%|██████████| 10/10 [00:00<00:00, 251.99it/s]\n",
      "100%|██████████| 1000/1000 [00:00<00:00, 23733.91it/s]\n",
      "100%|██████████| 10/10 [00:00<00:00, 256.31it/s]\n",
      "100%|██████████| 1000/1000 [00:00<00:00, 23282.80it/s]\n",
      "100%|██████████| 10/10 [00:00<00:00, 250.20it/s]\n",
      "100%|██████████| 1000/1000 [00:00<00:00, 24111.99it/s]\n",
      "100%|██████████| 10/10 [00:00<00:00, 250.17it/s]\n",
      "100%|██████████| 1000/1000 [00:00<00:00, 23777.50it/s]\n",
      "100%|██████████| 10/10 [00:00<00:00, 255.24it/s]\n",
      "100%|██████████| 1000/1000 [00:00<00:00, 23974.44it/s]\n",
      "100%|██████████| 10/10 [00:00<00:00, 254.36it/s]\n",
      "100%|██████████| 1000/1000 [00:00<00:00, 23480.27it/s]\n",
      "100%|██████████| 10/10 [00:00<00:00, 253.91it/s]\n",
      "100%|██████████| 1000/1000 [00:00<00:00, 23856.21it/s]\n",
      "100%|██████████| 10/10 [00:00<00:00, 253.51it/s]\n",
      "100%|██████████| 1000/1000 [00:00<00:00, 22809.39it/s]\n",
      "100%|██████████| 10/10 [00:00<00:00, 249.02it/s]\n",
      "100%|██████████| 1000/1000 [00:00<00:00, 24130.02it/s]\n",
      "100%|██████████| 10/10 [00:00<00:00, 246.28it/s]\n",
      "100%|██████████| 1000/1000 [00:00<00:00, 23786.67it/s]\n",
      "100%|██████████| 10/10 [00:00<00:00, 247.56it/s]\n",
      "100%|██████████| 1000/1000 [00:00<00:00, 23452.17it/s]\n",
      "100%|██████████| 10/10 [00:00<00:00, 248.38it/s]\n",
      "100%|██████████| 1000/1000 [00:00<00:00, 23855.94it/s]\n",
      "100%|██████████| 10/10 [00:00<00:00, 247.82it/s]\n",
      "100%|██████████| 1000/1000 [00:00<00:00, 23580.06it/s]\n",
      "100%|██████████| 10/10 [00:00<00:00, 244.58it/s]\n",
      "100%|██████████| 1000/1000 [00:00<00:00, 23626.82it/s]\n",
      "100%|██████████| 10/10 [00:00<00:00, 244.29it/s]\n",
      "100%|██████████| 1000/1000 [00:00<00:00, 22703.94it/s]\n",
      "100%|██████████| 10/10 [00:00<00:00, 247.25it/s]\n",
      "100%|██████████| 1000/1000 [00:00<00:00, 23103.64it/s]\n",
      "100%|██████████| 10/10 [00:00<00:00, 241.08it/s]\n",
      "100%|██████████| 1000/1000 [00:00<00:00, 23805.71it/s]\n",
      "100%|██████████| 10/10 [00:00<00:00, 246.71it/s]\n",
      "100%|██████████| 1000/1000 [00:00<00:00, 23823.56it/s]\n",
      "100%|██████████| 10/10 [00:00<00:00, 248.37it/s]\n",
      "100%|██████████| 1000/1000 [00:00<00:00, 23343.06it/s]\n",
      "100%|██████████| 10/10 [00:00<00:00, 253.28it/s]\n",
      "100%|██████████| 1000/1000 [00:00<00:00, 23601.29it/s]\n",
      "100%|██████████| 10/10 [00:00<00:00, 253.27it/s]\n",
      "100%|██████████| 1000/1000 [00:00<00:00, 24076.69it/s]\n",
      "100%|██████████| 10/10 [00:00<00:00, 242.86it/s]\n",
      "100%|██████████| 1000/1000 [00:00<00:00, 22617.39it/s]\n",
      "100%|██████████| 10/10 [00:00<00:00, 239.53it/s]\n",
      "100%|██████████| 1000/1000 [00:00<00:00, 22970.15it/s]\n",
      "100%|██████████| 10/10 [00:00<00:00, 233.68it/s]\n",
      "100%|██████████| 1000/1000 [00:00<00:00, 22908.05it/s]\n",
      "100%|██████████| 10/10 [00:00<00:00, 238.41it/s]\n",
      "100%|██████████| 1000/1000 [00:00<00:00, 22742.23it/s]\n",
      "100%|██████████| 10/10 [00:00<00:00, 241.23it/s]\n",
      "100%|██████████| 1000/1000 [00:00<00:00, 23280.74it/s]\n",
      "100%|██████████| 10/10 [00:00<00:00, 245.48it/s]\n",
      "100%|██████████| 1000/1000 [00:00<00:00, 23263.30it/s]\n",
      "100%|██████████| 10/10 [00:00<00:00, 247.79it/s]\n",
      "100%|██████████| 1000/1000 [00:00<00:00, 23654.00it/s]\n",
      "100%|██████████| 10/10 [00:00<00:00, 235.59it/s]\n",
      "100%|██████████| 1000/1000 [00:00<00:00, 23859.06it/s]\n",
      "100%|██████████| 10/10 [00:00<00:00, 250.73it/s]\n",
      "100%|██████████| 1000/1000 [00:00<00:00, 24131.13it/s]\n",
      "100%|██████████| 10/10 [00:00<00:00, 247.78it/s]\n",
      "100%|██████████| 1000/1000 [00:00<00:00, 23192.43it/s]\n",
      "100%|██████████| 10/10 [00:00<00:00, 248.72it/s]\n",
      "100%|██████████| 1000/1000 [00:00<00:00, 23074.41it/s]\n",
      "100%|██████████| 10/10 [00:00<00:00, 244.14it/s]\n",
      "100%|██████████| 1000/1000 [00:00<00:00, 22899.30it/s]\n",
      "100%|██████████| 10/10 [00:00<00:00, 238.72it/s]\n",
      "100%|██████████| 1000/1000 [00:00<00:00, 23157.09it/s]\n",
      "100%|██████████| 10/10 [00:00<00:00, 251.18it/s]\n",
      "100%|██████████| 1000/1000 [00:00<00:00, 23938.86it/s]\n",
      "100%|██████████| 10/10 [00:00<00:00, 256.05it/s]\n",
      "100%|██████████| 1000/1000 [00:00<00:00, 23568.01it/s]\n",
      "100%|██████████| 10/10 [00:00<00:00, 243.95it/s]\n",
      "100%|██████████| 1000/1000 [00:00<00:00, 22967.76it/s]\n",
      "100%|██████████| 10/10 [00:00<00:00, 246.90it/s]\n",
      "100%|██████████| 1000/1000 [00:00<00:00, 23194.74it/s]\n",
      "100%|██████████| 10/10 [00:00<00:00, 247.19it/s]\n",
      "100%|██████████| 1000/1000 [00:00<00:00, 24108.24it/s]\n",
      "100%|██████████| 10/10 [00:00<00:00, 248.37it/s]\n",
      "100%|██████████| 1000/1000 [00:00<00:00, 24101.32it/s]\n",
      "100%|██████████| 10/10 [00:00<00:00, 244.64it/s]\n",
      "100%|██████████| 1000/1000 [00:00<00:00, 23660.41it/s]\n",
      "100%|██████████| 10/10 [00:00<00:00, 249.45it/s]\n",
      "100%|██████████| 1000/1000 [00:00<00:00, 23915.25it/s]\n",
      "100%|██████████| 10/10 [00:00<00:00, 251.89it/s]\n",
      "100%|██████████| 1000/1000 [00:00<00:00, 23688.87it/s]\n",
      "100%|██████████| 10/10 [00:00<00:00, 244.27it/s]\n",
      "100%|██████████| 1000/1000 [00:00<00:00, 23246.67it/s]\n",
      "100%|██████████| 10/10 [00:00<00:00, 251.37it/s]\n",
      "100%|██████████| 1000/1000 [00:00<00:00, 23965.40it/s]\n",
      "100%|██████████| 10/10 [00:00<00:00, 247.14it/s]\n",
      "100%|██████████| 1000/1000 [00:00<00:00, 23595.72it/s]\n",
      "100%|██████████| 10/10 [00:00<00:00, 249.64it/s]\n",
      "100%|██████████| 1000/1000 [00:00<00:00, 22631.91it/s]\n",
      "100%|██████████| 10/10 [00:00<00:00, 246.83it/s]\n",
      "100%|██████████| 1000/1000 [00:00<00:00, 24018.23it/s]\n",
      "100%|██████████| 10/10 [00:00<00:00, 253.46it/s]\n",
      "100%|██████████| 1000/1000 [00:00<00:00, 23804.22it/s]\n",
      "100%|██████████| 10/10 [00:00<00:00, 249.75it/s]\n",
      "100%|██████████| 1000/1000 [00:00<00:00, 23619.24it/s]\n",
      "100%|██████████| 10/10 [00:00<00:00, 215.84it/s]\n",
      "100%|██████████| 1000/1000 [00:00<00:00, 24069.92it/s]\n",
      "100%|██████████| 10/10 [00:00<00:00, 255.41it/s]\n",
      "100%|██████████| 1000/1000 [00:00<00:00, 22762.22it/s]\n",
      "100%|██████████| 10/10 [00:00<00:00, 247.65it/s]\n",
      "100%|██████████| 1000/1000 [00:00<00:00, 22011.45it/s]\n",
      "100%|██████████| 10/10 [00:00<00:00, 238.40it/s]\n",
      "100%|██████████| 1000/1000 [00:00<00:00, 22983.50it/s]\n",
      "100%|██████████| 10/10 [00:00<00:00, 238.36it/s]\n",
      "100%|██████████| 1000/1000 [00:00<00:00, 22799.84it/s]\n",
      "100%|██████████| 10/10 [00:00<00:00, 241.18it/s]\n",
      "100%|██████████| 1000/1000 [00:00<00:00, 22993.95it/s]\n",
      "100%|██████████| 10/10 [00:00<00:00, 239.22it/s]\n",
      "100%|██████████| 1000/1000 [00:00<00:00, 22834.10it/s]\n",
      "100%|██████████| 10/10 [00:00<00:00, 218.17it/s]\n",
      "100%|██████████| 1000/1000 [00:00<00:00, 22691.54it/s]\n",
      "100%|██████████| 10/10 [00:00<00:00, 237.38it/s]\n",
      "100%|██████████| 1000/1000 [00:00<00:00, 23111.15it/s]\n",
      "100%|██████████| 10/10 [00:00<00:00, 239.14it/s]\n",
      "100%|██████████| 1000/1000 [00:00<00:00, 23155.81it/s]\n",
      "100%|██████████| 10/10 [00:00<00:00, 239.97it/s]\n",
      "100%|██████████| 1000/1000 [00:00<00:00, 22323.31it/s]\n",
      "100%|██████████| 10/10 [00:00<00:00, 236.80it/s]\n",
      "100%|██████████| 1000/1000 [00:00<00:00, 22701.73it/s]\n",
      "100%|██████████| 10/10 [00:00<00:00, 235.65it/s]\n",
      "100%|██████████| 1000/1000 [00:00<00:00, 22367.47it/s]\n",
      "100%|██████████| 10/10 [00:00<00:00, 240.17it/s]\n",
      "100%|██████████| 1000/1000 [00:00<00:00, 22310.72it/s]\n",
      "100%|██████████| 10/10 [00:00<00:00, 238.18it/s]\n",
      "100%|██████████| 1000/1000 [00:00<00:00, 23070.09it/s]\n",
      "100%|██████████| 10/10 [00:00<00:00, 238.89it/s]\n",
      "100%|██████████| 1000/1000 [00:00<00:00, 23264.47it/s]\n",
      "100%|██████████| 10/10 [00:00<00:00, 243.71it/s]\n",
      "100%|██████████| 1000/1000 [00:00<00:00, 23030.06it/s]\n",
      "100%|██████████| 10/10 [00:00<00:00, 240.43it/s]\n",
      "100%|██████████| 1000/1000 [00:00<00:00, 22707.51it/s]\n",
      "100%|██████████| 10/10 [00:00<00:00, 234.54it/s]\n",
      "100%|██████████| 1000/1000 [00:00<00:00, 22253.43it/s]\n",
      "100%|██████████| 10/10 [00:00<00:00, 227.10it/s]\n",
      "100%|██████████| 1000/1000 [00:00<00:00, 22614.34it/s]\n",
      "100%|██████████| 10/10 [00:00<00:00, 234.21it/s]\n",
      "100%|██████████| 1000/1000 [00:00<00:00, 22717.59it/s]\n",
      "100%|██████████| 10/10 [00:00<00:00, 237.33it/s]\n",
      "100%|██████████| 1000/1000 [00:00<00:00, 22101.34it/s]\n",
      "100%|██████████| 10/10 [00:00<00:00, 239.49it/s]\n",
      "100%|██████████| 1000/1000 [00:00<00:00, 22043.15it/s]\n",
      "100%|██████████| 10/10 [00:00<00:00, 241.50it/s]\n",
      "100%|██████████| 1000/1000 [00:00<00:00, 23023.24it/s]\n",
      "100%|██████████| 10/10 [00:00<00:00, 238.10it/s]\n",
      "100%|██████████| 1000/1000 [00:00<00:00, 23072.38it/s]\n",
      "100%|██████████| 10/10 [00:00<00:00, 231.47it/s]\n",
      "100%|██████████| 1000/1000 [00:00<00:00, 21326.50it/s]\n",
      "100%|██████████| 10/10 [00:00<00:00, 235.46it/s]\n",
      "100%|██████████| 1000/1000 [00:00<00:00, 22418.88it/s]\n",
      "100%|██████████| 10/10 [00:00<00:00, 209.25it/s]\n",
      "100%|██████████| 1000/1000 [00:00<00:00, 22895.80it/s]\n",
      "100%|██████████| 10/10 [00:00<00:00, 242.33it/s]\n",
      "100%|██████████| 1000/1000 [00:00<00:00, 23001.77it/s]\n",
      "100%|██████████| 10/10 [00:00<00:00, 243.14it/s]\n",
      "100%|██████████| 1000/1000 [00:00<00:00, 23129.50it/s]\n",
      "100%|██████████| 10/10 [00:00<00:00, 239.80it/s]\n",
      "100%|██████████| 1000/1000 [00:00<00:00, 22396.38it/s]\n",
      "100%|██████████| 10/10 [00:00<00:00, 239.21it/s]\n",
      "100%|██████████| 1000/1000 [00:00<00:00, 22952.81it/s]\n",
      "100%|██████████| 10/10 [00:00<00:00, 231.96it/s]\n",
      "100%|██████████| 1000/1000 [00:00<00:00, 23154.91it/s]\n",
      "100%|██████████| 10/10 [00:00<00:00, 238.96it/s]\n",
      "100%|██████████| 1000/1000 [00:00<00:00, 22694.49it/s]\n",
      "100%|██████████| 10/10 [00:00<00:00, 238.51it/s]\n",
      "100%|██████████| 1000/1000 [00:00<00:00, 22600.08it/s]\n",
      "100%|██████████| 10/10 [00:00<00:00, 237.94it/s]\n",
      "100%|██████████| 1000/1000 [00:00<00:00, 22748.64it/s]\n",
      "100%|██████████| 10/10 [00:00<00:00, 241.09it/s]\n",
      "100%|██████████| 1000/1000 [00:00<00:00, 22133.88it/s]\n",
      "100%|██████████| 10/10 [00:00<00:00, 234.38it/s]\n",
      "100%|██████████| 1000/1000 [00:00<00:00, 22610.07it/s]\n",
      "100%|██████████| 10/10 [00:00<00:00, 236.67it/s]\n",
      "100%|██████████| 1000/1000 [00:00<00:00, 22677.80it/s]\n",
      "100%|██████████| 10/10 [00:00<00:00, 241.34it/s]\n",
      "100%|██████████| 1000/1000 [00:00<00:00, 23058.80it/s]\n",
      "100%|██████████| 10/10 [00:00<00:00, 239.16it/s]\n",
      "100%|██████████| 1000/1000 [00:00<00:00, 22905.43it/s]\n",
      "100%|██████████| 10/10 [00:00<00:00, 234.53it/s]\n",
      "100%|██████████| 1000/1000 [00:00<00:00, 23022.86it/s]\n",
      "100%|██████████| 10/10 [00:00<00:00, 232.34it/s]\n",
      "100%|██████████| 1000/1000 [00:00<00:00, 22623.00it/s]\n",
      "100%|██████████| 10/10 [00:00<00:00, 240.07it/s]\n",
      "100%|██████████| 1000/1000 [00:00<00:00, 22526.16it/s]\n",
      "100%|██████████| 10/10 [00:00<00:00, 235.99it/s]\n",
      "100%|██████████| 1000/1000 [00:00<00:00, 23004.55it/s]\n",
      "100%|██████████| 10/10 [00:00<00:00, 241.42it/s]\n",
      "100%|██████████| 1000/1000 [00:00<00:00, 22904.30it/s]\n",
      "100%|██████████| 10/10 [00:00<00:00, 237.97it/s]\n",
      "100%|██████████| 1000/1000 [00:00<00:00, 22830.00it/s]\n",
      "100%|██████████| 10/10 [00:00<00:00, 231.25it/s]\n",
      "100%|██████████| 1000/1000 [00:00<00:00, 21908.55it/s]\n",
      "100%|██████████| 10/10 [00:00<00:00, 229.60it/s]\n",
      "100%|██████████| 1000/1000 [00:00<00:00, 22799.84it/s]\n",
      "100%|██████████| 10/10 [00:00<00:00, 241.83it/s]\n",
      "100%|██████████| 1000/1000 [00:00<00:00, 22580.49it/s]\n",
      "100%|██████████| 10/10 [00:00<00:00, 239.47it/s]\n",
      "100%|██████████| 1000/1000 [00:00<00:00, 22587.42it/s]\n",
      "100%|██████████| 10/10 [00:00<00:00, 239.48it/s]\n",
      "100%|██████████| 1000/1000 [00:00<00:00, 22016.65it/s]\n",
      "100%|██████████| 10/10 [00:00<00:00, 227.82it/s]\n",
      "100%|██████████| 1000/1000 [00:00<00:00, 22294.95it/s]\n",
      "100%|██████████| 10/10 [00:00<00:00, 236.42it/s]\n",
      "100%|██████████| 1000/1000 [00:00<00:00, 22358.65it/s]\n",
      "100%|██████████| 10/10 [00:00<00:00, 234.68it/s]\n",
      "100%|██████████| 1000/1000 [00:00<00:00, 22665.67it/s]\n",
      "100%|██████████| 10/10 [00:00<00:00, 224.01it/s]\n",
      "100%|██████████| 1000/1000 [00:00<00:00, 22110.54it/s]\n",
      "100%|██████████| 10/10 [00:00<00:00, 236.96it/s]\n",
      "100%|██████████| 1000/1000 [00:00<00:00, 22724.86it/s]\n",
      "100%|██████████| 10/10 [00:00<00:00, 243.53it/s]\n",
      "100%|██████████| 1000/1000 [00:00<00:00, 22324.14it/s]\n",
      "100%|██████████| 10/10 [00:00<00:00, 235.12it/s]\n",
      "100%|██████████| 1000/1000 [00:00<00:00, 21020.60it/s]\n",
      "100%|██████████| 10/10 [00:00<00:00, 224.60it/s]\n",
      "100%|██████████| 1000/1000 [00:00<00:00, 22357.58it/s]\n",
      "100%|██████████| 10/10 [00:00<00:00, 232.98it/s]\n",
      "100%|██████████| 1000/1000 [00:00<00:00, 22235.26it/s]\n",
      "100%|██████████| 10/10 [00:00<00:00, 232.95it/s]\n",
      "100%|██████████| 1000/1000 [00:00<00:00, 22447.80it/s]\n",
      "100%|██████████| 10/10 [00:00<00:00, 232.32it/s]\n",
      "100%|██████████| 1000/1000 [00:00<00:00, 22851.76it/s]\n",
      "100%|██████████| 10/10 [00:00<00:00, 233.31it/s]\n",
      "100%|██████████| 1000/1000 [00:00<00:00, 21785.31it/s]\n",
      "100%|██████████| 10/10 [00:00<00:00, 224.17it/s]\n",
      "100%|██████████| 1000/1000 [00:00<00:00, 22562.88it/s]\n",
      "100%|██████████| 10/10 [00:00<00:00, 234.08it/s]\n",
      "100%|██████████| 1000/1000 [00:00<00:00, 22271.03it/s]\n",
      "100%|██████████| 10/10 [00:00<00:00, 234.28it/s]\n",
      "100%|██████████| 1000/1000 [00:00<00:00, 22727.81it/s]\n",
      "100%|██████████| 10/10 [00:00<00:00, 236.88it/s]\n",
      "100%|██████████| 1000/1000 [00:00<00:00, 23109.75it/s]\n",
      "100%|██████████| 10/10 [00:00<00:00, 240.06it/s]\n",
      "100%|██████████| 1000/1000 [00:00<00:00, 22721.78it/s]\n",
      "100%|██████████| 10/10 [00:00<00:00, 234.56it/s]\n",
      "100%|██████████| 1000/1000 [00:00<00:00, 22624.46it/s]\n",
      "100%|██████████| 10/10 [00:00<00:00, 236.86it/s]\n",
      "100%|██████████| 1000/1000 [00:00<00:00, 22171.32it/s]\n",
      "100%|██████████| 10/10 [00:00<00:00, 243.23it/s]\n",
      "100%|██████████| 1000/1000 [00:00<00:00, 22001.29it/s]\n",
      "100%|██████████| 10/10 [00:00<00:00, 234.27it/s]\n",
      "100%|██████████| 1000/1000 [00:00<00:00, 22640.34it/s]\n",
      "100%|██████████| 10/10 [00:00<00:00, 243.45it/s]\n",
      "100%|██████████| 1000/1000 [00:00<00:00, 22909.30it/s]\n",
      "100%|██████████| 10/10 [00:00<00:00, 231.38it/s]\n",
      "100%|██████████| 1000/1000 [00:00<00:00, 22421.64it/s]\n",
      "100%|██████████| 10/10 [00:00<00:00, 236.84it/s]\n",
      "100%|██████████| 1000/1000 [00:00<00:00, 21972.25it/s]\n",
      "100%|██████████| 10/10 [00:00<00:00, 238.17it/s]\n",
      "100%|██████████| 1000/1000 [00:00<00:00, 22242.81it/s]\n",
      "100%|██████████| 10/10 [00:00<00:00, 238.90it/s]\n",
      "100%|██████████| 1000/1000 [00:00<00:00, 22842.30it/s]\n",
      "100%|██████████| 10/10 [00:00<00:00, 243.78it/s]\n",
      "100%|██████████| 1000/1000 [00:00<00:00, 22554.99it/s]\n",
      "100%|██████████| 10/10 [00:00<00:00, 239.93it/s]\n",
      "100%|██████████| 1000/1000 [00:00<00:00, 23077.07it/s]\n",
      "100%|██████████| 10/10 [00:00<00:00, 236.32it/s]\n",
      "100%|██████████| 1000/1000 [00:00<00:00, 22869.21it/s]\n",
      "100%|██████████| 10/10 [00:00<00:00, 239.58it/s]\n",
      "100%|██████████| 1000/1000 [00:00<00:00, 22144.51it/s]\n",
      "100%|██████████| 10/10 [00:00<00:00, 231.89it/s]\n",
      "100%|██████████| 1000/1000 [00:00<00:00, 22458.26it/s]\n",
      "100%|██████████| 10/10 [00:00<00:00, 239.03it/s]\n",
      "100%|██████████| 1000/1000 [00:00<00:00, 22314.76it/s]\n",
      "100%|██████████| 10/10 [00:00<00:00, 240.94it/s]\n",
      "100%|██████████| 1000/1000 [00:00<00:00, 22673.38it/s]\n",
      "100%|██████████| 10/10 [00:00<00:00, 239.67it/s]\n",
      "100%|██████████| 1000/1000 [00:00<00:00, 22786.71it/s]\n",
      "100%|██████████| 10/10 [00:00<00:00, 239.67it/s]\n",
      "100%|██████████| 1000/1000 [00:00<00:00, 22812.61it/s]\n",
      "100%|██████████| 10/10 [00:00<00:00, 235.60it/s]\n",
      "100%|██████████| 1000/1000 [00:00<00:00, 22728.55it/s]\n",
      "100%|██████████| 10/10 [00:00<00:00, 241.43it/s]\n",
      "100%|██████████| 1000/1000 [00:00<00:00, 22677.31it/s]\n",
      "100%|██████████| 10/10 [00:00<00:00, 233.98it/s]\n",
      "100%|██████████| 1000/1000 [00:00<00:00, 22730.77it/s]\n",
      "100%|██████████| 10/10 [00:00<00:00, 240.04it/s]\n",
      "100%|██████████| 1000/1000 [00:00<00:00, 22634.84it/s]\n",
      "100%|██████████| 10/10 [00:00<00:00, 234.24it/s]\n",
      "100%|██████████| 1000/1000 [00:00<00:00, 23017.30it/s]\n",
      "100%|██████████| 10/10 [00:00<00:00, 239.12it/s]\n",
      "100%|██████████| 1000/1000 [00:00<00:00, 23448.50it/s]\n",
      "100%|██████████| 10/10 [00:00<00:00, 237.39it/s]\n",
      "100%|██████████| 1000/1000 [00:00<00:00, 21920.46it/s]\n",
      "100%|██████████| 10/10 [00:00<00:00, 238.86it/s]\n",
      "100%|██████████| 1000/1000 [00:00<00:00, 22698.91it/s]\n",
      "100%|██████████| 10/10 [00:00<00:00, 239.58it/s]\n",
      "100%|██████████| 1000/1000 [00:00<00:00, 22464.15it/s]\n",
      "100%|██████████| 10/10 [00:00<00:00, 229.04it/s]\n",
      "100%|██████████| 1000/1000 [00:00<00:00, 21031.88it/s]\n",
      "100%|██████████| 10/10 [00:00<00:00, 234.80it/s]\n",
      "100%|██████████| 1000/1000 [00:00<00:00, 22434.59it/s]\n",
      "100%|██████████| 10/10 [00:00<00:00, 229.66it/s]\n",
      "100%|██████████| 1000/1000 [00:00<00:00, 22940.63it/s]\n",
      "100%|██████████| 10/10 [00:00<00:00, 242.22it/s]\n",
      "100%|██████████| 1000/1000 [00:00<00:00, 23034.62it/s]\n",
      "100%|██████████| 10/10 [00:00<00:00, 240.75it/s]\n",
      "100%|██████████| 1000/1000 [00:00<00:00, 22431.23it/s]\n",
      "100%|██████████| 10/10 [00:00<00:00, 239.10it/s]\n",
      "100%|██████████| 1000/1000 [00:00<00:00, 22349.00it/s]\n",
      "100%|██████████| 10/10 [00:00<00:00, 228.54it/s]\n",
      "100%|██████████| 1000/1000 [00:00<00:00, 20239.46it/s]\n",
      "100%|██████████| 10/10 [00:00<00:00, 209.48it/s]\n",
      "100%|██████████| 1000/1000 [00:00<00:00, 19815.77it/s]\n",
      "100%|██████████| 10/10 [00:00<00:00, 212.34it/s]\n",
      "100%|██████████| 1000/1000 [00:00<00:00, 19537.74it/s]\n",
      "100%|██████████| 10/10 [00:00<00:00, 212.15it/s]\n",
      "100%|██████████| 1000/1000 [00:00<00:00, 20489.50it/s]\n",
      "100%|██████████| 10/10 [00:00<00:00, 213.37it/s]\n",
      "100%|██████████| 1000/1000 [00:00<00:00, 20313.17it/s]\n",
      "100%|██████████| 10/10 [00:00<00:00, 214.46it/s]\n",
      "100%|██████████| 1000/1000 [00:00<00:00, 20033.93it/s]\n",
      "100%|██████████| 10/10 [00:00<00:00, 211.67it/s]\n",
      "100%|██████████| 1000/1000 [00:00<00:00, 20291.35it/s]\n",
      "100%|██████████| 10/10 [00:00<00:00, 207.71it/s]\n",
      "100%|██████████| 1000/1000 [00:00<00:00, 20274.78it/s]\n",
      "100%|██████████| 10/10 [00:00<00:00, 213.70it/s]\n",
      "100%|██████████| 1000/1000 [00:00<00:00, 20223.45it/s]\n",
      "100%|██████████| 10/10 [00:00<00:00, 212.46it/s]\n",
      "100%|██████████| 1000/1000 [00:00<00:00, 19873.51it/s]\n",
      "100%|██████████| 10/10 [00:00<00:00, 203.92it/s]\n",
      "100%|██████████| 1000/1000 [00:00<00:00, 20162.40it/s]\n",
      "100%|██████████| 10/10 [00:00<00:00, 204.57it/s]\n",
      "100%|██████████| 1000/1000 [00:00<00:00, 19826.07it/s]\n",
      "100%|██████████| 10/10 [00:00<00:00, 203.41it/s]\n",
      "100%|██████████| 1000/1000 [00:00<00:00, 20178.12it/s]\n",
      "100%|██████████| 10/10 [00:00<00:00, 210.75it/s]\n",
      "100%|██████████| 1000/1000 [00:00<00:00, 20173.36it/s]\n",
      "100%|██████████| 10/10 [00:00<00:00, 214.13it/s]\n",
      "100%|██████████| 1000/1000 [00:00<00:00, 20334.34it/s]\n",
      "100%|██████████| 10/10 [00:00<00:00, 214.45it/s]\n",
      "100%|██████████| 1000/1000 [00:00<00:00, 20327.54it/s]\n",
      "100%|██████████| 10/10 [00:00<00:00, 211.86it/s]\n",
      "100%|██████████| 1000/1000 [00:00<00:00, 20286.05it/s]\n",
      "100%|██████████| 10/10 [00:00<00:00, 209.10it/s]\n",
      "100%|██████████| 1000/1000 [00:00<00:00, 20614.98it/s]\n",
      "100%|██████████| 10/10 [00:00<00:00, 216.93it/s]\n",
      "100%|██████████| 1000/1000 [00:00<00:00, 20463.61it/s]\n",
      "100%|██████████| 10/10 [00:00<00:00, 214.35it/s]\n",
      "100%|██████████| 1000/1000 [00:00<00:00, 20301.57it/s]\n",
      "100%|██████████| 10/10 [00:00<00:00, 212.19it/s]\n",
      "100%|██████████| 1000/1000 [00:00<00:00, 20102.97it/s]\n",
      "100%|██████████| 10/10 [00:00<00:00, 215.18it/s]\n",
      "100%|██████████| 1000/1000 [00:00<00:00, 20116.66it/s]\n",
      "100%|██████████| 10/10 [00:00<00:00, 212.84it/s]\n",
      "100%|██████████| 1000/1000 [00:00<00:00, 20549.13it/s]\n",
      "100%|██████████| 10/10 [00:00<00:00, 200.87it/s]\n",
      "100%|██████████| 1000/1000 [00:00<00:00, 20160.17it/s]\n",
      "100%|██████████| 10/10 [00:00<00:00, 142.46it/s]\n",
      "100%|██████████| 1000/1000 [00:00<00:00, 16639.90it/s]\n",
      "100%|██████████| 10/10 [00:00<00:00, 187.29it/s]\n",
      "100%|██████████| 1000/1000 [00:00<00:00, 19670.51it/s]\n",
      "100%|██████████| 10/10 [00:00<00:00, 207.02it/s]\n",
      "100%|██████████| 1000/1000 [00:00<00:00, 19676.70it/s]\n",
      "100%|██████████| 10/10 [00:00<00:00, 203.73it/s]\n",
      "100%|██████████| 1000/1000 [00:00<00:00, 19850.28it/s]\n",
      "100%|██████████| 10/10 [00:00<00:00, 209.25it/s]\n",
      "100%|██████████| 1000/1000 [00:00<00:00, 20055.77it/s]\n",
      "100%|██████████| 10/10 [00:00<00:00, 210.69it/s]\n",
      "100%|██████████| 1000/1000 [00:00<00:00, 20076.22it/s]\n",
      "100%|██████████| 10/10 [00:00<00:00, 209.74it/s]\n",
      "100%|██████████| 1000/1000 [00:00<00:00, 20272.82it/s]\n",
      "100%|██████████| 10/10 [00:00<00:00, 213.42it/s]\n",
      "100%|██████████| 1000/1000 [00:00<00:00, 20143.42it/s]\n",
      "100%|██████████| 10/10 [00:00<00:00, 207.88it/s]\n",
      "100%|██████████| 1000/1000 [00:00<00:00, 20683.50it/s]\n",
      "100%|██████████| 10/10 [00:00<00:00, 214.24it/s]\n",
      "100%|██████████| 1000/1000 [00:00<00:00, 20232.04it/s]\n",
      "100%|██████████| 10/10 [00:00<00:00, 211.98it/s]\n",
      "100%|██████████| 1000/1000 [00:00<00:00, 18685.95it/s]\n",
      "100%|██████████| 10/10 [00:00<00:00, 197.83it/s]\n",
      "100%|██████████| 1000/1000 [00:00<00:00, 20118.98it/s]\n",
      "100%|██████████| 10/10 [00:00<00:00, 208.43it/s]\n",
      "100%|██████████| 1000/1000 [00:00<00:00, 20162.40it/s]\n",
      "100%|██████████| 10/10 [00:00<00:00, 211.19it/s]\n",
      "100%|██████████| 1000/1000 [00:00<00:00, 19726.76it/s]\n",
      "100%|██████████| 10/10 [00:00<00:00, 206.60it/s]\n",
      "100%|██████████| 1000/1000 [00:00<00:00, 19696.75it/s]\n",
      "100%|██████████| 10/10 [00:00<00:00, 207.89it/s]\n",
      "100%|██████████| 1000/1000 [00:00<00:00, 19773.07it/s]\n",
      "100%|██████████| 10/10 [00:00<00:00, 203.81it/s]\n",
      "100%|██████████| 1000/1000 [00:00<00:00, 19857.89it/s]\n",
      "100%|██████████| 10/10 [00:00<00:00, 207.87it/s]\n",
      "100%|██████████| 1000/1000 [00:00<00:00, 20162.50it/s]\n",
      "100%|██████████| 10/10 [00:00<00:00, 210.83it/s]\n",
      "100%|██████████| 1000/1000 [00:00<00:00, 20152.91it/s]\n",
      "100%|██████████| 10/10 [00:00<00:00, 213.63it/s]\n",
      "100%|██████████| 1000/1000 [00:00<00:00, 19753.61it/s]\n",
      "100%|██████████| 10/10 [00:00<00:00, 211.90it/s]\n",
      "100%|██████████| 1000/1000 [00:00<00:00, 20165.12it/s]\n",
      "100%|██████████| 10/10 [00:00<00:00, 203.95it/s]\n",
      "100%|██████████| 1000/1000 [00:00<00:00, 20496.41it/s]\n",
      "100%|██████████| 10/10 [00:00<00:00, 201.60it/s]\n",
      "100%|██████████| 1000/1000 [00:00<00:00, 19471.17it/s]\n",
      "100%|██████████| 10/10 [00:00<00:00, 208.89it/s]\n",
      "100%|██████████| 1000/1000 [00:00<00:00, 20007.08it/s]\n",
      "100%|██████████| 10/10 [00:00<00:00, 209.97it/s]\n",
      "100%|██████████| 1000/1000 [00:00<00:00, 20075.55it/s]\n",
      "100%|██████████| 10/10 [00:00<00:00, 208.68it/s]\n",
      "100%|██████████| 1000/1000 [00:00<00:00, 20507.64it/s]\n",
      "100%|██████████| 10/10 [00:00<00:00, 214.47it/s]\n",
      "100%|██████████| 1000/1000 [00:00<00:00, 20713.84it/s]\n",
      "100%|██████████| 10/10 [00:00<00:00, 212.65it/s]\n",
      "100%|██████████| 1000/1000 [00:00<00:00, 20218.97it/s]\n",
      "100%|██████████| 10/10 [00:00<00:00, 213.12it/s]\n",
      "100%|██████████| 1000/1000 [00:00<00:00, 20339.47it/s]\n",
      "100%|██████████| 10/10 [00:00<00:00, 209.63it/s]\n",
      "100%|██████████| 1000/1000 [00:00<00:00, 20384.94it/s]\n",
      "100%|██████████| 10/10 [00:00<00:00, 204.27it/s]\n",
      "100%|██████████| 1000/1000 [00:00<00:00, 19864.85it/s]\n",
      "100%|██████████| 10/10 [00:00<00:00, 212.97it/s]\n",
      "100%|██████████| 1000/1000 [00:00<00:00, 19964.51it/s]\n",
      "100%|██████████| 10/10 [00:00<00:00, 210.13it/s]\n",
      "100%|██████████| 1000/1000 [00:00<00:00, 20301.96it/s]\n",
      "100%|██████████| 10/10 [00:00<00:00, 206.90it/s]\n",
      "100%|██████████| 1000/1000 [00:00<00:00, 20664.65it/s]\n",
      "100%|██████████| 10/10 [00:00<00:00, 201.99it/s]\n",
      "100%|██████████| 1000/1000 [00:00<00:00, 17133.17it/s]\n",
      "100%|██████████| 10/10 [00:00<00:00, 190.72it/s]\n",
      "100%|██████████| 1000/1000 [00:00<00:00, 18361.36it/s]\n",
      "100%|██████████| 10/10 [00:00<00:00, 197.17it/s]\n",
      "100%|██████████| 1000/1000 [00:00<00:00, 19507.66it/s]\n",
      "100%|██████████| 10/10 [00:00<00:00, 211.40it/s]\n",
      "100%|██████████| 1000/1000 [00:00<00:00, 19500.86it/s]\n",
      "100%|██████████| 10/10 [00:00<00:00, 186.00it/s]\n",
      "100%|██████████| 1000/1000 [00:00<00:00, 19617.61it/s]\n",
      "100%|██████████| 10/10 [00:00<00:00, 187.05it/s]\n",
      "100%|██████████| 1000/1000 [00:00<00:00, 20254.02it/s]\n",
      "100%|██████████| 10/10 [00:00<00:00, 209.03it/s]\n",
      "100%|██████████| 1000/1000 [00:00<00:00, 20256.56it/s]\n",
      "100%|██████████| 10/10 [00:00<00:00, 214.61it/s]\n",
      "100%|██████████| 1000/1000 [00:00<00:00, 20316.42it/s]\n",
      "100%|██████████| 10/10 [00:00<00:00, 204.21it/s]\n",
      "100%|██████████| 1000/1000 [00:00<00:00, 19975.16it/s]\n",
      "100%|██████████| 10/10 [00:00<00:00, 202.21it/s]\n",
      "100%|██████████| 1000/1000 [00:00<00:00, 19979.16it/s]\n",
      "100%|██████████| 10/10 [00:00<00:00, 208.66it/s]\n",
      "100%|██████████| 1000/1000 [00:00<00:00, 19703.96it/s]\n",
      "100%|██████████| 10/10 [00:00<00:00, 209.99it/s]\n",
      "100%|██████████| 1000/1000 [00:00<00:00, 20229.31it/s]\n",
      "100%|██████████| 10/10 [00:00<00:00, 204.33it/s]\n",
      "100%|██████████| 1000/1000 [00:00<00:00, 19318.89it/s]\n",
      "100%|██████████| 10/10 [00:00<00:00, 201.01it/s]\n",
      "100%|██████████| 1000/1000 [00:00<00:00, 20089.59it/s]\n",
      "100%|██████████| 10/10 [00:00<00:00, 212.03it/s]\n",
      "100%|██████████| 1000/1000 [00:00<00:00, 20088.62it/s]\n",
      "100%|██████████| 10/10 [00:00<00:00, 210.51it/s]\n",
      "100%|██████████| 1000/1000 [00:00<00:00, 20270.66it/s]\n",
      "100%|██████████| 10/10 [00:00<00:00, 207.76it/s]\n",
      "100%|██████████| 1000/1000 [00:00<00:00, 20566.67it/s]\n",
      "100%|██████████| 10/10 [00:00<00:00, 215.77it/s]\n",
      "100%|██████████| 1000/1000 [00:00<00:00, 20176.08it/s]\n",
      "100%|██████████| 10/10 [00:00<00:00, 209.92it/s]\n",
      "100%|██████████| 1000/1000 [00:00<00:00, 20455.13it/s]\n",
      "100%|██████████| 10/10 [00:00<00:00, 214.49it/s]\n",
      "100%|██████████| 1000/1000 [00:00<00:00, 20444.96it/s]\n",
      "100%|██████████| 10/10 [00:00<00:00, 214.43it/s]\n",
      "100%|██████████| 1000/1000 [00:00<00:00, 20602.12it/s]\n",
      "100%|██████████| 10/10 [00:00<00:00, 209.72it/s]\n",
      "100%|██████████| 1000/1000 [00:00<00:00, 20320.06it/s]\n",
      "100%|██████████| 10/10 [00:00<00:00, 217.28it/s]\n",
      "100%|██████████| 1000/1000 [00:00<00:00, 20745.29it/s]\n",
      "100%|██████████| 10/10 [00:00<00:00, 213.05it/s]\n",
      "100%|██████████| 1000/1000 [00:00<00:00, 19595.25it/s]\n",
      "100%|██████████| 10/10 [00:00<00:00, 212.40it/s]\n",
      "100%|██████████| 1000/1000 [00:00<00:00, 20329.51it/s]\n",
      "100%|██████████| 10/10 [00:00<00:00, 214.71it/s]\n",
      "100%|██████████| 1000/1000 [00:00<00:00, 20434.90it/s]\n",
      "100%|██████████| 10/10 [00:00<00:00, 209.50it/s]\n",
      "100%|██████████| 1000/1000 [00:00<00:00, 19861.37it/s]\n",
      "100%|██████████| 10/10 [00:00<00:00, 215.21it/s]\n",
      "100%|██████████| 1000/1000 [00:00<00:00, 20183.94it/s]\n",
      "100%|██████████| 10/10 [00:00<00:00, 213.75it/s]\n",
      "100%|██████████| 1000/1000 [00:00<00:00, 20248.74it/s]\n",
      "100%|██████████| 10/10 [00:00<00:00, 210.01it/s]\n",
      "100%|██████████| 1000/1000 [00:00<00:00, 20375.83it/s]\n",
      "100%|██████████| 10/10 [00:00<00:00, 208.32it/s]\n",
      "100%|██████████| 1000/1000 [00:00<00:00, 20348.06it/s]\n",
      "100%|██████████| 10/10 [00:00<00:00, 213.72it/s]\n",
      "100%|██████████| 1000/1000 [00:00<00:00, 20334.54it/s]\n",
      "100%|██████████| 10/10 [00:00<00:00, 210.75it/s]\n",
      "100%|██████████| 1000/1000 [00:00<00:00, 20003.55it/s]\n",
      "100%|██████████| 10/10 [00:00<00:00, 211.61it/s]\n",
      "100%|██████████| 1000/1000 [00:00<00:00, 20587.26it/s]\n",
      "100%|██████████| 10/10 [00:00<00:00, 213.44it/s]\n",
      "100%|██████████| 1000/1000 [00:00<00:00, 19996.21it/s]\n",
      "100%|██████████| 10/10 [00:00<00:00, 202.69it/s]\n",
      "100%|██████████| 1000/1000 [00:00<00:00, 20296.56it/s]\n",
      "100%|██████████| 10/10 [00:00<00:00, 210.30it/s]\n",
      "100%|██████████| 1000/1000 [00:00<00:00, 20138.88it/s]\n",
      "100%|██████████| 10/10 [00:00<00:00, 212.47it/s]\n",
      "100%|██████████| 1000/1000 [00:00<00:00, 20388.11it/s]\n",
      "100%|██████████| 10/10 [00:00<00:00, 185.02it/s]\n",
      "100%|██████████| 1000/1000 [00:00<00:00, 18579.58it/s]\n",
      "100%|██████████| 10/10 [00:00<00:00, 204.43it/s]\n",
      "100%|██████████| 1000/1000 [00:00<00:00, 20266.06it/s]\n",
      "100%|██████████| 10/10 [00:00<00:00, 205.28it/s]\n",
      "100%|██████████| 1000/1000 [00:00<00:00, 19881.52it/s]\n",
      "100%|██████████| 10/10 [00:00<00:00, 209.23it/s]\n",
      "100%|██████████| 1000/1000 [00:00<00:00, 20412.23it/s]\n",
      "100%|██████████| 10/10 [00:00<00:00, 216.85it/s]\n"
     ]
    }
   ],
   "source": [
    "mutation_rates = [0.005, 0.01, 0.05, 0.1, 0.2, 0.5]\n",
    "n_trials = 100\n",
    "n_gens = 1000\n",
    "\n",
    "fits_1 = []\n",
    "fits_𝜆 = []\n",
    "\n",
    "for rate in mutation_rates:\n",
    "    fits_1_rate = []\n",
    "    fits_𝜆_rate = []\n",
    "    \n",
    "    for _ in range(n_trials):\n",
    "        fits_1_trial = one_plus_one(n, n_gens, onemax, mutation_rate=rate)[-1]\n",
    "        fits_𝜆_trial = one_plus_lambda(n, int(n_gens/𝜆), onemax, 𝜆, mutation_rate=rate)[-1]\n",
    "        \n",
    "        fits_1_rate.append(fits_1_trial)\n",
    "        fits_𝜆_rate.append(fits_𝜆_trial)\n",
    "    \n",
    "    fits_1.append(fits_1_rate)\n",
    "    fits_𝜆.append(fits_𝜆_rate)"
   ]
  },
  {
   "cell_type": "code",
   "execution_count": 123,
   "metadata": {},
   "outputs": [
    {
     "data": {
      "image/png": "[encoded data removed]",
      "text/plain": [
       "<Figure size 1000x600 with 1 Axes>"
      ]
     },
     "metadata": {},
     "output_type": "display_data"
    }
   ],
   "source": [
    "plt.figure(figsize=(10, 6))\n",
    "plt.boxplot(fits_1, positions=np.arange(len(mutation_rates))-0.15, widths=0.3, showfliers=False, patch_artist=True, boxprops=dict(facecolor='b'))\n",
    "plt.boxplot(fits_𝜆, positions=np.arange(len(mutation_rates))+0.15, widths=0.3, showfliers=False, patch_artist=True, boxprops=dict(facecolor='g'))\n",
    "plt.xticks(np.arange(len(mutation_rates)), mutation_rates)\n",
    "plt.xlabel(\"Mutation Rate\")\n",
    "plt.ylabel(\"Fitness\")\n",
    "plt.title(\"Effect of Mutation Rate on (1+1) and (1+lambda) EA\")\n",
    "plt.legend([\"(1+1) EA\", \"(1+lambda) EA\"])\n",
    "plt.show()"
   ]
  }
 ],
 "metadata": {
  "@webio": {
   "lastCommId": null,
   "lastKernelId": null
  },
  "celltoolbar": "Slideshow",
  "kernelspec": {
   "display_name": "Python 3 (ipykernel)",
   "language": "python",
   "name": "python3"
  },
  "language_info": {
   "codemirror_mode": {
    "name": "ipython",
    "version": 3
   },
   "file_extension": ".py",
   "mimetype": "text/x-python",
   "name": "python",
   "nbconvert_exporter": "python",
   "pygments_lexer": "ipython3",
   "version": "3.11.5"
  }
 },
 "nbformat": 4,
 "nbformat_minor": 2
}
